{
 "cells": [
  {
   "cell_type": "markdown",
   "metadata": {},
   "source": [
    "# Local sensitivity"
   ]
  },
  {
   "cell_type": "markdown",
   "metadata": {},
   "source": [
    "The goal of this notebook is to implement the calculation of local sensitvity form scratch. It is benchmarked against the results of the global sensitivity from my previos [blog post](https://github.com/gonzalo-munillag/Blog/blob/main/My_implementations/Global_sensitivity/Global_Sensitivity.ipynb). \n",
    "\n",
    "Local sensitivity differs from global sensitivity in that it considers only the dataset to be released, and not all the possible release datasets. Furthermore, you only calculate the neighbors of the release dataset, and not of all possible datasets. And it is only with these neighbors and the release dataset that you find the maximum norm. \n",
    "Global sensitibvity is therefore an upper bound of local sensitivity. \n",
    "\n",
    "### Contributions of notebook\n",
    "\n",
    "1. Two functions to calculate the local sensitivity of a dataset empirically.\n",
    "2. Comparisons between local and global sensitivity results.\n",
    "\n",
    "### Mean questions for clarification\n",
    "- If local sensitivity would imply less noise due to its smaller value, then why do we not always use local sensitvity?  If for each dataset you would calculate its particular loca sensitvity, then adversary could also take that into consideration when plotting noise distributions of the different possible dataset release combinations. These distributions would have a lower std, and thus, once the adversary gets a query DP result, it would be easier for him/her to discard possible release datasets (A visual representation of this process carried out by an attacker is in the [paper](https://git.gnunet.org/bibliography.git/plain/docs/Choosing-%CE%B5-2011Lee.pdf) I implemented 2 blog posts ago, depicted in Figs. 1 and 3). That is why some researchers invented smooth bounds for local sensitivities, but that is something I will cover in future blog posts.\n",
    "\n",
    "**TIP**: The best way to understand this notebook better is to open my previous [blog post](https://github.com/gonzalo-munillag/Blog/blob/main/My_implementations/Global_sensitivity/Global_Sensitivity.ipynb) and go the visualizations of scenario (a), and to cell 25 for unbounded and cell 33 for unbounded sensitvity in order to compare the raw data."
   ]
  },
  {
   "cell_type": "markdown",
   "metadata": {},
   "source": [
    "## Datasets"
   ]
  },
  {
   "cell_type": "code",
   "execution_count": 1,
   "metadata": {},
   "outputs": [
    {
     "name": "stdout",
     "output_type": "stream",
     "text": [
      "Populating the interactive namespace from numpy and matplotlib\n"
     ]
    }
   ],
   "source": [
    "# Visualization\n",
    "%pylab inline\n",
    "from IPython.display import display, Math, Latex\n",
    "import matplotlib.pyplot as plt\n",
    "\n",
    "# handling data\n",
    "import csv\n",
    "import json\n",
    "import pandas as pd\n",
    "\n",
    "# Math\n",
    "from random import random\n",
    "import scipy.stats as ss\n",
    "import numpy as np\n",
    "import itertools\n",
    "from collections import Counter "
   ]
  },
  {
   "cell_type": "markdown",
   "metadata": {},
   "source": [
    "### Datasets"
   ]
  },
  {
   "cell_type": "markdown",
   "metadata": {},
   "source": [
    "We have 2 datsets to test our function:\n",
    "- (a_s) A small one I can use to benchmark our functions against a published paper [\"How much is enough? Choosing epsilon for Differential Privacy\"](https://git.gnunet.org/bibliography.git/plain/docs/Choosing-%CE%B5-2011Lee.pdf). Which was implemented in on of my previous [blog posts](https://github.com/gonzalo-munillag/Blog/tree/main/Extant_Papers_Implementations/A_method_to_choose_epsilon).\n",
    "- (a_l) A large one to test the functions further.\n",
    "\n",
    "The use case will be records from the students in a school."
   ]
  },
  {
   "cell_type": "markdown",
   "metadata": {},
   "source": [
    "###### D_small "
   ]
  },
  {
   "cell_type": "code",
   "execution_count": 2,
   "metadata": {},
   "outputs": [],
   "source": [
    "# We define the actual dataset (conforming the universe)\n",
    "D_small_universe_dict = {'name': ['Chris', 'Kelly', 'Pat', 'Terry'], 'school_year': [1, 2, 3, 4], 'absence_days': [1, 2, 3, 10]}"
   ]
  },
  {
   "cell_type": "code",
   "execution_count": 3,
   "metadata": {},
   "outputs": [
    {
     "data": {
      "text/html": [
       "<div>\n",
       "<style scoped>\n",
       "    .dataframe tbody tr th:only-of-type {\n",
       "        vertical-align: middle;\n",
       "    }\n",
       "\n",
       "    .dataframe tbody tr th {\n",
       "        vertical-align: top;\n",
       "    }\n",
       "\n",
       "    .dataframe thead th {\n",
       "        text-align: right;\n",
       "    }\n",
       "</style>\n",
       "<table border=\"1\" class=\"dataframe\">\n",
       "  <thead>\n",
       "    <tr style=\"text-align: right;\">\n",
       "      <th></th>\n",
       "      <th>name</th>\n",
       "      <th>school_year</th>\n",
       "      <th>absence_days</th>\n",
       "    </tr>\n",
       "  </thead>\n",
       "  <tbody>\n",
       "    <tr>\n",
       "      <th>0</th>\n",
       "      <td>Chris</td>\n",
       "      <td>1</td>\n",
       "      <td>1</td>\n",
       "    </tr>\n",
       "    <tr>\n",
       "      <th>1</th>\n",
       "      <td>Kelly</td>\n",
       "      <td>2</td>\n",
       "      <td>2</td>\n",
       "    </tr>\n",
       "    <tr>\n",
       "      <th>2</th>\n",
       "      <td>Pat</td>\n",
       "      <td>3</td>\n",
       "      <td>3</td>\n",
       "    </tr>\n",
       "    <tr>\n",
       "      <th>3</th>\n",
       "      <td>Terry</td>\n",
       "      <td>4</td>\n",
       "      <td>10</td>\n",
       "    </tr>\n",
       "  </tbody>\n",
       "</table>\n",
       "</div>"
      ],
      "text/plain": [
       "    name  school_year  absence_days\n",
       "0  Chris            1             1\n",
       "1  Kelly            2             2\n",
       "2    Pat            3             3\n",
       "3  Terry            4            10"
      ]
     },
     "execution_count": 3,
     "metadata": {},
     "output_type": "execute_result"
    }
   ],
   "source": [
    "D_small_universe = pd.DataFrame(D_small_universe_dict)\n",
    "D_small_universe"
   ]
  },
  {
   "cell_type": "code",
   "execution_count": 4,
   "metadata": {
    "scrolled": true
   },
   "outputs": [
    {
     "data": {
      "text/html": [
       "<div>\n",
       "<style scoped>\n",
       "    .dataframe tbody tr th:only-of-type {\n",
       "        vertical-align: middle;\n",
       "    }\n",
       "\n",
       "    .dataframe tbody tr th {\n",
       "        vertical-align: top;\n",
       "    }\n",
       "\n",
       "    .dataframe thead th {\n",
       "        text-align: right;\n",
       "    }\n",
       "</style>\n",
       "<table border=\"1\" class=\"dataframe\">\n",
       "  <thead>\n",
       "    <tr style=\"text-align: right;\">\n",
       "      <th></th>\n",
       "      <th>name</th>\n",
       "      <th>school_year</th>\n",
       "      <th>absence_days</th>\n",
       "    </tr>\n",
       "  </thead>\n",
       "  <tbody>\n",
       "    <tr>\n",
       "      <th>0</th>\n",
       "      <td>Chris</td>\n",
       "      <td>1</td>\n",
       "      <td>1</td>\n",
       "    </tr>\n",
       "    <tr>\n",
       "      <th>1</th>\n",
       "      <td>Kelly</td>\n",
       "      <td>2</td>\n",
       "      <td>2</td>\n",
       "    </tr>\n",
       "    <tr>\n",
       "      <th>2</th>\n",
       "      <td>Pat</td>\n",
       "      <td>3</td>\n",
       "      <td>3</td>\n",
       "    </tr>\n",
       "  </tbody>\n",
       "</table>\n",
       "</div>"
      ],
      "text/plain": [
       "    name  school_year  absence_days\n",
       "0  Chris            1             1\n",
       "1  Kelly            2             2\n",
       "2    Pat            3             3"
      ]
     },
     "execution_count": 4,
     "metadata": {},
     "output_type": "execute_result"
    }
   ],
   "source": [
    "# We define the the dataset that we will release\n",
    "D_small_release = D_small_universe.drop([3], axis=0)\n",
    "D_small_release"
   ]
  },
  {
   "cell_type": "markdown",
   "metadata": {},
   "source": [
    "The adversary model adopted in the paper mentioned above is the worst-case scenario and it will be the one I adopted in this notebook: An attacker has infinite computation power, and because DP provides privacy given adversaries with arbitrary background knowledge, it is okay to assume that the adversary has full access to all the records (adversary knows all the universe, i.e. D_a_small_universe). But there is a dataset made from the universe without an individual (D_a_small_release), and the adversary does not know who is and who is not in it (this is the only thing the adversary does not know about the universe), but the adversary knows D_a_small_release contains people with a particular quality (the students who have not been in probation). With D_a_small_universe, the attacker will try to reconstruct the dataset he does not know (D_a_small_release) by employing queries on D_a_small_release without having access to it."
   ]
  },
  {
   "cell_type": "markdown",
   "metadata": {},
   "source": [
    "###### D_a_large"
   ]
  },
  {
   "cell_type": "markdown",
   "metadata": {},
   "source": [
    "The larger dataset for the universe is used to test the functions with a hamming distance >1 and with a universe with duplicated values both in the univese and the release, which does not mean are the same records."
   ]
  },
  {
   "cell_type": "code",
   "execution_count": 5,
   "metadata": {},
   "outputs": [],
   "source": [
    "# We define the actual dataset (conforming the universe)\n",
    "D_large_universe_dict = {'name': ['Chris', 'Kelly', 'Keny', 'Sherry', 'Jerry', 'Morty', \"Beth\", \"Summer\", \"Squanchy\", \"Rick\"], \\\n",
    "                     'school_year': [1, 2, 2, 2, 5, 5, 7, 8, 9, 9], 'absence_days': [1, 2, 3, 4, 5, 6, 7, 8, 15, 20]}"
   ]
  },
  {
   "cell_type": "code",
   "execution_count": 6,
   "metadata": {},
   "outputs": [
    {
     "data": {
      "text/html": [
       "<div>\n",
       "<style scoped>\n",
       "    .dataframe tbody tr th:only-of-type {\n",
       "        vertical-align: middle;\n",
       "    }\n",
       "\n",
       "    .dataframe tbody tr th {\n",
       "        vertical-align: top;\n",
       "    }\n",
       "\n",
       "    .dataframe thead th {\n",
       "        text-align: right;\n",
       "    }\n",
       "</style>\n",
       "<table border=\"1\" class=\"dataframe\">\n",
       "  <thead>\n",
       "    <tr style=\"text-align: right;\">\n",
       "      <th></th>\n",
       "      <th>name</th>\n",
       "      <th>school_year</th>\n",
       "      <th>absence_days</th>\n",
       "    </tr>\n",
       "  </thead>\n",
       "  <tbody>\n",
       "    <tr>\n",
       "      <th>0</th>\n",
       "      <td>Chris</td>\n",
       "      <td>1</td>\n",
       "      <td>1</td>\n",
       "    </tr>\n",
       "    <tr>\n",
       "      <th>1</th>\n",
       "      <td>Kelly</td>\n",
       "      <td>2</td>\n",
       "      <td>2</td>\n",
       "    </tr>\n",
       "    <tr>\n",
       "      <th>2</th>\n",
       "      <td>Keny</td>\n",
       "      <td>2</td>\n",
       "      <td>3</td>\n",
       "    </tr>\n",
       "    <tr>\n",
       "      <th>3</th>\n",
       "      <td>Sherry</td>\n",
       "      <td>2</td>\n",
       "      <td>4</td>\n",
       "    </tr>\n",
       "    <tr>\n",
       "      <th>4</th>\n",
       "      <td>Jerry</td>\n",
       "      <td>5</td>\n",
       "      <td>5</td>\n",
       "    </tr>\n",
       "    <tr>\n",
       "      <th>5</th>\n",
       "      <td>Morty</td>\n",
       "      <td>5</td>\n",
       "      <td>6</td>\n",
       "    </tr>\n",
       "    <tr>\n",
       "      <th>6</th>\n",
       "      <td>Beth</td>\n",
       "      <td>7</td>\n",
       "      <td>7</td>\n",
       "    </tr>\n",
       "    <tr>\n",
       "      <th>7</th>\n",
       "      <td>Summer</td>\n",
       "      <td>8</td>\n",
       "      <td>8</td>\n",
       "    </tr>\n",
       "    <tr>\n",
       "      <th>8</th>\n",
       "      <td>Squanchy</td>\n",
       "      <td>9</td>\n",
       "      <td>15</td>\n",
       "    </tr>\n",
       "    <tr>\n",
       "      <th>9</th>\n",
       "      <td>Rick</td>\n",
       "      <td>9</td>\n",
       "      <td>20</td>\n",
       "    </tr>\n",
       "  </tbody>\n",
       "</table>\n",
       "</div>"
      ],
      "text/plain": [
       "       name  school_year  absence_days\n",
       "0     Chris            1             1\n",
       "1     Kelly            2             2\n",
       "2      Keny            2             3\n",
       "3    Sherry            2             4\n",
       "4     Jerry            5             5\n",
       "5     Morty            5             6\n",
       "6      Beth            7             7\n",
       "7    Summer            8             8\n",
       "8  Squanchy            9            15\n",
       "9      Rick            9            20"
      ]
     },
     "execution_count": 6,
     "metadata": {},
     "output_type": "execute_result"
    }
   ],
   "source": [
    "D_large_universe = pd.DataFrame(D_large_universe_dict)\n",
    "D_large_universe"
   ]
  },
  {
   "cell_type": "code",
   "execution_count": 7,
   "metadata": {
    "scrolled": true
   },
   "outputs": [
    {
     "data": {
      "text/html": [
       "<div>\n",
       "<style scoped>\n",
       "    .dataframe tbody tr th:only-of-type {\n",
       "        vertical-align: middle;\n",
       "    }\n",
       "\n",
       "    .dataframe tbody tr th {\n",
       "        vertical-align: top;\n",
       "    }\n",
       "\n",
       "    .dataframe thead th {\n",
       "        text-align: right;\n",
       "    }\n",
       "</style>\n",
       "<table border=\"1\" class=\"dataframe\">\n",
       "  <thead>\n",
       "    <tr style=\"text-align: right;\">\n",
       "      <th></th>\n",
       "      <th>name</th>\n",
       "      <th>school_year</th>\n",
       "      <th>absence_days</th>\n",
       "    </tr>\n",
       "  </thead>\n",
       "  <tbody>\n",
       "    <tr>\n",
       "      <th>0</th>\n",
       "      <td>Chris</td>\n",
       "      <td>1</td>\n",
       "      <td>1</td>\n",
       "    </tr>\n",
       "    <tr>\n",
       "      <th>1</th>\n",
       "      <td>Kelly</td>\n",
       "      <td>2</td>\n",
       "      <td>2</td>\n",
       "    </tr>\n",
       "    <tr>\n",
       "      <th>2</th>\n",
       "      <td>Keny</td>\n",
       "      <td>2</td>\n",
       "      <td>3</td>\n",
       "    </tr>\n",
       "    <tr>\n",
       "      <th>3</th>\n",
       "      <td>Sherry</td>\n",
       "      <td>2</td>\n",
       "      <td>4</td>\n",
       "    </tr>\n",
       "    <tr>\n",
       "      <th>4</th>\n",
       "      <td>Jerry</td>\n",
       "      <td>5</td>\n",
       "      <td>5</td>\n",
       "    </tr>\n",
       "    <tr>\n",
       "      <th>5</th>\n",
       "      <td>Morty</td>\n",
       "      <td>5</td>\n",
       "      <td>6</td>\n",
       "    </tr>\n",
       "  </tbody>\n",
       "</table>\n",
       "</div>"
      ],
      "text/plain": [
       "     name  school_year  absence_days\n",
       "0   Chris            1             1\n",
       "1   Kelly            2             2\n",
       "2    Keny            2             3\n",
       "3  Sherry            2             4\n",
       "4   Jerry            5             5\n",
       "5   Morty            5             6"
      ]
     },
     "execution_count": 7,
     "metadata": {},
     "output_type": "execute_result"
    }
   ],
   "source": [
    "# We define the the dataset that we will release\n",
    "D_large_release = D_large_universe.iloc[:6,:]\n",
    "D_large_release"
   ]
  },
  {
   "cell_type": "markdown",
   "metadata": {},
   "source": [
    "## Functions"
   ]
  },
  {
   "cell_type": "markdown",
   "metadata": {},
   "source": [
    "### Auxiliary function"
   ]
  },
  {
   "cell_type": "markdown",
   "metadata": {},
   "source": [
    "##### Here we have all the queries we could make to the numerical data"
   ]
  },
  {
   "cell_type": "code",
   "execution_count": 8,
   "metadata": {
    "scrolled": true
   },
   "outputs": [],
   "source": [
    "# With this funciton, we can make easier to call the mean, median... functions\n",
    "# REF: https://stackoverflow.com/questions/34794634/how-to-use-a-variable-as-function-name-in-python\n",
    "# It is not clean to have the var percentile input each function, but it is less verbose than having a function\n",
    "# For each percentile. We could however limit the maount of percentiles offer to 25 and 75.\n",
    "class Query_class:  \n",
    "    \"\"\"\n",
    "    A class used to represent a query. YOu instantiate an object that will perform a particlar query on an array\n",
    "\n",
    "    Attributes\n",
    "    ----------\n",
    "    fDic - (dict) containing the possible queries the class can be transformed into\n",
    "    fActive - (function) it contins the function we created the class to have\n",
    "\n",
    "    Methods\n",
    "    -------\n",
    "    \n",
    "    run_query - I will run the query for which we instantiated the class\n",
    "    The other methods implement the different possible queries\n",
    "    \n",
    "    \"\"\"\n",
    "    \n",
    "    def __init__(self, fCase):\n",
    "        \n",
    "        # mapping: string --> variable = function name\n",
    "        fDic = {'mean':self._mean,         \n",
    "                'median':self._median,\n",
    "                'count': self._count,\n",
    "                'sum': self._sum,\n",
    "                'std': self._std,\n",
    "                'var': self._var,\n",
    "                'percentile': self._percentile}\n",
    "        \n",
    "        self.fActive = fDic[fCase]\n",
    "    \n",
    "    # Calculate the mean of an array\n",
    "    def _mean(self, array, percentile): \n",
    "\n",
    "        return np.mean(array)\n",
    "    \n",
    "    # Calculate the median of an array\n",
    "    def _median(self, array, percentile): \n",
    "        \n",
    "        return np.median(array)\n",
    "            \n",
    "    # Calculate the number of elements in the array\n",
    "    def _count(self, array, percentile):\n",
    "        \n",
    "        return len(array)\n",
    "    \n",
    "    # Calculate the sum of an array\n",
    "    def _sum(self, array, percentile):\n",
    "        \n",
    "        return np.sum(array)\n",
    "    \n",
    "    # Calculate the std of an array\n",
    "    def _std(self, array, percentile):\n",
    "        \n",
    "        return np.std(array)\n",
    "    \n",
    "    # Calculate the variance of an array\n",
    "    def _var(self, array, percentile):\n",
    "        \n",
    "        return np.var(array)\n",
    "    \n",
    "    def _percentile(self, array, percentile):\n",
    "\n",
    "        return np.percentile(array, percentile)\n",
    "    \n",
    "    # It will run the given query\n",
    "    def run_query(self, array, percentile=50):\n",
    "        \n",
    "        return self.fActive(array, percentile)"
   ]
  },
  {
   "cell_type": "code",
   "execution_count": 9,
   "metadata": {},
   "outputs": [],
   "source": [
    "# Set of checks on the input values\n",
    "def verify_sensitivity_inputs(universe_cardinality, universe_subset_cardinality, hamming_distance):\n",
    "    \"\"\"\n",
    "    INPUT:\n",
    "        universe - (df) contains all possible values of the dataset\n",
    "        universe_subset_cardinality - (df) cardinality of the universe subset\n",
    "        hamming_distance - (int) hamming distance between neighboring datasets\n",
    "        \n",
    "    OUTPUT:\n",
    "        ValueError - (str) error message due to the value of the inputs\n",
    "        \n",
    "    Description:\n",
    "    It performs multiple checks to verify the validity of the inputs for the calculation of senstitivity\n",
    "    \"\"\"\n",
    "\n",
    "    # Check on unverse cardinality (1). \n",
    "    # The cardinality of the subset of the universe cannot be larger than the universe \n",
    "\n",
    "    if universe_cardinality < universe_subset_cardinality:\n",
    "\n",
    "        raise ValueError(\"Your universe dataset cannot be smaller than your release dataset.\")\n",
    "    \n",
    "    # Checks on the validity of the chosen hamming_distance (3)\n",
    "    if hamming_distance >= (universe_subset_cardinality):\n",
    "        \n",
    "        raise ValueError(\"Hamming distance chosen is larger than the cardinality of the release dataset.\")\n",
    "\n",
    "    if (hamming_distance > np.abs(universe_cardinality - universe_subset_cardinality)):\n",
    "        \n",
    "        raise ValueError(\"Hamming distance chosen is larger than the difference in cardinalities between the \\\n",
    "        universe and the release dataset, i.e., \\\n",
    "        there are not enough values in your universe to create such a large neighboring dataset (Re-sampling records).\")\n",
    "    \n",
    "    # The hamming distance cannot be 0, then your neighbor dataset is equal to the original dataset\n",
    "    if hamming_distance == 0:\n",
    "\n",
    "        raise ValueError(\"Hamming distance cannot be 0.\")"
   ]
  },
  {
   "cell_type": "code",
   "execution_count": 10,
   "metadata": {},
   "outputs": [],
   "source": [
    "# Used by unbounded unbounded_empirical_global_L1_sensitivity_a\n",
    "def L1_norm_max(release_dataset_query_value, neighbor_datasets, query, percentile):\n",
    "    \"\"\"\n",
    "    INPUT:\n",
    "        release_dataset_query_value - (float) query value of a particular possible release dataset\n",
    "        neighbor_datasets - (list) contains the possible neighbors of the specific release dataset\n",
    "        query - (object) instance of class Query_class\n",
    "        percentile - (int) percentile value for the percentile query\n",
    "\n",
    "        \n",
    "    OUTPUT:\n",
    "        L1_norm_maximum - (float) maximum L1 norm calcuated from the differences between the query results \n",
    "        of the neighbor datasets and the specific release dataset\n",
    "\n",
    "    Description:\n",
    "    It claculates the maximum L1 norm between the query results of the neighbor datasets and the specific release dataset\n",
    "    \"\"\"\n",
    "\n",
    "    neighbor_dataset_query_values = []\n",
    "    for neighbor_dataset in neighbor_datasets:\n",
    "\n",
    "        neighbor_dataset_query_value = query.run_query(neighbor_dataset, percentile)\n",
    "        neighbor_dataset_query_values.append(neighbor_dataset_query_value)\n",
    "\n",
    "    # We select the maximum and minimum values of the queries, as the intermediate values will not \n",
    "    # yield a larger L1 norm (ultimately, we are interested in the maximum L1 norm)\n",
    "    neighbor_dataset_query_value_min, neighbor_dataset_query_value_max = \\\n",
    "    min(neighbor_dataset_query_values), max(neighbor_dataset_query_values)\n",
    "    # We calculate the L1 norm for these two values and pick the maximum\n",
    "    L1_norm_i = np.abs(release_dataset_query_value - neighbor_dataset_query_value_min)\n",
    "    L1_norm_ii = np.abs(release_dataset_query_value - neighbor_dataset_query_value_max)\n",
    "    L1_norm_maximum = max(L1_norm_i, L1_norm_ii)\n",
    "        \n",
    "    return L1_norm_maximum"
   ]
  },
  {
   "cell_type": "code",
   "execution_count": 36,
   "metadata": {},
   "outputs": [],
   "source": [
    "def calculate_unbounded_sensitivities(universe, universe_subset, columns, hamming_distance, unbounded_sensitivities):\n",
    "    \"\"\"\n",
    "    INPUT:\n",
    "        universe - (df or dict) contains all possible values of the dataset\n",
    "        universe_subset - (df) contains subset chosen for the release dataset\n",
    "        columns - (array) contains the names of the columns we would like to obtain the sensitivity from\n",
    "        hamming_distance - (int) hamming distance between neighboring datasets\n",
    "        unbounded_sensitivities - (dict) stores sensitivities per hamming distance and query type\n",
    "    \n",
    "    OUTPUT\n",
    "        unbounded_sensitivities - (dict) stores sensitivities per hamming distance and query type\n",
    "\n",
    "    Description:\n",
    "    It calculates the sensitivities for a set of queries given a universe and a release dataset.\n",
    "    \"\"\"\n",
    "    # Calculate the sensitivity of different queries for the unbounded DP\n",
    "    query_type = 'mean'\n",
    "    mean_unbounded_global_sensitivities = unbounded_empirical_local_L1_sensitivity(universe, universe_subset, columns,  query_type, hamming_distance)\n",
    "    query_type = 'median'\n",
    "    median_unbounded_global_sensitivities = unbounded_empirical_local_L1_sensitivity(universe, universe_subset, columns,  query_type, hamming_distance)\n",
    "    query_type = 'count'\n",
    "    count_unbounded_global_sensitivities = unbounded_empirical_local_L1_sensitivity(universe, universe_subset, columns,  query_type, hamming_distance)\n",
    "    query_type = 'sum'\n",
    "    sum_unbounded_global_sensitivities = unbounded_empirical_local_L1_sensitivity(universe, universe_subset, columns,  query_type, hamming_distance)\n",
    "    query_type = 'std'\n",
    "    std_unbounded_global_sensitivities = unbounded_empirical_local_L1_sensitivity(universe, universe_subset, columns,  query_type, hamming_distance)\n",
    "    query_type = 'var'\n",
    "    var_unbounded_global_sensitivities = unbounded_empirical_local_L1_sensitivity(universe, universe_subset, columns,  query_type, hamming_distance)\n",
    "    query_type = 'percentile'\n",
    "    percentile = 25\n",
    "    percentile_25_unbounded_global_sensitivities = unbounded_empirical_local_L1_sensitivity(universe, universe_subset, columns,  query_type, hamming_distance, percentile)\n",
    "    percentile = 50\n",
    "    percentile_50_unbounded_global_sensitivities = unbounded_empirical_local_L1_sensitivity(universe, universe_subset, columns,  query_type, hamming_distance, percentile)\n",
    "    percentile = 75\n",
    "    percentile_75_unbounded_global_sensitivities = unbounded_empirical_local_L1_sensitivity(universe, universe_subset, columns,  query_type, hamming_distance, percentile)\n",
    "    percentile = 90\n",
    "    percentile_90_unbounded_global_sensitivities = unbounded_empirical_local_L1_sensitivity(universe, universe_subset, columns,  query_type, hamming_distance, percentile)\n",
    "\n",
    "    print('Unbounded sensitivities for mean', mean_unbounded_global_sensitivities)\n",
    "    print('Unbounded sensitivities for median', median_unbounded_global_sensitivities)\n",
    "    print('Unbounded sensitivities for count', count_unbounded_global_sensitivities)\n",
    "    print('Unbounded sensitivities for sum', sum_unbounded_global_sensitivities)\n",
    "    print('Unbounded sensitivities for std', std_unbounded_global_sensitivities)\n",
    "    print('Unbounded sensitivities for var', var_unbounded_global_sensitivities)\n",
    "    print('Unbounded sensitivities for percentile 25', percentile_25_unbounded_global_sensitivities)\n",
    "    print('Unbounded sensitivities for percentile 50', percentile_50_unbounded_global_sensitivities)\n",
    "    print('Unbounded sensitivities for percentile 75', percentile_75_unbounded_global_sensitivities)\n",
    "    print('Unbounded sensitivities for percentile 90', percentile_90_unbounded_global_sensitivities)\n",
    "    \n",
    "    unbounded_sensitivities = build_sensitivity_dict(unbounded_sensitivities, hamming_distance,\\\n",
    "    mean_unbounded_global_sensitivities, median_unbounded_global_sensitivities, count_unbounded_global_sensitivities, \\\n",
    "    sum_unbounded_global_sensitivities, std_unbounded_global_sensitivities, var_unbounded_global_sensitivities, \\\n",
    "    percentile_25_unbounded_global_sensitivities, percentile_50_unbounded_global_sensitivities, \\\n",
    "    percentile_75_unbounded_global_sensitivities, percentile_90_unbounded_global_sensitivities)\n",
    "    \n",
    "    return unbounded_sensitivities"
   ]
  },
  {
   "cell_type": "code",
   "execution_count": 48,
   "metadata": {},
   "outputs": [],
   "source": [
    "def calculate_bounded_sensitivities(universe, universe_subset, columns, hamming_distance, bounded_sensitivities):\n",
    "    \"\"\"\n",
    "    INPUT:\n",
    "        universe - (df or dict) contains all possible values of the dataset\n",
    "        universe_subset - (df) contains subset chosen for the release dataset\n",
    "        columns - (array) contains the names of the columns we would like to obtain the sensitivity from\n",
    "        hamming_distance - (int) hamming distance between neighboring datasets\n",
    "        unbounded_sensitivities - (dict) stores sensitivities per hamming distance and query type\n",
    "    \n",
    "    OUTPUT\n",
    "        bounded_sensitivities - (dict) stores sensitivities per hamming distance and query type\n",
    "\n",
    "    Description:\n",
    "    It calculates the sensitivities for a set of queries given a universe and a release dataset.\n",
    "    \"\"\"\n",
    "    # Calculate the sensitivity of different queries for the unbounded DP\n",
    "    query_type = 'mean'\n",
    "    mean_bounded_global_sensitivities = bounded_empirical_local_L1_sensitivity(universe, universe_subset, columns,  query_type, hamming_distance)\n",
    "    query_type = 'median'\n",
    "    median_bounded_global_sensitivities = bounded_empirical_local_L1_sensitivity(universe, universe_subset, columns,  query_type, hamming_distance)\n",
    "    query_type = 'count'\n",
    "    count_bounded_global_sensitivities = bounded_empirical_local_L1_sensitivity(universe, universe_subset, columns,  query_type, hamming_distance)\n",
    "    query_type = 'sum'\n",
    "    sum_bounded_global_sensitivities = bounded_empirical_local_L1_sensitivity(universe, universe_subset, columns,  query_type, hamming_distance)\n",
    "    query_type = 'std'\n",
    "    std_bounded_global_sensitivities = bounded_empirical_local_L1_sensitivity(universe, universe_subset, columns,  query_type, hamming_distance)\n",
    "    query_type = 'var'\n",
    "    var_bounded_global_sensitivities = bounded_empirical_local_L1_sensitivity(universe, universe_subset, columns,  query_type, hamming_distance)\n",
    "    query_type = 'percentile'\n",
    "    percentile = 25\n",
    "    percentile_25_bounded_global_sensitivities = bounded_empirical_local_L1_sensitivity(universe, universe_subset, columns,  query_type, hamming_distance, percentile)\n",
    "    percentile = 50\n",
    "    percentile_50_bounded_global_sensitivities = bounded_empirical_local_L1_sensitivity(universe, universe_subset, columns,  query_type, hamming_distance, percentile)\n",
    "    percentile = 75\n",
    "    percentile_75_bounded_global_sensitivities = bounded_empirical_local_L1_sensitivity(universe, universe_subset, columns,  query_type, hamming_distance, percentile)\n",
    "    percentile = 90\n",
    "    percentile_90_bounded_global_sensitivities = bounded_empirical_local_L1_sensitivity(universe, universe_subset, columns,  query_type, hamming_distance, percentile)\n",
    "\n",
    "    print('Bounded sensitivities for mean', mean_bounded_global_sensitivities)\n",
    "    print('Bounded sensitivities for median', median_bounded_global_sensitivities)\n",
    "    print('Bounded sensitivities for count', count_bounded_global_sensitivities)\n",
    "    print('Bounded sensitivities for sum', sum_bounded_global_sensitivities)\n",
    "    print('Bounded sensitivities for std', std_bounded_global_sensitivities)\n",
    "    print('Bounded sensitivities for var', var_bounded_global_sensitivities)\n",
    "    print('Bounded sensitivities for percentile 25', percentile_25_bounded_global_sensitivities)\n",
    "    print('Bounded sensitivities for percentile 50', percentile_50_bounded_global_sensitivities)\n",
    "    print('Bounded sensitivities for percentile 75', percentile_75_bounded_global_sensitivities)\n",
    "    print('Bounded sensitivities for percentile 90', percentile_90_bounded_global_sensitivities)\n",
    "    \n",
    "    bounded_sensitivities = build_sensitivity_dict(bounded_sensitivities, hamming_distance,\\\n",
    "    mean_bounded_global_sensitivities, median_bounded_global_sensitivities, count_bounded_global_sensitivities, \\\n",
    "    sum_bounded_global_sensitivities, std_bounded_global_sensitivities, var_bounded_global_sensitivities, \\\n",
    "    percentile_25_bounded_global_sensitivities, percentile_50_bounded_global_sensitivities, \\\n",
    "    percentile_75_bounded_global_sensitivities, percentile_90_bounded_global_sensitivities)\n",
    "    \n",
    "    return bounded_sensitivities"
   ]
  },
  {
   "cell_type": "code",
   "execution_count": 13,
   "metadata": {},
   "outputs": [],
   "source": [
    "# We save the values in a dictionary\n",
    "def build_sensitivity_dict(unbounded_sensitivities, hamming_distance, mean_sensitivity, median_sensitivity, count_sensitivity, _sum_sensitivity, _std_sensitivity, _var_sensitivity, percentile_25_sensitivity, percentile_50_sensitivity, percentile_75_sensitivity, percentile_90_sensitivity):\n",
    "    \"\"\"\n",
    "    INPUT\n",
    "        unbounded_sensitivities - (dict) stores sensitivities per hamming distance and query type\n",
    "        hamming_distance - (int) hamming distance of the neighboring datasets\n",
    "        mean_sensitivity - (float) sensitivity of the mean query \n",
    "        median_sensitivity - (float) sensitivity of the media query \n",
    "        count_sensitivity - (float) sensitivity of the count query \n",
    "        _sum_sensitivity - (float) sensitivity of the sum query \n",
    "        _std_sensitivity - (float) sensitivity of the std query \n",
    "        _var - (float) sensitivity of the var query \n",
    "        percentile_25_sensitivity - (float) sensitivity of the percentile 25 query \n",
    "        percentile_50_sensitivity - (float) sensitivity of the percentile 50 query \n",
    "        percentile_75_sensitivity - (float) sensitivity of the percentile 75query \n",
    "        percentile_90_sensitivity - (float) sensitivity of the percentile 90 query \n",
    "\n",
    "    OUTPUT\n",
    "        unbounded_sensitivities - (dict) stores sensitivities per hamming distance and query type\n",
    "    \n",
    "    \"\"\"\n",
    "    unbounded_sensitivities[hamming_distance] = {}\n",
    "    unbounded_sensitivities[hamming_distance]['mean'] = mean_sensitivity\n",
    "    unbounded_sensitivities[hamming_distance]['median'] = median_sensitivity\n",
    "    unbounded_sensitivities[hamming_distance]['count'] = count_sensitivity\n",
    "    unbounded_sensitivities[hamming_distance]['sum'] = _sum_sensitivity\n",
    "    unbounded_sensitivities[hamming_distance]['std'] = _std_sensitivity\n",
    "    unbounded_sensitivities[hamming_distance]['var'] = _var_sensitivity\n",
    "    unbounded_sensitivities[hamming_distance]['percentile_25'] = percentile_25_sensitivity\n",
    "    unbounded_sensitivities[hamming_distance]['percentile_50'] = percentile_50_sensitivity\n",
    "    unbounded_sensitivities[hamming_distance]['percentile_75'] = percentile_75_sensitivity\n",
    "    unbounded_sensitivities[hamming_distance]['percentile_90'] = percentile_90_sensitivity\n",
    "    \n",
    "    return unbounded_sensitivities"
   ]
  },
  {
   "cell_type": "markdown",
   "metadata": {},
   "source": [
    "##  Main Functions "
   ]
  },
  {
   "cell_type": "markdown",
   "metadata": {},
   "source": [
    "### Unbounded Local Sensitivity "
   ]
  },
  {
   "cell_type": "code",
   "execution_count": 14,
   "metadata": {},
   "outputs": [
    {
     "data": {
      "text/latex": [
       "\\begin{align}\n",
       "\\ell_{1, \\mbox{sensitivity}}: LS(x) =\\max_{\\substack{\n",
       "{y \\in \\mathbb{N}^{(\\mathcal{X})}} \\\\\n",
       "\\|x-y\\|_{1} = h \\\\\n",
       "||x|-|y|| = h\n",
       "}} \\|f(x)-f(y)\\|_{1}\n",
       "\\end{align}\n"
      ],
      "text/plain": [
       "<IPython.core.display.Latex object>"
      ]
     },
     "metadata": {},
     "output_type": "display_data"
    }
   ],
   "source": [
    "%%latex\n",
    "\\begin{align}\n",
    "\\ell_{1, \\mbox{sensitivity}}: LS(x) =\\max_{\\substack{\n",
    "{y \\in \\mathbb{N}^{(\\mathcal{X})}} \\\\\n",
    "\\|x-y\\|_{1} = h \\\\\n",
    "||x|-|y|| = h\n",
    "}} \\|f(x)-f(y)\\|_{1}\n",
    "\\end{align}"
   ]
  },
  {
   "cell_type": "markdown",
   "metadata": {},
   "source": [
    "\\begin{align}\n",
    "\\ell_{1, \\mbox{sensitivity}}: LS(x) =\\max_{\\substack{\n",
    "{y \\in \\mathbb{N}^{(\\mathcal{X})}} \\\\\n",
    "\\|x-y\\|_{1} = h \\\\\n",
    "||x|-|y|| = h\n",
    "}} \\|f(x)-f(y)\\|_{1}\n",
    "\\end{align}"
   ]
  },
  {
   "cell_type": "code",
   "execution_count": 15,
   "metadata": {
    "scrolled": false
   },
   "outputs": [],
   "source": [
    "def unbounded_empirical_local_L1_sensitivity(universe, universe_subset, columns, query_type, hamming_distance, percentile=50):\n",
    "    \"\"\"\n",
    "    INPUT:\n",
    "        universe - (df ot dict) contains all possible values of the dataset\n",
    "        universe_subset - (df or dict) contains the subset chosen for the release dataset\n",
    "        columns - (array) contains the names of the columns we would like to obtain the sensitivity from\n",
    "        query_type - (str) contain the category declaring the type of query to be later on executed\n",
    "        hamming_distance - (int) hamming distance between neighboring datasets\n",
    "        percentile - (int) percentile value for the percentile query\n",
    "        \n",
    "    OUTPUT:\n",
    "        unbounded_global_sensitivity - (float) the unbounded global sensitivity of the input universe\n",
    "        \n",
    "    Description:\n",
    "    It claculates the global sensitivity of an array based on the knowledge of the entire universe of \n",
    "    the dataset and query_type.\n",
    "    \"\"\"\n",
    "    # Check if the values for the hamming distance and universe sizes comply with the basic constraints\n",
    "    # verify_sensitivity_inputs(universe.shape[0], universe_subset.shape[0], hamming_distance)\n",
    "    verify_sensitivity_inputs(universe.shape[0], universe_subset.shape[0], hamming_distance)\n",
    "\n",
    "    # We initialie the type of query for which we would like calculate the sensitivity\n",
    "    query = Query_class(query_type)\n",
    "    \n",
    "    # We will store the sensitivity of each column of the dataset containing universe in a dictionary\n",
    "    unbounded_global_sensitivity_per_colum = {}\n",
    "    \n",
    "    for column in columns:\n",
    "                \n",
    "        # 1) RELEASE DATASET /// it could be a dataframe or a tupple\n",
    "        try:\n",
    "            release_dataset = universe_subset[column]\n",
    "        except:\n",
    "            release_dataset = universe_subset\n",
    "\n",
    "        # 2) |NEIGHBORING DATASET| < |RELEASE DATASET| //// cardinalities           \n",
    "        neighbor_with_less_records_datasets = itertools.combinations(release_dataset, \\\n",
    "            universe_subset.shape[0] - hamming_distance)\n",
    "        neighbor_with_less_records_datasets = list(neighbor_with_less_records_datasets)\n",
    "               \n",
    "        # 3) |NEIGHBORING DATASET| > |RELEASE DATASET| //// cardinalities           \n",
    "        symmetric_difference = list((Counter(universe[column]) - Counter(release_dataset)).elements())\n",
    "        neighbor_possible_value_combinations = itertools.combinations(symmetric_difference, hamming_distance)\n",
    "        neighbor_possible_value_combinations = list(neighbor_possible_value_combinations)\n",
    "\n",
    "        neighbor_with_more_records_datasets = []\n",
    "        for neighbor_possible_value_combination in neighbor_possible_value_combinations:\n",
    "\n",
    "            # We create neighboring datasets by concatenating the neighbor_possible_value_combination with the release dataset\n",
    "            neighbor_with_more_records_dataset = np.append(release_dataset, neighbor_possible_value_combination)\n",
    "            neighbor_with_more_records_datasets.append(neighbor_with_more_records_dataset)          \n",
    "        \n",
    "        # 4) For each possible release datase, there is a set of neighboring datasets \n",
    "        # We will iterate through each possible release dataset and calculate the L1 norm with \n",
    "        # each of its repspective neighboring datasets\n",
    "        L1_norms = []\n",
    "\n",
    "        release_dataset_query_value = query.run_query(release_dataset, percentile)\n",
    "\n",
    "        L1_norm =  L1_norm_max(release_dataset_query_value, neighbor_with_less_records_datasets, query, percentile)\n",
    "        L1_norms.append(L1_norm)\n",
    "        L1_norm =  L1_norm_max(release_dataset_query_value, neighbor_with_more_records_datasets, query, percentile)\n",
    "        L1_norms.append(L1_norm)\n",
    "        \n",
    "        # We pick the maximum out of all the maximum L1_norms calculated from each possible release dataset\n",
    "        unbounded_global_sensitivity_per_colum[column] = max(L1_norms)\n",
    "        \n",
    "    return unbounded_global_sensitivity_per_colum"
   ]
  },
  {
   "cell_type": "markdown",
   "metadata": {},
   "source": [
    "### Bounded Local Sensitivity"
   ]
  },
  {
   "cell_type": "code",
   "execution_count": 16,
   "metadata": {},
   "outputs": [
    {
     "data": {
      "text/latex": [
       "\\begin{align}\n",
       "\\ell_{1, \\mbox{sensitivity}}: LS(x) =\\max_{\\substack{\n",
       "{y \\in \\mathbb{N}^{(\\mathcal{X})}} \\\\\n",
       "\\|x-y\\|_{1} = h \\\\\n",
       "||x|-|y|| = 0\n",
       "}} \\|f(x)-f(y)\\|_{1}\n",
       "\\end{align}\n"
      ],
      "text/plain": [
       "<IPython.core.display.Latex object>"
      ]
     },
     "metadata": {},
     "output_type": "display_data"
    }
   ],
   "source": [
    "%%latex\n",
    "\\begin{align}\n",
    "\\ell_{1, \\mbox{sensitivity}}: LS(x) =\\max_{\\substack{\n",
    "{y \\in \\mathbb{N}^{(\\mathcal{X})}} \\\\\n",
    "\\|x-y\\|_{1} = h \\\\\n",
    "||x|-|y|| = 0\n",
    "}} \\|f(x)-f(y)\\|_{1}\n",
    "\\end{align}"
   ]
  },
  {
   "cell_type": "markdown",
   "metadata": {},
   "source": [
    "\\begin{align}\n",
    "\\ell_{1, \\mbox{sensitivity}}: LS(x) =\\max_{\\substack{\n",
    "{y \\in \\mathbb{N}^{(\\mathcal{X})}} \\\\\n",
    "\\|x-y\\|_{1} = h \\\\\n",
    "||x|-|y|| = 0\n",
    "}} \\|f(x)-f(y)\\|_{1}\n",
    "\\end{align}"
   ]
  },
  {
   "cell_type": "code",
   "execution_count": 17,
   "metadata": {},
   "outputs": [],
   "source": [
    "def bounded_empirical_local_L1_sensitivity(universe, universe_subset, columns, query_type, hamming_distance, percentile=50):\n",
    "    \"\"\"\n",
    "    INPUT:\n",
    "        universe - (df) contains all possible values of the dataset\n",
    "        universe_subset - (df or dict) contains the subset chosen for the release dataset\n",
    "        columns - (array) contains the names of the columns we would like to obtain the sensitivity from\n",
    "        query_type - (str) contain the category declaring the type of query to be later on executed\n",
    "        hamming_distance - (int) hamming distance between neighboring datasets\n",
    "        percentile - (int) percentile value for the percentile query\n",
    "\n",
    "    OUTPUT:\n",
    "        bounded_global_sensitivity - (float) the bounded global sensitivity of the input universe\n",
    "        \n",
    "    Description:\n",
    "    It claculates the global sensitivity of an array based on the knowledge of the entire universe of \n",
    "    the dataset and query_type.\n",
    "    \"\"\"\n",
    "    \n",
    "    # Check if the values for the hamming distance and universe sizes comply with the basic constraints\n",
    "    verify_sensitivity_inputs(universe.shape[0], universe_subset.shape[0], hamming_distance)\n",
    "    \n",
    "    # We initialie the type of query for which we would like calculate the sensitivity\n",
    "    query = Query_class(query_type)\n",
    "    \n",
    "    # We will store the sensitivity of each column of the dataset containing universe in a dictionary\n",
    "    bounded_global_sensitivity_per_column = {}\n",
    "    \n",
    "    for column in columns:\n",
    "        \n",
    "        # We calculate all the possible release datasets\n",
    "        # First we obtain the combinations within the release dataset. The size of this combinations is not the original size\n",
    "        # but the original size minus the hamming_distance /// it could be a dataframe or a tupple\n",
    "        try:\n",
    "            \n",
    "            release_i_datasets = itertools.combinations(universe_subset[column], universe_subset.shape[0] - hamming_distance)\n",
    "        \n",
    "        except:\n",
    "            \n",
    "            release_i_datasets = itertools.combinations(universe_subset, universe_subset.shape[0] - hamming_distance)\n",
    "\n",
    "        release_i_datasets = list(release_i_datasets)\n",
    "        \n",
    "        # it will contain sets of neighboring datasets. The L1 norm will be calculated between these sets. The maximum will be chosen\n",
    "        # The datasets from different groups do not necesarilly need to be neighbors, thus we separate them in groups\n",
    "        neighbor_dataset_groups = []\n",
    "        for release_i_dataset in release_i_datasets:\n",
    "\n",
    "            # second we calculate the combinations of the items in the universe that are not in the release dataset\n",
    "            # the size of a combination is equal to the hamming distance. This will not discard duplicates\n",
    "            symmetric_difference = list((Counter(universe[column]) - Counter(release_i_dataset)).elements())\n",
    "            release_ii_datasets = itertools.combinations(symmetric_difference, hamming_distance)\n",
    "            release_ii_datasets = list(release_ii_datasets)\n",
    "            \n",
    "            # We create neighboring datasets by concatenating i with ii\n",
    "            neighbor_datasets = []\n",
    "            for release_ii_dataset in release_ii_datasets:\n",
    "\n",
    "                neighbor = list(release_i_dataset + release_ii_dataset)\n",
    "                neighbor_datasets.append(neighbor)   \n",
    "            \n",
    "            neighbor_dataset_groups.append(neighbor_datasets)\n",
    "\n",
    "        # We calculate the L1_norm for the different combinations with the aim to find the max\n",
    "        # We can loop in this manner because we are obtaining the absolute values\n",
    "        L1_norms = []\n",
    "        for m in range(0, len(neighbor_dataset_groups)):\n",
    "        \n",
    "            for i in range(0,  len(neighbor_dataset_groups[m])-1):\n",
    "\n",
    "                for j in range(i+1, len(neighbor_dataset_groups[m])):\n",
    "\n",
    "                    L1_norm = np.abs(query.run_query(neighbor_dataset_groups[m][i], percentile) - query.run_query(neighbor_dataset_groups[m][j], percentile))\n",
    "                    L1_norms.append(L1_norm)\n",
    "\n",
    "            bounded_global_sensitivity_per_column[column] = max(L1_norms)\n",
    "\n",
    "    return bounded_global_sensitivity_per_column"
   ]
  },
  {
   "cell_type": "markdown",
   "metadata": {},
   "source": [
    "## MAIN "
   ]
  },
  {
   "cell_type": "markdown",
   "metadata": {},
   "source": [
    "### Unbounded sensitivity - Scenario a"
   ]
  },
  {
   "cell_type": "markdown",
   "metadata": {},
   "source": [
    "Side Note: I comment off and on the printing script for sensitivities depending on the verbosity needed per explanation."
   ]
  },
  {
   "cell_type": "markdown",
   "metadata": {},
   "source": [
    "Let us begin with the small dataset and a hamming distance of 1 (the only one it allows given the shapes of the release and universe dataset)"
   ]
  },
  {
   "cell_type": "code",
   "execution_count": 21,
   "metadata": {},
   "outputs": [
    {
     "data": {
      "text/html": [
       "<div>\n",
       "<style scoped>\n",
       "    .dataframe tbody tr th:only-of-type {\n",
       "        vertical-align: middle;\n",
       "    }\n",
       "\n",
       "    .dataframe tbody tr th {\n",
       "        vertical-align: top;\n",
       "    }\n",
       "\n",
       "    .dataframe thead th {\n",
       "        text-align: right;\n",
       "    }\n",
       "</style>\n",
       "<table border=\"1\" class=\"dataframe\">\n",
       "  <thead>\n",
       "    <tr style=\"text-align: right;\">\n",
       "      <th></th>\n",
       "      <th>name</th>\n",
       "      <th>school_year</th>\n",
       "      <th>absence_days</th>\n",
       "    </tr>\n",
       "  </thead>\n",
       "  <tbody>\n",
       "    <tr>\n",
       "      <th>0</th>\n",
       "      <td>Chris</td>\n",
       "      <td>1</td>\n",
       "      <td>1</td>\n",
       "    </tr>\n",
       "    <tr>\n",
       "      <th>1</th>\n",
       "      <td>Kelly</td>\n",
       "      <td>2</td>\n",
       "      <td>2</td>\n",
       "    </tr>\n",
       "    <tr>\n",
       "      <th>2</th>\n",
       "      <td>Pat</td>\n",
       "      <td>3</td>\n",
       "      <td>3</td>\n",
       "    </tr>\n",
       "  </tbody>\n",
       "</table>\n",
       "</div>"
      ],
      "text/plain": [
       "    name  school_year  absence_days\n",
       "0  Chris            1             1\n",
       "1  Kelly            2             2\n",
       "2    Pat            3             3"
      ]
     },
     "execution_count": 21,
     "metadata": {},
     "output_type": "execute_result"
    }
   ],
   "source": [
    "D_small_release"
   ]
  },
  {
   "cell_type": "code",
   "execution_count": 22,
   "metadata": {},
   "outputs": [
    {
     "data": {
      "text/html": [
       "<div>\n",
       "<style scoped>\n",
       "    .dataframe tbody tr th:only-of-type {\n",
       "        vertical-align: middle;\n",
       "    }\n",
       "\n",
       "    .dataframe tbody tr th {\n",
       "        vertical-align: top;\n",
       "    }\n",
       "\n",
       "    .dataframe thead th {\n",
       "        text-align: right;\n",
       "    }\n",
       "</style>\n",
       "<table border=\"1\" class=\"dataframe\">\n",
       "  <thead>\n",
       "    <tr style=\"text-align: right;\">\n",
       "      <th></th>\n",
       "      <th>name</th>\n",
       "      <th>school_year</th>\n",
       "      <th>absence_days</th>\n",
       "    </tr>\n",
       "  </thead>\n",
       "  <tbody>\n",
       "    <tr>\n",
       "      <th>0</th>\n",
       "      <td>Chris</td>\n",
       "      <td>1</td>\n",
       "      <td>1</td>\n",
       "    </tr>\n",
       "    <tr>\n",
       "      <th>1</th>\n",
       "      <td>Kelly</td>\n",
       "      <td>2</td>\n",
       "      <td>2</td>\n",
       "    </tr>\n",
       "    <tr>\n",
       "      <th>2</th>\n",
       "      <td>Pat</td>\n",
       "      <td>3</td>\n",
       "      <td>3</td>\n",
       "    </tr>\n",
       "    <tr>\n",
       "      <th>3</th>\n",
       "      <td>Terry</td>\n",
       "      <td>4</td>\n",
       "      <td>10</td>\n",
       "    </tr>\n",
       "  </tbody>\n",
       "</table>\n",
       "</div>"
      ],
      "text/plain": [
       "    name  school_year  absence_days\n",
       "0  Chris            1             1\n",
       "1  Kelly            2             2\n",
       "2    Pat            3             3\n",
       "3  Terry            4            10"
      ]
     },
     "execution_count": 22,
     "metadata": {},
     "output_type": "execute_result"
    }
   ],
   "source": [
    "D_small_universe"
   ]
  },
  {
   "cell_type": "markdown",
   "metadata": {},
   "source": [
    "##### In the [paper](https://git.gnunet.org/bibliography.git/plain/docs/Choosing-%CE%B5-2011Lee.pdf) mentioned, Table 4 shows the local sensitivities for different possible worlds. Let us check them one by one:"
   ]
  },
  {
   "cell_type": "markdown",
   "metadata": {},
   "source": [
    "##### For {1, 2, 3}, the local sensitivity of the median should be 0.5 for absence_days:"
   ]
  },
  {
   "cell_type": "code",
   "execution_count": 20,
   "metadata": {
    "scrolled": true
   },
   "outputs": [
    {
     "name": "stdout",
     "output_type": "stream",
     "text": [
      "Unbounded sensitivities for mean {'school_year': 0.5, 'absence_days': 2.0}\n",
      "Unbounded sensitivities for median {'school_year': 0.5, 'absence_days': 0.5}\n",
      "Unbounded sensitivities for count {'school_year': 1, 'absence_days': 1}\n",
      "Unbounded sensitivities for sum {'school_year': 4, 'absence_days': 10}\n",
      "Unbounded sensitivities for std {'school_year': 0.31649658092772603, 'absence_days': 2.7190373250050115}\n",
      "Unbounded sensitivities for var {'school_year': 0.5833333333333334, 'absence_days': 11.833333333333334}\n",
      "Unbounded sensitivities for percentile 25 {'school_year': 0.75, 'absence_days': 0.75}\n",
      "Unbounded sensitivities for percentile 50 {'school_year': 0.5, 'absence_days': 0.5}\n",
      "Unbounded sensitivities for percentile 75 {'school_year': 0.75, 'absence_days': 2.25}\n",
      "Unbounded sensitivities for percentile 90 {'school_year': 0.9000000000000004, 'absence_days': 5.100000000000001}\n"
     ]
    },
    {
     "data": {
      "text/plain": [
       "{'school_year': 0.5, 'absence_days': 0.5}"
      ]
     },
     "execution_count": 20,
     "metadata": {},
     "output_type": "execute_result"
    }
   ],
   "source": [
    "columns = ['school_year', 'absence_days']\n",
    "hamming_distance = 1\n",
    "unbounded_sensitivities = {}\n",
    "unbounded_sensitivities = calculate_unbounded_sensitivities(D_small_universe, D_small_release, columns, hamming_distance, unbounded_sensitivities)\n",
    "unbounded_sensitivities[hamming_distance]['median']"
   ]
  },
  {
   "cell_type": "markdown",
   "metadata": {},
   "source": [
    "My function works as intended for the benchmark dataset. The results for median are the same as in the paper.  The paper does not deal with other types of queries. (We also get the percentile 50 to cross-check with the median).\n",
    "I printed the other queries so you can have a look at them as well, I will however stop printing all of them in the next cells."
   ]
  },
  {
   "cell_type": "markdown",
   "metadata": {},
   "source": [
    "##### For {1, 2, 10}, the local sensitivity of the median should be 4  for absence_days:"
   ]
  },
  {
   "cell_type": "code",
   "execution_count": 24,
   "metadata": {},
   "outputs": [
    {
     "data": {
      "text/html": [
       "<div>\n",
       "<style scoped>\n",
       "    .dataframe tbody tr th:only-of-type {\n",
       "        vertical-align: middle;\n",
       "    }\n",
       "\n",
       "    .dataframe tbody tr th {\n",
       "        vertical-align: top;\n",
       "    }\n",
       "\n",
       "    .dataframe thead th {\n",
       "        text-align: right;\n",
       "    }\n",
       "</style>\n",
       "<table border=\"1\" class=\"dataframe\">\n",
       "  <thead>\n",
       "    <tr style=\"text-align: right;\">\n",
       "      <th></th>\n",
       "      <th>name</th>\n",
       "      <th>school_year</th>\n",
       "      <th>absence_days</th>\n",
       "    </tr>\n",
       "  </thead>\n",
       "  <tbody>\n",
       "    <tr>\n",
       "      <th>0</th>\n",
       "      <td>Chris</td>\n",
       "      <td>1</td>\n",
       "      <td>1</td>\n",
       "    </tr>\n",
       "    <tr>\n",
       "      <th>1</th>\n",
       "      <td>Kelly</td>\n",
       "      <td>2</td>\n",
       "      <td>2</td>\n",
       "    </tr>\n",
       "    <tr>\n",
       "      <th>2</th>\n",
       "      <td>Pat</td>\n",
       "      <td>3</td>\n",
       "      <td>10</td>\n",
       "    </tr>\n",
       "  </tbody>\n",
       "</table>\n",
       "</div>"
      ],
      "text/plain": [
       "    name  school_year  absence_days\n",
       "0  Chris            1             1\n",
       "1  Kelly            2             2\n",
       "2    Pat            3            10"
      ]
     },
     "execution_count": 24,
     "metadata": {},
     "output_type": "execute_result"
    }
   ],
   "source": [
    "D_small_release_test = D_small_release\n",
    "D_small_release_test = D_small_release_test.drop(['absence_days'], axis=1)\n",
    "D_small_release_test['absence_days'] = [1, 2, 10]\n",
    "D_small_release_test"
   ]
  },
  {
   "cell_type": "code",
   "execution_count": 25,
   "metadata": {},
   "outputs": [
    {
     "data": {
      "text/plain": [
       "{'school_year': 0.5, 'absence_days': 4.0}"
      ]
     },
     "execution_count": 25,
     "metadata": {},
     "output_type": "execute_result"
    }
   ],
   "source": [
    "unbounded_sensitivities = {}\n",
    "unbounded_sensitivities = calculate_unbounded_sensitivities(D_small_universe, D_small_release_test, columns, hamming_distance, unbounded_sensitivities)\n",
    "unbounded_sensitivities[hamming_distance]['median']"
   ]
  },
  {
   "cell_type": "markdown",
   "metadata": {},
   "source": [
    "##### For {1, 3, 10}, the local sensitivity of the median should be 3.5 for absence_days:"
   ]
  },
  {
   "cell_type": "code",
   "execution_count": 26,
   "metadata": {},
   "outputs": [
    {
     "data": {
      "text/html": [
       "<div>\n",
       "<style scoped>\n",
       "    .dataframe tbody tr th:only-of-type {\n",
       "        vertical-align: middle;\n",
       "    }\n",
       "\n",
       "    .dataframe tbody tr th {\n",
       "        vertical-align: top;\n",
       "    }\n",
       "\n",
       "    .dataframe thead th {\n",
       "        text-align: right;\n",
       "    }\n",
       "</style>\n",
       "<table border=\"1\" class=\"dataframe\">\n",
       "  <thead>\n",
       "    <tr style=\"text-align: right;\">\n",
       "      <th></th>\n",
       "      <th>name</th>\n",
       "      <th>school_year</th>\n",
       "      <th>absence_days</th>\n",
       "    </tr>\n",
       "  </thead>\n",
       "  <tbody>\n",
       "    <tr>\n",
       "      <th>0</th>\n",
       "      <td>Chris</td>\n",
       "      <td>1</td>\n",
       "      <td>1</td>\n",
       "    </tr>\n",
       "    <tr>\n",
       "      <th>1</th>\n",
       "      <td>Kelly</td>\n",
       "      <td>2</td>\n",
       "      <td>3</td>\n",
       "    </tr>\n",
       "    <tr>\n",
       "      <th>2</th>\n",
       "      <td>Pat</td>\n",
       "      <td>3</td>\n",
       "      <td>10</td>\n",
       "    </tr>\n",
       "  </tbody>\n",
       "</table>\n",
       "</div>"
      ],
      "text/plain": [
       "    name  school_year  absence_days\n",
       "0  Chris            1             1\n",
       "1  Kelly            2             3\n",
       "2    Pat            3            10"
      ]
     },
     "execution_count": 26,
     "metadata": {},
     "output_type": "execute_result"
    }
   ],
   "source": [
    "D_small_release_test = D_small_release\n",
    "D_small_release_test = D_small_release_test.drop(['absence_days'], axis=1)\n",
    "D_small_release_test['absence_days'] = [1, 3, 10]\n",
    "D_small_release_test"
   ]
  },
  {
   "cell_type": "code",
   "execution_count": 27,
   "metadata": {},
   "outputs": [
    {
     "data": {
      "text/plain": [
       "{'school_year': 0.5, 'absence_days': 3.5}"
      ]
     },
     "execution_count": 27,
     "metadata": {},
     "output_type": "execute_result"
    }
   ],
   "source": [
    "unbounded_sensitivities = {}\n",
    "unbounded_sensitivities = calculate_unbounded_sensitivities(D_small_universe, D_small_release_test, columns, hamming_distance, unbounded_sensitivities)\n",
    "unbounded_sensitivities[hamming_distance]['median']"
   ]
  },
  {
   "cell_type": "markdown",
   "metadata": {},
   "source": [
    "##### For {2, 3, 10}, the local sensitivity of the median should be 3.5:"
   ]
  },
  {
   "cell_type": "code",
   "execution_count": 28,
   "metadata": {},
   "outputs": [
    {
     "data": {
      "text/html": [
       "<div>\n",
       "<style scoped>\n",
       "    .dataframe tbody tr th:only-of-type {\n",
       "        vertical-align: middle;\n",
       "    }\n",
       "\n",
       "    .dataframe tbody tr th {\n",
       "        vertical-align: top;\n",
       "    }\n",
       "\n",
       "    .dataframe thead th {\n",
       "        text-align: right;\n",
       "    }\n",
       "</style>\n",
       "<table border=\"1\" class=\"dataframe\">\n",
       "  <thead>\n",
       "    <tr style=\"text-align: right;\">\n",
       "      <th></th>\n",
       "      <th>name</th>\n",
       "      <th>school_year</th>\n",
       "      <th>absence_days</th>\n",
       "    </tr>\n",
       "  </thead>\n",
       "  <tbody>\n",
       "    <tr>\n",
       "      <th>0</th>\n",
       "      <td>Chris</td>\n",
       "      <td>1</td>\n",
       "      <td>2</td>\n",
       "    </tr>\n",
       "    <tr>\n",
       "      <th>1</th>\n",
       "      <td>Kelly</td>\n",
       "      <td>2</td>\n",
       "      <td>3</td>\n",
       "    </tr>\n",
       "    <tr>\n",
       "      <th>2</th>\n",
       "      <td>Pat</td>\n",
       "      <td>3</td>\n",
       "      <td>10</td>\n",
       "    </tr>\n",
       "  </tbody>\n",
       "</table>\n",
       "</div>"
      ],
      "text/plain": [
       "    name  school_year  absence_days\n",
       "0  Chris            1             2\n",
       "1  Kelly            2             3\n",
       "2    Pat            3            10"
      ]
     },
     "execution_count": 28,
     "metadata": {},
     "output_type": "execute_result"
    }
   ],
   "source": [
    "D_small_release_test = D_small_release\n",
    "D_small_release_test = D_small_release_test.drop(['absence_days'], axis=1)\n",
    "D_small_release_test['absence_days'] = [2, 3, 10]\n",
    "D_small_release_test"
   ]
  },
  {
   "cell_type": "code",
   "execution_count": 29,
   "metadata": {},
   "outputs": [
    {
     "data": {
      "text/plain": [
       "{'school_year': 0.5, 'absence_days': 3.5}"
      ]
     },
     "execution_count": 29,
     "metadata": {},
     "output_type": "execute_result"
    }
   ],
   "source": [
    "unbounded_sensitivities = {}\n",
    "unbounded_sensitivities = calculate_unbounded_sensitivities(D_small_universe, D_small_release_test, columns, hamming_distance, unbounded_sensitivities)\n",
    "unbounded_sensitivities[hamming_distance]['median']"
   ]
  },
  {
   "cell_type": "markdown",
   "metadata": {},
   "source": [
    "Each of these tests have passed. And the maximum of these local sensitivities, is the global sensitivity, as explained in the paper. This would be 4, if we scroll down in my other [blog post](https://github.com/gonzalo-munillag/Blog/blob/main/Extant_Papers_Implementations/A_method_to_choose_epsilon/How_much_is_enough_Calculating_An_Optimal_Epsilon.ipynb) to point MEDIAN, you will see that for unbounded sensitivity we calculated also 4. "
   ]
  },
  {
   "cell_type": "code",
   "execution_count": 30,
   "metadata": {},
   "outputs": [
    {
     "data": {
      "text/latex": [
       "\\begin{align}\n",
       "\\ell_{1, \\mbox{sensitivity}}: \\Delta f=\\max_{\\substack{\n",
       "{x \\in \\mathbb{N}^{(\\mathcal{X})}} \\\\\n",
       "}} LS(x)\n",
       "\\end{align}\n"
      ],
      "text/plain": [
       "<IPython.core.display.Latex object>"
      ]
     },
     "metadata": {},
     "output_type": "display_data"
    }
   ],
   "source": [
    "%%latex\n",
    "\\begin{align}\n",
    "\\ell_{1, \\mbox{sensitivity}}: \\Delta f=\\max_{\\substack{\n",
    "{x \\in \\mathbb{N}^{(\\mathcal{X})}} \\\\\n",
    "}} LS(x)\n",
    "\\end{align}"
   ]
  },
  {
   "cell_type": "markdown",
   "metadata": {},
   "source": [
    "\\begin{align}\n",
    "\\ell_{1, \\mbox{sensitivity}}: \\Delta f=\\max_{\\substack{\n",
    "{x \\in \\mathbb{N}^{(\\mathcal{X})}} \\\\\n",
    "}} LS(x)\n",
    "\\end{align}"
   ]
  },
  {
   "cell_type": "markdown",
   "metadata": {},
   "source": [
    "we could therefore loop through all the combinations of release datasets and apply our local sensitivity function. We would only need to pick the maximum L1 norm."
   ]
  },
  {
   "cell_type": "markdown",
   "metadata": {},
   "source": [
    "#### Let us try our function with a larger dataset, which it also allows for a larger hamming distance."
   ]
  },
  {
   "cell_type": "code",
   "execution_count": 32,
   "metadata": {},
   "outputs": [
    {
     "data": {
      "text/html": [
       "<div>\n",
       "<style scoped>\n",
       "    .dataframe tbody tr th:only-of-type {\n",
       "        vertical-align: middle;\n",
       "    }\n",
       "\n",
       "    .dataframe tbody tr th {\n",
       "        vertical-align: top;\n",
       "    }\n",
       "\n",
       "    .dataframe thead th {\n",
       "        text-align: right;\n",
       "    }\n",
       "</style>\n",
       "<table border=\"1\" class=\"dataframe\">\n",
       "  <thead>\n",
       "    <tr style=\"text-align: right;\">\n",
       "      <th></th>\n",
       "      <th>name</th>\n",
       "      <th>school_year</th>\n",
       "      <th>absence_days</th>\n",
       "    </tr>\n",
       "  </thead>\n",
       "  <tbody>\n",
       "    <tr>\n",
       "      <th>0</th>\n",
       "      <td>Chris</td>\n",
       "      <td>1</td>\n",
       "      <td>1</td>\n",
       "    </tr>\n",
       "    <tr>\n",
       "      <th>1</th>\n",
       "      <td>Kelly</td>\n",
       "      <td>2</td>\n",
       "      <td>2</td>\n",
       "    </tr>\n",
       "    <tr>\n",
       "      <th>2</th>\n",
       "      <td>Keny</td>\n",
       "      <td>2</td>\n",
       "      <td>3</td>\n",
       "    </tr>\n",
       "    <tr>\n",
       "      <th>3</th>\n",
       "      <td>Sherry</td>\n",
       "      <td>2</td>\n",
       "      <td>4</td>\n",
       "    </tr>\n",
       "    <tr>\n",
       "      <th>4</th>\n",
       "      <td>Jerry</td>\n",
       "      <td>5</td>\n",
       "      <td>5</td>\n",
       "    </tr>\n",
       "    <tr>\n",
       "      <th>5</th>\n",
       "      <td>Morty</td>\n",
       "      <td>5</td>\n",
       "      <td>6</td>\n",
       "    </tr>\n",
       "    <tr>\n",
       "      <th>6</th>\n",
       "      <td>Beth</td>\n",
       "      <td>7</td>\n",
       "      <td>7</td>\n",
       "    </tr>\n",
       "    <tr>\n",
       "      <th>7</th>\n",
       "      <td>Summer</td>\n",
       "      <td>8</td>\n",
       "      <td>8</td>\n",
       "    </tr>\n",
       "    <tr>\n",
       "      <th>8</th>\n",
       "      <td>Squanchy</td>\n",
       "      <td>9</td>\n",
       "      <td>15</td>\n",
       "    </tr>\n",
       "    <tr>\n",
       "      <th>9</th>\n",
       "      <td>Rick</td>\n",
       "      <td>9</td>\n",
       "      <td>20</td>\n",
       "    </tr>\n",
       "  </tbody>\n",
       "</table>\n",
       "</div>"
      ],
      "text/plain": [
       "       name  school_year  absence_days\n",
       "0     Chris            1             1\n",
       "1     Kelly            2             2\n",
       "2      Keny            2             3\n",
       "3    Sherry            2             4\n",
       "4     Jerry            5             5\n",
       "5     Morty            5             6\n",
       "6      Beth            7             7\n",
       "7    Summer            8             8\n",
       "8  Squanchy            9            15\n",
       "9      Rick            9            20"
      ]
     },
     "execution_count": 32,
     "metadata": {},
     "output_type": "execute_result"
    }
   ],
   "source": [
    "D_large_universe"
   ]
  },
  {
   "cell_type": "code",
   "execution_count": 33,
   "metadata": {},
   "outputs": [
    {
     "data": {
      "text/html": [
       "<div>\n",
       "<style scoped>\n",
       "    .dataframe tbody tr th:only-of-type {\n",
       "        vertical-align: middle;\n",
       "    }\n",
       "\n",
       "    .dataframe tbody tr th {\n",
       "        vertical-align: top;\n",
       "    }\n",
       "\n",
       "    .dataframe thead th {\n",
       "        text-align: right;\n",
       "    }\n",
       "</style>\n",
       "<table border=\"1\" class=\"dataframe\">\n",
       "  <thead>\n",
       "    <tr style=\"text-align: right;\">\n",
       "      <th></th>\n",
       "      <th>name</th>\n",
       "      <th>school_year</th>\n",
       "      <th>absence_days</th>\n",
       "    </tr>\n",
       "  </thead>\n",
       "  <tbody>\n",
       "    <tr>\n",
       "      <th>0</th>\n",
       "      <td>Chris</td>\n",
       "      <td>1</td>\n",
       "      <td>1</td>\n",
       "    </tr>\n",
       "    <tr>\n",
       "      <th>1</th>\n",
       "      <td>Kelly</td>\n",
       "      <td>2</td>\n",
       "      <td>2</td>\n",
       "    </tr>\n",
       "    <tr>\n",
       "      <th>2</th>\n",
       "      <td>Keny</td>\n",
       "      <td>2</td>\n",
       "      <td>3</td>\n",
       "    </tr>\n",
       "    <tr>\n",
       "      <th>3</th>\n",
       "      <td>Sherry</td>\n",
       "      <td>2</td>\n",
       "      <td>4</td>\n",
       "    </tr>\n",
       "    <tr>\n",
       "      <th>4</th>\n",
       "      <td>Jerry</td>\n",
       "      <td>5</td>\n",
       "      <td>5</td>\n",
       "    </tr>\n",
       "    <tr>\n",
       "      <th>5</th>\n",
       "      <td>Morty</td>\n",
       "      <td>5</td>\n",
       "      <td>6</td>\n",
       "    </tr>\n",
       "  </tbody>\n",
       "</table>\n",
       "</div>"
      ],
      "text/plain": [
       "     name  school_year  absence_days\n",
       "0   Chris            1             1\n",
       "1   Kelly            2             2\n",
       "2    Keny            2             3\n",
       "3  Sherry            2             4\n",
       "4   Jerry            5             5\n",
       "5   Morty            5             6"
      ]
     },
     "execution_count": 33,
     "metadata": {},
     "output_type": "execute_result"
    }
   ],
   "source": [
    "D_large_release"
   ]
  },
  {
   "cell_type": "code",
   "execution_count": 37,
   "metadata": {},
   "outputs": [
    {
     "name": "stdout",
     "output_type": "stream",
     "text": [
      "Hamming distance =  1\n",
      "Unbounded sensitivities for mean {'school_year': 0.8809523809523809, 'absence_days': 2.3571428571428568}\n",
      "Unbounded sensitivities for median {'school_year': 0.0, 'absence_days': 0.5}\n",
      "Unbounded sensitivities for count {'school_year': 1, 'absence_days': 1}\n",
      "Unbounded sensitivities for sum {'school_year': 9, 'absence_days': 20}\n",
      "Unbounded sensitivities for std {'school_year': 1.0306508339365563, 'absence_days': 4.278553969413484}\n",
      "Unbounded sensitivities for var {'school_year': 4.303287981859411, 'absence_days': 32.92006802721088}\n",
      "Unbounded sensitivities for percentile 25 {'school_year': 0.0, 'absence_days': 0.75}\n",
      "Unbounded sensitivities for percentile 50 {'school_year': 0.0, 'absence_days': 0.5}\n",
      "Unbounded sensitivities for percentile 75 {'school_year': 2.25, 'absence_days': 0.75}\n",
      "Unbounded sensitivities for percentile 90 {'school_year': 1.6000000000000014, 'absence_days': 6.100000000000005}\n",
      "Hamming distance =  2\n",
      "Unbounded sensitivities for mean {'school_year': 1.5416666666666665, 'absence_days': 3.5}\n",
      "Unbounded sensitivities for median {'school_year': 1.5, 'absence_days': 1.0}\n",
      "Unbounded sensitivities for count {'school_year': 2, 'absence_days': 2}\n",
      "Unbounded sensitivities for sum {'school_year': 18, 'absence_days': 35}\n",
      "Unbounded sensitivities for std {'school_year': 1.4250645133943491, 'absence_days': 4.656135903018995}\n",
      "Unbounded sensitivities for var {'school_year': 6.512152777777779, 'absence_days': 37.583333333333336}\n",
      "Unbounded sensitivities for percentile 25 {'school_year': 0.25, 'absence_days': 1.5}\n",
      "Unbounded sensitivities for percentile 50 {'school_year': 1.5, 'absence_days': 1.0}\n",
      "Unbounded sensitivities for percentile 75 {'school_year': 2.25, 'absence_days': 3.5}\n",
      "Unbounded sensitivities for percentile 90 {'school_year': 4.0, 'absence_days': 11.0}\n",
      "Hamming distance =  3\n",
      "Unbounded sensitivities for mean {'school_year': 1.9444444444444442, 'absence_days': 3.6111111111111107}\n",
      "Unbounded sensitivities for median {'school_year': 3.0, 'absence_days': 1.5}\n",
      "Unbounded sensitivities for count {'school_year': 3, 'absence_days': 3}\n",
      "Unbounded sensitivities for sum {'school_year': 26, 'absence_days': 43}\n",
      "Unbounded sensitivities for std {'school_year': 1.5723301886761005, 'absence_days': 4.3003996877159665}\n",
      "Unbounded sensitivities for var {'school_year': 6.81172839506173, 'absence_days': 33.1820987654321}\n",
      "Unbounded sensitivities for percentile 25 {'school_year': 1.5, 'absence_days': 2.25}\n",
      "Unbounded sensitivities for percentile 50 {'school_year': 3.0, 'absence_days': 1.5}\n",
      "Unbounded sensitivities for percentile 75 {'school_year': 3.75, 'absence_days': 3.25}\n",
      "Unbounded sensitivities for percentile 90 {'school_year': 4.0, 'absence_days': 10.5}\n",
      "Hamming distance =  4\n",
      "Unbounded sensitivities for mean {'school_year': 2.1666666666666665, 'absence_days': 3.5999999999999996}\n",
      "Unbounded sensitivities for median {'school_year': 3.0, 'absence_days': 2.0}\n",
      "Unbounded sensitivities for count {'school_year': 4, 'absence_days': 4}\n",
      "Unbounded sensitivities for sum {'school_year': 33, 'absence_days': 50}\n",
      "Unbounded sensitivities for std {'school_year': 1.5723301886761005, 'absence_days': 3.9921748723400663}\n",
      "Unbounded sensitivities for var {'school_year': 6.327777777777779, 'absence_days': 29.573333333333327}\n",
      "Unbounded sensitivities for percentile 25 {'school_year': 3.0, 'absence_days': 3.0}\n",
      "Unbounded sensitivities for percentile 50 {'school_year': 3.0, 'absence_days': 2.0}\n",
      "Unbounded sensitivities for percentile 75 {'school_year': 3.5, 'absence_days': 3.0}\n",
      "Unbounded sensitivities for percentile 90 {'school_year': 4.0, 'absence_days': 9.999999999999998}\n"
     ]
    }
   ],
   "source": [
    "columns = ['school_year', 'absence_days']\n",
    "hamming_distances = [1, 2, 3, 4]\n",
    "unbounded_sensitivities = {}\n",
    "\n",
    "for hamming_distance in hamming_distances:\n",
    "    \n",
    "    print('Hamming distance = ', hamming_distance)\n",
    "    unbounded_sensitivities = calculate_unbounded_sensitivities(D_large_universe, D_large_release, columns, hamming_distance, unbounded_sensitivities)\n"
   ]
  },
  {
   "cell_type": "markdown",
   "metadata": {},
   "source": [
    "##### For the comparison of values you may check cell 24 of the notebook of my previous [blog post](https://github.com/gonzalo-munillag/Blog/blob/main/My_implementations/Global_sensitivity/Global_Sensitivity.ipynb)"
   ]
  },
  {
   "cell_type": "markdown",
   "metadata": {},
   "source": [
    "### Visualization"
   ]
  },
  {
   "cell_type": "code",
   "execution_count": 38,
   "metadata": {},
   "outputs": [
    {
     "data": {
      "image/png": "[encoded data removed]",
      "text/plain": [
       "<Figure size 1080x504 with 2 Axes>"
      ]
     },
     "metadata": {
      "needs_background": "light"
     },
     "output_type": "display_data"
    },
    {
     "data": {
      "text/plain": [
       "''"
      ]
     },
     "execution_count": 38,
     "metadata": {},
     "output_type": "execute_result"
    }
   ],
   "source": [
    "plt.figure(figsize=(15, 7))\n",
    " \n",
    "query_types = ['mean', 'median', 'count', 'sum', 'std', 'var', 'percentile_25', 'percentile_50', 'percentile_75', 'percentile_90']\n",
    "\n",
    "x_values = []\n",
    "for key in unbounded_sensitivities.keys():\n",
    "    \n",
    "    x_values.append(key)\n",
    "    \n",
    "for inedx_column, column in enumerate(columns):\n",
    "    \n",
    "    # Start the plot\n",
    "    plot_index = int(str(1) + str(len(columns)) + str(inedx_column+1))\n",
    "    plt.subplot(plot_index)\n",
    "    \n",
    "    query_type_legend_handles = []\n",
    "    for query_type in query_types:\n",
    "        \n",
    "        y_values = []\n",
    "        for hamming_distance in unbounded_sensitivities.keys():\n",
    "                           \n",
    "            y_values.append(unbounded_sensitivities[hamming_distance][query_type][column])   \n",
    "            \n",
    "        # plot the sensitivities\n",
    "        legend_handle, = plt.plot(x_values, y_values, label=query_type)\n",
    "        query_type_legend_handles.append(legend_handle)\n",
    "        \n",
    "    # Legends\n",
    "    legend = plt.legend(handles=query_type_legend_handles, bbox_to_anchor=(0., -0.2, 1., .102), \\\n",
    "                        ncol=5, mode=\"expand\", borderaxespad=0.)\n",
    "    legend_plot = plt.gca().add_artist(legend)\n",
    "    \n",
    "    # axis labels and titles\n",
    "    plt.xlabel('Hamming distance')\n",
    "    plt.ylabel('Local Sensitivity')\n",
    "    plt.title('{}) Universe Domain {} = {}'.format(inedx_column+1, column, D_large_universe[column].values))\n",
    "\n",
    "plt.suptitle('Local sensitivities based on unbounded DP of different queries for different domains for different hamming distances')\n",
    "plt.show()\n",
    ";"
   ]
  },
  {
   "cell_type": "markdown",
   "metadata": {},
   "source": [
    "##### For the comparison of plots you may check cell 26 of the notebook of my previous [blog post](https://github.com/gonzalo-munillag/Blog/blob/main/My_implementations/Global_sensitivity/Global_Sensitivity.ipynb)"
   ]
  },
  {
   "cell_type": "markdown",
   "metadata": {},
   "source": [
    "It is interesting to see that the sensitivity for variance declines and at least for the sum the local sensitivity seems to be equal to the global sensitivity. The rest have lower values. This means that this particular dataset is the one with the maximum sensitivity for sum. \n",
    "\n",
    "Looking at the raw data, you might have thought that perhaps if the dataset is the one that provides maximum local sensitivity for a particular hamming distance and query, then it is also the maximum for the rest of the values of the hamming distance. But I can corroborate in the next set of raw data for unbounded sensitivity that that is not true, e.g. you will see the median sometimes is the maximum local sensitivity and sometimes not."
   ]
  },
  {
   "cell_type": "markdown",
   "metadata": {},
   "source": [
    "Let us find the global sensitivity for a hamming distance of 1 iterating through all the possible combinations of the release dataset. Afterward, we will make a comparison with prior results. (I will comment the printing of sensitivity results for getting less verbose outputs)"
   ]
  },
  {
   "cell_type": "code",
   "execution_count": 39,
   "metadata": {},
   "outputs": [],
   "source": [
    "# We set the hamming distance and arrays to save the sensitivities\n",
    "hamming_distance = 1\n",
    "median_local_sensitivities = {}\n",
    "unbounded_sensitivities = {}\n",
    "columns = ['school_year', 'absence_days']\n",
    "query_type = 'median'\n",
    "\n",
    "for column in columns:\n",
    "    \n",
    "    # We get all the possible release datasets based on the universe\n",
    "    release_datasets = itertools.combinations(D_large_universe[column], D_large_release.shape[0])\n",
    "    release_datasets = list(release_datasets)\n",
    "    \n",
    "    median_local_sensitivities[column] = []\n",
    "    for release_dataset in release_datasets:\n",
    "\n",
    "        # I transform the release_dataset in the according format\n",
    "        release_dataset = pd.Series(release_dataset)\n",
    "        median_unbounded_global_sensitivities = unbounded_empirical_local_L1_sensitivity(D_large_universe, release_dataset, columns,  query_type, hamming_distance)\n",
    "        median_local_sensitivities[column].append(median_unbounded_global_sensitivities[column])    "
   ]
  },
  {
   "cell_type": "code",
   "execution_count": 40,
   "metadata": {},
   "outputs": [
    {
     "name": "stdout",
     "output_type": "stream",
     "text": [
      "Max local sensitivity (=global sensitivity) of school_year is 3.0\n",
      "Max local sensitivity (=global sensitivity) of absence_days is 2.5\n"
     ]
    }
   ],
   "source": [
    "for column in columns:\n",
    "    \n",
    "    max_sensitivity = np.max(median_local_sensitivities[column])\n",
    "    print('Max local sensitivity (=global sensitivity) of {} is {}'.format(column, max_sensitivity))"
   ]
  },
  {
   "cell_type": "markdown",
   "metadata": {},
   "source": [
    "##### Find these results in cell 25 of [blog post](https://github.com/gonzalo-munillag/Blog/blob/main/My_implementations/Global_sensitivity/Global_Sensitivity.ipynb). Look into hamming distance 1 and median: 3 and 2.5\n",
    "Here are the results for a hamming distance of 2, also obtaining equal resuls as in the previous blog post: 3.5 and 6."
   ]
  },
  {
   "cell_type": "code",
   "execution_count": 43,
   "metadata": {},
   "outputs": [],
   "source": [
    "# We set the hamming distance and arrays to save the sensitivities\n",
    "hamming_distance = 2\n",
    "median_local_sensitivities = {}\n",
    "unbounded_sensitivities = {}\n",
    "columns = ['school_year', 'absence_days']\n",
    "query_type = 'median'\n",
    "\n",
    "for column in columns:\n",
    "    \n",
    "    # We get all the possible release datasets based on the universe\n",
    "    release_datasets = itertools.combinations(D_large_universe[column], D_large_release.shape[0])\n",
    "    release_datasets = list(release_datasets)\n",
    "    \n",
    "    median_local_sensitivities[column] = []\n",
    "    for release_dataset in release_datasets:\n",
    "\n",
    "        # I transform the release_dataset in the according format\n",
    "        release_dataset = pd.Series(release_dataset)\n",
    "        median_unbounded_global_sensitivities = unbounded_empirical_local_L1_sensitivity(D_large_universe, release_dataset, columns,  query_type, hamming_distance)\n",
    "        median_local_sensitivities[column].append(median_unbounded_global_sensitivities[column])    "
   ]
  },
  {
   "cell_type": "code",
   "execution_count": 44,
   "metadata": {
    "scrolled": true
   },
   "outputs": [
    {
     "name": "stdout",
     "output_type": "stream",
     "text": [
      "Max local sensitivity (=global sensitivity) of school_year is 3.5\n",
      "Max local sensitivity (=global sensitivity) of absence_days is 6.0\n"
     ]
    }
   ],
   "source": [
    "for column in columns:\n",
    "    \n",
    "    max_sensitivity = np.max(median_local_sensitivities[column])\n",
    "    print('Max local sensitivity (=global sensitivity) of {} is {}'.format(column, max_sensitivity))"
   ]
  },
  {
   "cell_type": "markdown",
   "metadata": {},
   "source": [
    "### Bounded local sensitivity "
   ]
  },
  {
   "cell_type": "markdown",
   "metadata": {},
   "source": [
    "Let us begin with the small dataset and a hamming distance of 1 (the only one it allows given the shapes of the release and universe dataset)"
   ]
  },
  {
   "cell_type": "code",
   "execution_count": 49,
   "metadata": {},
   "outputs": [
    {
     "data": {
      "text/html": [
       "<div>\n",
       "<style scoped>\n",
       "    .dataframe tbody tr th:only-of-type {\n",
       "        vertical-align: middle;\n",
       "    }\n",
       "\n",
       "    .dataframe tbody tr th {\n",
       "        vertical-align: top;\n",
       "    }\n",
       "\n",
       "    .dataframe thead th {\n",
       "        text-align: right;\n",
       "    }\n",
       "</style>\n",
       "<table border=\"1\" class=\"dataframe\">\n",
       "  <thead>\n",
       "    <tr style=\"text-align: right;\">\n",
       "      <th></th>\n",
       "      <th>name</th>\n",
       "      <th>school_year</th>\n",
       "      <th>absence_days</th>\n",
       "    </tr>\n",
       "  </thead>\n",
       "  <tbody>\n",
       "    <tr>\n",
       "      <th>0</th>\n",
       "      <td>Chris</td>\n",
       "      <td>1</td>\n",
       "      <td>1</td>\n",
       "    </tr>\n",
       "    <tr>\n",
       "      <th>1</th>\n",
       "      <td>Kelly</td>\n",
       "      <td>2</td>\n",
       "      <td>2</td>\n",
       "    </tr>\n",
       "    <tr>\n",
       "      <th>2</th>\n",
       "      <td>Pat</td>\n",
       "      <td>3</td>\n",
       "      <td>3</td>\n",
       "    </tr>\n",
       "  </tbody>\n",
       "</table>\n",
       "</div>"
      ],
      "text/plain": [
       "    name  school_year  absence_days\n",
       "0  Chris            1             1\n",
       "1  Kelly            2             2\n",
       "2    Pat            3             3"
      ]
     },
     "execution_count": 49,
     "metadata": {},
     "output_type": "execute_result"
    }
   ],
   "source": [
    "D_small_release"
   ]
  },
  {
   "cell_type": "code",
   "execution_count": 50,
   "metadata": {},
   "outputs": [
    {
     "data": {
      "text/html": [
       "<div>\n",
       "<style scoped>\n",
       "    .dataframe tbody tr th:only-of-type {\n",
       "        vertical-align: middle;\n",
       "    }\n",
       "\n",
       "    .dataframe tbody tr th {\n",
       "        vertical-align: top;\n",
       "    }\n",
       "\n",
       "    .dataframe thead th {\n",
       "        text-align: right;\n",
       "    }\n",
       "</style>\n",
       "<table border=\"1\" class=\"dataframe\">\n",
       "  <thead>\n",
       "    <tr style=\"text-align: right;\">\n",
       "      <th></th>\n",
       "      <th>name</th>\n",
       "      <th>school_year</th>\n",
       "      <th>absence_days</th>\n",
       "    </tr>\n",
       "  </thead>\n",
       "  <tbody>\n",
       "    <tr>\n",
       "      <th>0</th>\n",
       "      <td>Chris</td>\n",
       "      <td>1</td>\n",
       "      <td>1</td>\n",
       "    </tr>\n",
       "    <tr>\n",
       "      <th>1</th>\n",
       "      <td>Kelly</td>\n",
       "      <td>2</td>\n",
       "      <td>2</td>\n",
       "    </tr>\n",
       "    <tr>\n",
       "      <th>2</th>\n",
       "      <td>Pat</td>\n",
       "      <td>3</td>\n",
       "      <td>3</td>\n",
       "    </tr>\n",
       "    <tr>\n",
       "      <th>3</th>\n",
       "      <td>Terry</td>\n",
       "      <td>4</td>\n",
       "      <td>10</td>\n",
       "    </tr>\n",
       "  </tbody>\n",
       "</table>\n",
       "</div>"
      ],
      "text/plain": [
       "    name  school_year  absence_days\n",
       "0  Chris            1             1\n",
       "1  Kelly            2             2\n",
       "2    Pat            3             3\n",
       "3  Terry            4            10"
      ]
     },
     "execution_count": 50,
     "metadata": {},
     "output_type": "execute_result"
    }
   ],
   "source": [
    "D_small_universe"
   ]
  },
  {
   "cell_type": "markdown",
   "metadata": {},
   "source": [
    "##### For {1, 2, 3}, the local sensitivity of the median should be 1 for absence_days (above inequality 16 of point 6 of the paper):"
   ]
  },
  {
   "cell_type": "code",
   "execution_count": 51,
   "metadata": {
    "scrolled": true
   },
   "outputs": [
    {
     "name": "stdout",
     "output_type": "stream",
     "text": [
      "Bounded sensitivities for mean {'school_year': 1.0, 'absence_days': 3.0}\n",
      "Bounded sensitivities for median {'school_year': 1.0, 'absence_days': 1.0}\n",
      "Bounded sensitivities for count {'school_year': 0, 'absence_days': 0}\n",
      "Bounded sensitivities for sum {'school_year': 3, 'absence_days': 9}\n",
      "Bounded sensitivities for std {'school_year': 0.430722547996921, 'absence_days': 3.2111854102704642}\n",
      "Bounded sensitivities for var {'school_year': 0.8888888888888887, 'absence_days': 15.555555555555555}\n",
      "Bounded sensitivities for percentile 25 {'school_year': 1.0, 'absence_days': 1.0}\n",
      "Bounded sensitivities for percentile 50 {'school_year': 1.0, 'absence_days': 1.0}\n",
      "Bounded sensitivities for percentile 75 {'school_year': 1.0, 'absence_days': 4.0}\n",
      "Bounded sensitivities for percentile 90 {'school_year': 0.9999999999999996, 'absence_days': 5.799999999999999}\n"
     ]
    }
   ],
   "source": [
    "columns = ['school_year', 'absence_days']\n",
    "hamming_distance = 1\n",
    "bounded_sensitivities = {}\n",
    "bounded_sensitivities = calculate_bounded_sensitivities(D_small_universe, D_small_release, columns, hamming_distance, bounded_sensitivities)"
   ]
  },
  {
   "cell_type": "markdown",
   "metadata": {},
   "source": [
    "Note that these values are equal to the ones obtained with global sensitivity this is because, the universe is very small in comparison to the release dataset (differ in cardinality 1), so the neighbors of all the possible release datasets are the same. Thus, it does not matter that you do local or global sensitivity in this case."
   ]
  },
  {
   "cell_type": "markdown",
   "metadata": {},
   "source": [
    "#### Let us try our function with a larger dataset and with a larger hamming distance."
   ]
  },
  {
   "cell_type": "code",
   "execution_count": 52,
   "metadata": {},
   "outputs": [
    {
     "data": {
      "text/html": [
       "<div>\n",
       "<style scoped>\n",
       "    .dataframe tbody tr th:only-of-type {\n",
       "        vertical-align: middle;\n",
       "    }\n",
       "\n",
       "    .dataframe tbody tr th {\n",
       "        vertical-align: top;\n",
       "    }\n",
       "\n",
       "    .dataframe thead th {\n",
       "        text-align: right;\n",
       "    }\n",
       "</style>\n",
       "<table border=\"1\" class=\"dataframe\">\n",
       "  <thead>\n",
       "    <tr style=\"text-align: right;\">\n",
       "      <th></th>\n",
       "      <th>name</th>\n",
       "      <th>school_year</th>\n",
       "      <th>absence_days</th>\n",
       "    </tr>\n",
       "  </thead>\n",
       "  <tbody>\n",
       "    <tr>\n",
       "      <th>0</th>\n",
       "      <td>Chris</td>\n",
       "      <td>1</td>\n",
       "      <td>1</td>\n",
       "    </tr>\n",
       "    <tr>\n",
       "      <th>1</th>\n",
       "      <td>Kelly</td>\n",
       "      <td>2</td>\n",
       "      <td>2</td>\n",
       "    </tr>\n",
       "    <tr>\n",
       "      <th>2</th>\n",
       "      <td>Keny</td>\n",
       "      <td>2</td>\n",
       "      <td>3</td>\n",
       "    </tr>\n",
       "    <tr>\n",
       "      <th>3</th>\n",
       "      <td>Sherry</td>\n",
       "      <td>2</td>\n",
       "      <td>4</td>\n",
       "    </tr>\n",
       "    <tr>\n",
       "      <th>4</th>\n",
       "      <td>Jerry</td>\n",
       "      <td>5</td>\n",
       "      <td>5</td>\n",
       "    </tr>\n",
       "    <tr>\n",
       "      <th>5</th>\n",
       "      <td>Morty</td>\n",
       "      <td>5</td>\n",
       "      <td>6</td>\n",
       "    </tr>\n",
       "    <tr>\n",
       "      <th>6</th>\n",
       "      <td>Beth</td>\n",
       "      <td>7</td>\n",
       "      <td>7</td>\n",
       "    </tr>\n",
       "    <tr>\n",
       "      <th>7</th>\n",
       "      <td>Summer</td>\n",
       "      <td>8</td>\n",
       "      <td>8</td>\n",
       "    </tr>\n",
       "    <tr>\n",
       "      <th>8</th>\n",
       "      <td>Squanchy</td>\n",
       "      <td>9</td>\n",
       "      <td>15</td>\n",
       "    </tr>\n",
       "    <tr>\n",
       "      <th>9</th>\n",
       "      <td>Rick</td>\n",
       "      <td>9</td>\n",
       "      <td>20</td>\n",
       "    </tr>\n",
       "  </tbody>\n",
       "</table>\n",
       "</div>"
      ],
      "text/plain": [
       "       name  school_year  absence_days\n",
       "0     Chris            1             1\n",
       "1     Kelly            2             2\n",
       "2      Keny            2             3\n",
       "3    Sherry            2             4\n",
       "4     Jerry            5             5\n",
       "5     Morty            5             6\n",
       "6      Beth            7             7\n",
       "7    Summer            8             8\n",
       "8  Squanchy            9            15\n",
       "9      Rick            9            20"
      ]
     },
     "execution_count": 52,
     "metadata": {},
     "output_type": "execute_result"
    }
   ],
   "source": [
    "D_large_universe"
   ]
  },
  {
   "cell_type": "code",
   "execution_count": 53,
   "metadata": {},
   "outputs": [
    {
     "data": {
      "text/html": [
       "<div>\n",
       "<style scoped>\n",
       "    .dataframe tbody tr th:only-of-type {\n",
       "        vertical-align: middle;\n",
       "    }\n",
       "\n",
       "    .dataframe tbody tr th {\n",
       "        vertical-align: top;\n",
       "    }\n",
       "\n",
       "    .dataframe thead th {\n",
       "        text-align: right;\n",
       "    }\n",
       "</style>\n",
       "<table border=\"1\" class=\"dataframe\">\n",
       "  <thead>\n",
       "    <tr style=\"text-align: right;\">\n",
       "      <th></th>\n",
       "      <th>name</th>\n",
       "      <th>school_year</th>\n",
       "      <th>absence_days</th>\n",
       "    </tr>\n",
       "  </thead>\n",
       "  <tbody>\n",
       "    <tr>\n",
       "      <th>0</th>\n",
       "      <td>Chris</td>\n",
       "      <td>1</td>\n",
       "      <td>1</td>\n",
       "    </tr>\n",
       "    <tr>\n",
       "      <th>1</th>\n",
       "      <td>Kelly</td>\n",
       "      <td>2</td>\n",
       "      <td>2</td>\n",
       "    </tr>\n",
       "    <tr>\n",
       "      <th>2</th>\n",
       "      <td>Keny</td>\n",
       "      <td>2</td>\n",
       "      <td>3</td>\n",
       "    </tr>\n",
       "    <tr>\n",
       "      <th>3</th>\n",
       "      <td>Sherry</td>\n",
       "      <td>2</td>\n",
       "      <td>4</td>\n",
       "    </tr>\n",
       "    <tr>\n",
       "      <th>4</th>\n",
       "      <td>Jerry</td>\n",
       "      <td>5</td>\n",
       "      <td>5</td>\n",
       "    </tr>\n",
       "    <tr>\n",
       "      <th>5</th>\n",
       "      <td>Morty</td>\n",
       "      <td>5</td>\n",
       "      <td>6</td>\n",
       "    </tr>\n",
       "  </tbody>\n",
       "</table>\n",
       "</div>"
      ],
      "text/plain": [
       "     name  school_year  absence_days\n",
       "0   Chris            1             1\n",
       "1   Kelly            2             2\n",
       "2    Keny            2             3\n",
       "3  Sherry            2             4\n",
       "4   Jerry            5             5\n",
       "5   Morty            5             6"
      ]
     },
     "execution_count": 53,
     "metadata": {},
     "output_type": "execute_result"
    }
   ],
   "source": [
    "D_large_release"
   ]
  },
  {
   "cell_type": "markdown",
   "metadata": {},
   "source": [
    "Find the results in cell 33 of [blog post](https://github.com/gonzalo-munillag/Blog/blob/main/My_implementations/Global_sensitivity/Global_Sensitivity.ipynb) in order to compare them to these. You will see that some of them are equal (this dataset in particular provides max local sensitivity for a particular hamming distance and query, and some are smaller, never larger). "
   ]
  },
  {
   "cell_type": "code",
   "execution_count": 54,
   "metadata": {},
   "outputs": [
    {
     "name": "stdout",
     "output_type": "stream",
     "text": [
      "Hamming distance =  1\n",
      "Bounded sensitivities for mean {'school_year': 1.3333333333333335, 'absence_days': 3.166666666666667}\n",
      "Bounded sensitivities for median {'school_year': 1.5, 'absence_days': 1.0}\n",
      "Bounded sensitivities for count {'school_year': 0, 'absence_days': 0}\n",
      "Bounded sensitivities for sum {'school_year': 8, 'absence_days': 19}\n",
      "Bounded sensitivities for std {'school_year': 1.1814550849669505, 'absence_days': 4.757896452763675}\n",
      "Bounded sensitivities for var {'school_year': 5.111111111111111, 'absence_days': 38.8888888888889}\n",
      "Bounded sensitivities for percentile 25 {'school_year': 0.0, 'absence_days': 1.0}\n",
      "Bounded sensitivities for percentile 50 {'school_year': 1.5, 'absence_days': 1.0}\n",
      "Bounded sensitivities for percentile 75 {'school_year': 0.75, 'absence_days': 1.0}\n",
      "Bounded sensitivities for percentile 90 {'school_year': 2.0, 'absence_days': 7.5}\n",
      "Hamming distance =  2\n",
      "Bounded sensitivities for mean {'school_year': 2.4999999999999996, 'absence_days': 5.333333333333334}\n",
      "Bounded sensitivities for median {'school_year': 3.0, 'absence_days': 2.0}\n",
      "Bounded sensitivities for count {'school_year': 0, 'absence_days': 0}\n",
      "Bounded sensitivities for sum {'school_year': 15, 'absence_days': 32}\n",
      "Bounded sensitivities for std {'school_year': 1.8635911660052833, 'absence_days': 5.566559153271799}\n",
      "Bounded sensitivities for var {'school_year': 9.333333333333336, 'absence_days': 50.0}\n",
      "Bounded sensitivities for percentile 25 {'school_year': 0.75, 'absence_days': 2.0}\n",
      "Bounded sensitivities for percentile 50 {'school_year': 3.0, 'absence_days': 2.0}\n",
      "Bounded sensitivities for percentile 75 {'school_year': 3.75, 'absence_days': 8.0}\n",
      "Bounded sensitivities for percentile 90 {'school_year': 4.0, 'absence_days': 12.0}\n",
      "Hamming distance =  3\n",
      "Bounded sensitivities for mean {'school_year': 3.4999999999999996, 'absence_days': 6.166666666666666}\n",
      "Bounded sensitivities for median {'school_year': 4.5, 'absence_days': 3.5}\n",
      "Bounded sensitivities for count {'school_year': 0, 'absence_days': 0}\n",
      "Bounded sensitivities for sum {'school_year': 21, 'absence_days': 37}\n",
      "Bounded sensitivities for std {'school_year': 1.9592731613934147, 'absence_days': 5.566559153271799}\n",
      "Bounded sensitivities for var {'school_year': 10.000000000000002, 'absence_days': 50.0}\n",
      "Bounded sensitivities for percentile 25 {'school_year': 3.0, 'absence_days': 3.0}\n",
      "Bounded sensitivities for percentile 50 {'school_year': 4.5, 'absence_days': 3.5}\n",
      "Bounded sensitivities for percentile 75 {'school_year': 4.5, 'absence_days': 8.5}\n",
      "Bounded sensitivities for percentile 90 {'school_year': 4.0, 'absence_days': 12.0}\n",
      "Hamming distance =  4\n",
      "Bounded sensitivities for mean {'school_year': 4.333333333333334, 'absence_days': 6.666666666666666}\n",
      "Bounded sensitivities for median {'school_year': 5.5, 'absence_days': 4.0}\n",
      "Bounded sensitivities for count {'school_year': 0, 'absence_days': 0}\n",
      "Bounded sensitivities for sum {'school_year': 26, 'absence_days': 40}\n",
      "Bounded sensitivities for std {'school_year': 1.9592731613934147, 'absence_days': 5.566559153271799}\n",
      "Bounded sensitivities for var {'school_year': 10.000000000000002, 'absence_days': 50.0}\n",
      "Bounded sensitivities for percentile 25 {'school_year': 3.5, 'absence_days': 4.0}\n",
      "Bounded sensitivities for percentile 50 {'school_year': 5.5, 'absence_days': 4.0}\n",
      "Bounded sensitivities for percentile 75 {'school_year': 4.5, 'absence_days': 8.5}\n",
      "Bounded sensitivities for percentile 90 {'school_year': 4.0, 'absence_days': 12.0}\n"
     ]
    }
   ],
   "source": [
    "columns = ['school_year', 'absence_days']\n",
    "hamming_distances = [1, 2, 3, 4]\n",
    "bounded_sensitivities = {}\n",
    "\n",
    "for hamming_distance in hamming_distances:\n",
    "    \n",
    "    print('Hamming distance = ', hamming_distance)\n",
    "    bounded_sensitivities = calculate_bounded_sensitivities(D_large_universe, D_large_release, columns, hamming_distance, bounded_sensitivities)\n"
   ]
  },
  {
   "cell_type": "markdown",
   "metadata": {},
   "source": [
    "### Visualization"
   ]
  },
  {
   "cell_type": "code",
   "execution_count": 55,
   "metadata": {},
   "outputs": [
    {
     "data": {
      "image/png": "[encoded data removed]",
      "text/plain": [
       "<Figure size 1080x504 with 2 Axes>"
      ]
     },
     "metadata": {
      "needs_background": "light"
     },
     "output_type": "display_data"
    },
    {
     "data": {
      "text/plain": [
       "''"
      ]
     },
     "execution_count": 55,
     "metadata": {},
     "output_type": "execute_result"
    }
   ],
   "source": [
    "plt.figure(figsize=(15, 7))\n",
    " \n",
    "query_types = ['mean', 'median', 'count', 'sum', 'std', 'var', 'percentile_25', 'percentile_50', 'percentile_75', 'percentile_90']\n",
    "\n",
    "x_values = []\n",
    "for key in bounded_sensitivities.keys():\n",
    "    \n",
    "    x_values.append(key)\n",
    "    \n",
    "for inedx_column, column in enumerate(columns):\n",
    "    \n",
    "    # Start the plot\n",
    "    plot_index = int(str(1) + str(len(columns)) + str(inedx_column+1))\n",
    "    plt.subplot(plot_index)\n",
    "    \n",
    "    query_type_legend_handles = []\n",
    "    for query_type in query_types:\n",
    "        \n",
    "        y_values = []\n",
    "        for hamming_distance in bounded_sensitivities.keys():\n",
    "                           \n",
    "            y_values.append(bounded_sensitivities[hamming_distance][query_type][column])   \n",
    "            \n",
    "        # plot the sensitivities\n",
    "        legend_handle, = plt.plot(x_values, y_values, label=query_type)\n",
    "        query_type_legend_handles.append(legend_handle)\n",
    "        \n",
    "    # Legends\n",
    "    legend = plt.legend(handles=query_type_legend_handles, bbox_to_anchor=(0., -0.2, 1., .102), \\\n",
    "                        ncol=5, mode=\"expand\", borderaxespad=0.)\n",
    "    legend_plot = plt.gca().add_artist(legend)\n",
    "    \n",
    "    # axis labels and titles\n",
    "    plt.xlabel('Hamming distance')\n",
    "    plt.ylabel('Local Sensitivity')\n",
    "    plt.title('{}) Universe Domain {} = {}'.format(inedx_column+1, column, D_large_universe[column].values))\n",
    "\n",
    "plt.suptitle('Local sensitivities based on unbounded DP of different queries for different domains for different hamming distances')\n",
    "plt.show()\n",
    ";"
   ]
  },
  {
   "cell_type": "markdown",
   "metadata": {},
   "source": [
    "The sum, the mean, the std, and the variance seem to be the same as in global sensitivity. You can also see that of course the values are not higher that in global sensitivity. "
   ]
  },
  {
   "cell_type": "markdown",
   "metadata": {},
   "source": [
    "#### Let us find the global sensitivity for a hamming distance of 1 iterating through all the possible combinations of the release dataset. then, we will compare this result with my previous [blog post](https://github.com/gonzalo-munillag/Blog/blob/main/My_implementations/Global_sensitivity/Global_Sensitivity.ipynb) (I will comment the printing of sensitivity results for getting less verbose outputs). It should be 3 and 2.5, as per cell 33."
   ]
  },
  {
   "cell_type": "code",
   "execution_count": 249,
   "metadata": {},
   "outputs": [],
   "source": [
    "# We set the hamming distance and arrays to save the sensitivities\n",
    "hamming_distance = 1\n",
    "median_local_sensitivities = {}\n",
    "bounded_sensitivities = {}\n",
    "columns = ['school_year', 'absence_days']\n",
    "query_type = 'median'\n",
    "\n",
    "for column in columns:\n",
    "    \n",
    "    # We get all the possible release datasets based on the release dataset\n",
    "    release_datasets = itertools.combinations(D_large_universe[column], D_large_release.shape[0])\n",
    "    release_datasets = list(release_datasets)\n",
    "    \n",
    "    median_local_sensitivities[column] = []\n",
    "    for release_dataset in release_datasets:\n",
    "\n",
    "        # I transform the release_dataset in the according format\n",
    "        release_dataset = pd.Series(release_dataset)\n",
    "        median_bounded_global_sensitivities = bounded_empirical_local_L1_sensitivity(D_large_universe, release_dataset, columns,  query_type, hamming_distance)\n",
    "        median_local_sensitivities[column].append(median_bounded_global_sensitivities[column])    "
   ]
  },
  {
   "cell_type": "code",
   "execution_count": 250,
   "metadata": {},
   "outputs": [
    {
     "name": "stdout",
     "output_type": "stream",
     "text": [
      "Max local sensitivity (=global sensitivity) of school_year is 3.0\n",
      "Max local sensitivity (=global sensitivity) of absence_days is 2.5\n"
     ]
    }
   ],
   "source": [
    "for column in columns:\n",
    "    \n",
    "    max_sensitivity = np.max(median_local_sensitivities[column])\n",
    "    print('Max local sensitivity (=global sensitivity) of {} is {}'.format(column, max_sensitivity))"
   ]
  },
  {
   "cell_type": "markdown",
   "metadata": {},
   "source": [
    "#### For a hamming distance of 2, then the values should be 4 and 5.5, as in cell 33 of  [blog post](https://github.com/gonzalo-munillag/Blog/blob/main/My_implementations/Global_sensitivity/Global_Sensitivity.ipynb)"
   ]
  },
  {
   "cell_type": "code",
   "execution_count": 56,
   "metadata": {},
   "outputs": [],
   "source": [
    "# We set the hamming distance and arrays to save the sensitivities\n",
    "hamming_distance = 2\n",
    "median_local_sensitivities = {}\n",
    "bounded_sensitivities = {}\n",
    "columns = ['school_year', 'absence_days']\n",
    "query_type = 'median'\n",
    "\n",
    "for column in columns:\n",
    "    \n",
    "    # We get all the possible release datasets based on the release dataset\n",
    "    release_datasets = itertools.combinations(D_large_universe[column], D_large_release.shape[0])\n",
    "    release_datasets = list(release_datasets)\n",
    "    \n",
    "    median_local_sensitivities[column] = []\n",
    "    for release_dataset in release_datasets:\n",
    "\n",
    "        # I transform the release_dataset in the according format\n",
    "        release_dataset = pd.Series(release_dataset)\n",
    "        median_bounded_global_sensitivities = bounded_empirical_local_L1_sensitivity(D_large_universe, release_dataset, columns,  query_type, hamming_distance)\n",
    "        median_local_sensitivities[column].append(median_bounded_global_sensitivities[column])    "
   ]
  },
  {
   "cell_type": "code",
   "execution_count": 57,
   "metadata": {},
   "outputs": [
    {
     "name": "stdout",
     "output_type": "stream",
     "text": [
      "Max local sensitivity (=global sensitivity) of school_year is 5.5\n",
      "Max local sensitivity (=global sensitivity) of absence_days is 4.0\n"
     ]
    }
   ],
   "source": [
    "for column in columns:\n",
    "    \n",
    "    max_sensitivity = np.max(median_local_sensitivities[column])\n",
    "    print('Max local sensitivity (=global sensitivity) of {} is {}'.format(column, max_sensitivity))"
   ]
  }
 ],
 "metadata": {
  "kernelspec": {
   "display_name": "Python 3",
   "language": "python",
   "name": "python3"
  },
  "language_info": {
   "codemirror_mode": {
    "name": "ipython",
    "version": 3
   },
   "file_extension": ".py",
   "mimetype": "text/x-python",
   "name": "python",
   "nbconvert_exporter": "python",
   "pygments_lexer": "ipython3",
   "version": "3.7.6"
  }
 },
 "nbformat": 4,
 "nbformat_minor": 4
}
