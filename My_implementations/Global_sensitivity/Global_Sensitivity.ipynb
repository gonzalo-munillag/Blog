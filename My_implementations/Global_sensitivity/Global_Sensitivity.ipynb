{
 "cells": [
  {
   "cell_type": "markdown",
   "metadata": {},
   "source": [
    "# Global sensitivity"
   ]
  },
  {
   "cell_type": "markdown",
   "metadata": {},
   "source": [
    "The goal of this notebook is to showcase 2 functions, one that implements sensitivity based on the unbounded differential privacy (DP) definition, and another that implements sensitivity based on a bounded definition.\n",
    "I am not aiming for efficiency but for a deeper understanding of how to implement sensitivity empirically from scratch.\n",
    "\n",
    "Before continuing there needs to be some clarifications:\n",
    "In bounded DP, the neighboring dataset is built by changing the records of the dataset (not adding to removing records). E.g. x = {1, 2, 3} (|x|=3) with universe X = {1, 2, 3, 4}, a neighboring dataset in this case would be: x' = {1, 2, 4} (|x'| = 3). They have the same cardinality.\n",
    "In unbounded DP definition, the neighboring dataset is built by adding ot removing records. E.g. x = {1, 2, 3} (|x| = 3) with universe X = {1, 2, 3, 4}, a neighboring dataset in this case could be: x' = {1, 2} or {1, 3} or {1, 2, 3, 4} (|x|=2 or |x|=2 or |x|=4, but not |x|=3). Their cardinality differs by 1.\n",
    "The datasets considered are multisets, and their cardinality is the sum of the multiplicities of each value they contain.\n",
    "The neighboring datasets are also multisets and are considered neighbors if the hamming distance concerning the original dataset is of value k. This parameter is set by the data scientist, but the original definition of DP has a value of k=1 (used for the previous examples).\n",
    "\n",
    "The hamming distance can be seen as the cardinality of the symmetric difference between 2 datasets. With this in mind, the definition of DP can be written as:\n",
    "\n",
    "P(M(x) = O) = P(M(x') = O) * exp(epsilon * |x ⊖ x'|)\n",
    "\n",
    "Where M is a randomized computation, x a dataset, x' its neighbor at hamming distance k = |x ⊖ x'|, and O an output of M given x and x'. \n",
    "\n",
    "k is usually 1, to the best of my knowledge, because one aims to protect one individual in the dataset, and by definition, each individual within would therefore be protected. By making the probabilities of obtaining an output O similar betwen two datasets that differ only only in 1 record, one is successfully cloaking the real value of O and therefore not updating fully the knowledge of the adversary, which if done properly, would still be 50/50 between wich dataset was actually the real one. \n",
    "\n",
    "Looking at the defintino of DP, the higher your k, the more you would increase exp(.), which means that the difference between the probabilities to obtain those outputs will be larger, and thus your privacy would not be equally conserved (although sensitivities increase with k as you can see in the plots).\n",
    "\n",
    "I have not come across an intuition for having a larger hamming distance (please feel free to [connect](https://www.linkedin.com/in/gonzalo-munilla/) if you have an explanation). Looking at the previous paragraph, it would seem as if having a hamming distance of k=2 would aim to protect pairs of records (individuals), i.e. it accounts for the fact that there are dependencies between records in the dataset that need to be considered as they increase the probability ratio (undesirable). It could make sense if there are some binary relationship between records, e.g. pairs of siblings, or n-ary relationships for k=n, e.g. in a social network. \n",
    "\n",
    "I am however far from certain of my hypothesis for the intuition behind a larger hamming distance.\n",
    "\n",
    "**Contributions**:\n",
    "1. I programmed a function that calculates the bounded and unbounded sensitivity of a dataset formed by numeric columns- Additionally, it allows you to vary the hamming distance. Its empirical nature will not allow it to scale well, i.e., the function creates all possible neighboring datasets, with k less or more records (for unbounded DP) and with the same amount of records but changing k values (bounded DP). Where k is the hamming distance. The function calculates the query result for each possible neighboring dataset, then calculates all possible L1 norms, and then chooses the maximum. That will be the sensitivity defined in DP.\n",
    "2. The sensitivity can be calculated for most of the basic queries: mean, median, percentile, sum, var, std, count*.\n",
    "\n",
    "I have differentiated between 2 cases:\n",
    "1. (a) The universe of possible values is based on a dataset, and the size of the released dataset is known before release, i.e. the cardinality of the universe subset. This scenario could be e.g. releasing a study based on some students out of all the students at a school. (Note: the dataset to be released cannot be larger than the dataset used for the universe, only equal or smaller).\n",
    "2. (b) The universe of possible values is based on a range of values, and the size of the released dataset is known before release. A range is used because the exact values that could potentially be released are not known in advance, thus a range where those values could fall into must be used to perform the sensitivity calculation. This scenario could be e.g. releasing real-time DP results from an IoT device. \n",
    "We assume that the size of the released dataset is known, i.e. we know there are n amount of records being queried or from which a synopsis (statistical summary) will be made. This is safe to assume as the number of users or IoT devices in an application can be designed to be known*.\n",
    "For simplicity, from now on, I will call the datasets D_universe_a and _b, D_release_a and _b, and D_neighbor for (a) and (b).\n",
    "\n",
    "Note that this is somewhat different from the online (on) (or interactive) and the offline (off) (or non-interactive) definition that [C. Dwork](https://www.cis.upenn.edu/~aaroth/Papers/privacybook.pdf) introduces in her work. These deal with not knowing or knowing the queries beforehand, respectively. But, we could have the case (a) and case (b) in both (on) or (off):\n",
    "1. Scenario (a) + (on): API that allows external entities to query in a DP manner a subset of the school dataset you host internally (or its entirety).\n",
    "2. Scenario (a) + (off): Release externally a DP synopsis (statistical summary) of a subset of the school dataset you host internally (or its entirety).\n",
    "3. Scenario (b) + (on): API that allows external entities to query in a DP manner a dataset updated in real-time by IoT devices hosted internally or decentrally.\n",
    "4. Scenario (b) + (off): Release externally a DP synopsis of a dataset updated in real-time by IoT devices hosted internally or decentrally.\n",
    "\n",
    "For this notebook, we will consider Scenario (a) + (off) and (b) + (off).\n",
    "\n",
    "Also note that (a) and (b) is also somewhat different to local DP (LDP) (DP applied on the device, usually randomized response) versus global DP (GDP) (the third party trusted with all the data, allows for other algorithms). This notebook is focused on GDP. So we have (a) + (off) + (GDP) and (b) + (off) + (GDP). \n",
    "\n",
    "Mean questions for clarification: \n",
    "- How can (b) and (GDP) go together? The third-party can host a server to process real-time data. \n",
    "- Then, why does not the third party aggregate this real-time data and do (a) instead of (b)? It could, but because your dataset is ever-growing, you would need to compute sensitivities every time your dataset would change, which is in real-time, that can be computationally inefficient. \n",
    "- But still, you could do (a), right? You could, but you would have to release data over a defined period and release a synopsis aggregating these data. Thus, your service would not be as close to real-time anymore as it would be with (b). But definitively, it is a question to further investigate.\n",
    "- So what is the major benefit of (b)? You do not need to re-compute your sensitivities, the drawback is that if your domain of possible values is very large then your noise will be larger. In (a) your universe might not contain such wide possible ranges, so it benefits your accuracy. But you can also fine-tune your range in D_universe_b based on an older sample of D_release_b. **But definitively you would like to calculate your sensitivities in case b with an upper bound found theoretically, as finding it empirically is computationally expensive.** You could do the same for case (a), but there is the possibility to find a much better result via calculating its exact global sensitivity. \n",
    "- Mmm, and what if you do not know the full domain of your universe? That is indeed a good question. Well, then you will have to do some clipping to not get any surprises. E.g., if you defined your universe like D_universe_b = {'Age': [1, 2, ..., 99, 100]}, but you get a value in real-time like [122](https://en.wikipedia.org/wiki/List_of_the_verified_oldest_people), then you should do top-coding, 122->100, so you can include its value. Outliers and DP do not go well. You can protect them, but the cost would be too high (higher noise), and why would you do that? DP allows you to perform statistical queries, the mean or the sum would not be representative of the population if there are outliers in it. DP is used to learn from a population, not from outliers, if you would like to learn about outliers, then DP is not for you. \n",
    "\n",
    "The main difference in this notebook between scenario a and b (aside from the one mentioned), is programmatic: How you define the universe to input into the functions. The functions I created (for the sensitivities in unbounded and bounded DP) serve both scenarios. But in scenario b, aside from the fact that you have only a range of values, to calculate the sensitivity, you have to make as many replicates of each value of the universe as the size of the released dataset. Why? Because if you define your range like e.g. D_universe_b = {'Age': [1, 2, ..., 99, 100]} and with a |D_release| = 4, you could on real-time get a D_release_b={'Age':[100,100,100,100]} or another like D_release_b={'Age':[35, 35, 35, 35]}.\n",
    "\n",
    "Something to also note is that the functions that calculate the sensitivities only need a universe and the size of the released dataset (together with the hamming distance). They do not need the actual release dataset, which could be a possibility.\n",
    "\n",
    "Limitations:\n",
    "1. The functions to calculate sensitivity do not scale well in terms of the size of your universe\n",
    "2. *****The count query sensitivity should be 1 for unbounded and 2 for bounded DP. The former is clear because you just add or remove one record, increasing or decreasing the total count of the record by one. However, if you have bounded sensitivity, the change of one record might lead to the decrease of the count of one record and the increase of the count of another, yielding a total difference of 2. These 2 cases are not accounted for, we solely count the number of elements in the array, which leads to a sensitivity of 1 in unbounded and of 0 inbounded. To empirically prove the fact that for bounded you have a sensitivity of 2, there needs to be more work done on how the query results are handled, which is a lot of extra workload for obtaining a solution that is already well known.**\n",
    "\n",
    "***** If the number of users/IoT devices is desired to be protected, then one can take a large sample of records, but not all the records, and the cardinality considered would be the number of the sampled records. Thus an attacker would not know the actual number of users/IoT devices."
   ]
  },
  {
   "cell_type": "markdown",
   "metadata": {},
   "source": [
    "## Datasets"
   ]
  },
  {
   "cell_type": "code",
   "execution_count": 1,
   "metadata": {},
   "outputs": [
    {
     "name": "stdout",
     "output_type": "stream",
     "text": [
      "Populating the interactive namespace from numpy and matplotlib\n"
     ]
    }
   ],
   "source": [
    "# Visualization\n",
    "%pylab inline\n",
    "from IPython.display import display, Math, Latex\n",
    "import matplotlib.pyplot as plt\n",
    "\n",
    "# handling data\n",
    "import csv\n",
    "import json\n",
    "import pandas as pd\n",
    "\n",
    "# Math\n",
    "from random import random\n",
    "import scipy.stats as ss\n",
    "import numpy as np\n",
    "import itertools\n",
    "from collections import Counter "
   ]
  },
  {
   "cell_type": "markdown",
   "metadata": {},
   "source": [
    "### Datasets (a)"
   ]
  },
  {
   "cell_type": "markdown",
   "metadata": {},
   "source": [
    "We have 2 datsets to test our function:\n",
    "- (a_s) A small one I can use to benchmark our functions against a published paper [\"How much is enough? Choosing epsilon for Differential Privacy\"](https://git.gnunet.org/bibliography.git/plain/docs/Choosing-%CE%B5-2011Lee.pdf). Which was implemented in my previous [blog post](https://github.com/gonzalo-munillag/Blog/tree/main/Extant_Papers_Implementations/A_method_to_choose_epsilon).\n",
    "- (a_l) A large one to test the functions further.\n",
    "\n",
    "The use case will be records from the students in a school."
   ]
  },
  {
   "cell_type": "markdown",
   "metadata": {},
   "source": [
    "###### D_a_small (Dataset for scenario a - small)"
   ]
  },
  {
   "cell_type": "code",
   "execution_count": 2,
   "metadata": {},
   "outputs": [],
   "source": [
    "# We define the actual dataset (conforming the universe)\n",
    "D_a_small_universe_dict = {'name': ['Chris', 'Kelly', 'Pat', 'Terry'], 'school_year': [1, 2, 3, 4], 'absence_days': [1, 2, 3, 10]}"
   ]
  },
  {
   "cell_type": "code",
   "execution_count": 3,
   "metadata": {},
   "outputs": [
    {
     "data": {
      "text/html": [
       "<div>\n",
       "<style scoped>\n",
       "    .dataframe tbody tr th:only-of-type {\n",
       "        vertical-align: middle;\n",
       "    }\n",
       "\n",
       "    .dataframe tbody tr th {\n",
       "        vertical-align: top;\n",
       "    }\n",
       "\n",
       "    .dataframe thead th {\n",
       "        text-align: right;\n",
       "    }\n",
       "</style>\n",
       "<table border=\"1\" class=\"dataframe\">\n",
       "  <thead>\n",
       "    <tr style=\"text-align: right;\">\n",
       "      <th></th>\n",
       "      <th>name</th>\n",
       "      <th>school_year</th>\n",
       "      <th>absence_days</th>\n",
       "    </tr>\n",
       "  </thead>\n",
       "  <tbody>\n",
       "    <tr>\n",
       "      <th>0</th>\n",
       "      <td>Chris</td>\n",
       "      <td>1</td>\n",
       "      <td>1</td>\n",
       "    </tr>\n",
       "    <tr>\n",
       "      <th>1</th>\n",
       "      <td>Kelly</td>\n",
       "      <td>2</td>\n",
       "      <td>2</td>\n",
       "    </tr>\n",
       "    <tr>\n",
       "      <th>2</th>\n",
       "      <td>Pat</td>\n",
       "      <td>3</td>\n",
       "      <td>3</td>\n",
       "    </tr>\n",
       "    <tr>\n",
       "      <th>3</th>\n",
       "      <td>Terry</td>\n",
       "      <td>4</td>\n",
       "      <td>10</td>\n",
       "    </tr>\n",
       "  </tbody>\n",
       "</table>\n",
       "</div>"
      ],
      "text/plain": [
       "    name  school_year  absence_days\n",
       "0  Chris            1             1\n",
       "1  Kelly            2             2\n",
       "2    Pat            3             3\n",
       "3  Terry            4            10"
      ]
     },
     "execution_count": 3,
     "metadata": {},
     "output_type": "execute_result"
    }
   ],
   "source": [
    "D_a_small_universe = pd.DataFrame(D_a_small_universe_dict)\n",
    "D_a_small_universe"
   ]
  },
  {
   "cell_type": "code",
   "execution_count": 4,
   "metadata": {
    "scrolled": true
   },
   "outputs": [
    {
     "data": {
      "text/html": [
       "<div>\n",
       "<style scoped>\n",
       "    .dataframe tbody tr th:only-of-type {\n",
       "        vertical-align: middle;\n",
       "    }\n",
       "\n",
       "    .dataframe tbody tr th {\n",
       "        vertical-align: top;\n",
       "    }\n",
       "\n",
       "    .dataframe thead th {\n",
       "        text-align: right;\n",
       "    }\n",
       "</style>\n",
       "<table border=\"1\" class=\"dataframe\">\n",
       "  <thead>\n",
       "    <tr style=\"text-align: right;\">\n",
       "      <th></th>\n",
       "      <th>name</th>\n",
       "      <th>school_year</th>\n",
       "      <th>absence_days</th>\n",
       "    </tr>\n",
       "  </thead>\n",
       "  <tbody>\n",
       "    <tr>\n",
       "      <th>0</th>\n",
       "      <td>Chris</td>\n",
       "      <td>1</td>\n",
       "      <td>1</td>\n",
       "    </tr>\n",
       "    <tr>\n",
       "      <th>1</th>\n",
       "      <td>Kelly</td>\n",
       "      <td>2</td>\n",
       "      <td>2</td>\n",
       "    </tr>\n",
       "    <tr>\n",
       "      <th>2</th>\n",
       "      <td>Pat</td>\n",
       "      <td>3</td>\n",
       "      <td>3</td>\n",
       "    </tr>\n",
       "  </tbody>\n",
       "</table>\n",
       "</div>"
      ],
      "text/plain": [
       "    name  school_year  absence_days\n",
       "0  Chris            1             1\n",
       "1  Kelly            2             2\n",
       "2    Pat            3             3"
      ]
     },
     "execution_count": 4,
     "metadata": {},
     "output_type": "execute_result"
    }
   ],
   "source": [
    "# We define the the dataset that we will release\n",
    "D_a_small_release = D_a_small_universe.drop([3], axis=0)\n",
    "D_a_small_release"
   ]
  },
  {
   "cell_type": "markdown",
   "metadata": {},
   "source": [
    "The adversary model adopted in the paper mentioned above is the worst-case scenario and it will be the one I adopted in this notebook: An attacker has infinite computation power, and because DP provides privacy given adversaries with arbitrary background knowledge, it is okay to assume that the adversary has full access to all the records (adversary knows all the universe, i.e. D_a_small_universe). But there is a dataset made from the universe without an individual (D_a_small_release), and the adversary does not know who is and who is not in it (this is the only thing the adversary does not know about the universe), but the adversary knows D_a_small_release contains people with a particular quality (the students who have not been in probation). With D_a_small_universe, the attacker will try to reconstruct the dataset he does not know (D_a_small_release) by employing queries on D_a_small_release without having access to it."
   ]
  },
  {
   "cell_type": "markdown",
   "metadata": {},
   "source": [
    "###### D_a_large (Dataset for scenario a - large)"
   ]
  },
  {
   "cell_type": "markdown",
   "metadata": {},
   "source": [
    "The larger dataset for the universe is used to test the functions with a hamming distance >1 and with a universe with duplicated values both in the univese and the release, which does not mean are the same records."
   ]
  },
  {
   "cell_type": "code",
   "execution_count": 5,
   "metadata": {},
   "outputs": [],
   "source": [
    "# We define the actual dataset (conforming the universe)\n",
    "D_a_large_universe_dict = {'name': ['Chris', 'Kelly', 'Keny', 'Sherry', 'Jerry', 'Morty', \"Beth\", \"Summer\", \"Squanchy\", \"Rick\"], \\\n",
    "                     'school_year': [1, 2, 2, 2, 5, 5, 7, 8, 9, 9], 'absence_days': [1, 2, 3, 4, 5, 6, 7, 8, 15, 20]}"
   ]
  },
  {
   "cell_type": "code",
   "execution_count": 6,
   "metadata": {},
   "outputs": [
    {
     "data": {
      "text/html": [
       "<div>\n",
       "<style scoped>\n",
       "    .dataframe tbody tr th:only-of-type {\n",
       "        vertical-align: middle;\n",
       "    }\n",
       "\n",
       "    .dataframe tbody tr th {\n",
       "        vertical-align: top;\n",
       "    }\n",
       "\n",
       "    .dataframe thead th {\n",
       "        text-align: right;\n",
       "    }\n",
       "</style>\n",
       "<table border=\"1\" class=\"dataframe\">\n",
       "  <thead>\n",
       "    <tr style=\"text-align: right;\">\n",
       "      <th></th>\n",
       "      <th>name</th>\n",
       "      <th>school_year</th>\n",
       "      <th>absence_days</th>\n",
       "    </tr>\n",
       "  </thead>\n",
       "  <tbody>\n",
       "    <tr>\n",
       "      <th>0</th>\n",
       "      <td>Chris</td>\n",
       "      <td>1</td>\n",
       "      <td>1</td>\n",
       "    </tr>\n",
       "    <tr>\n",
       "      <th>1</th>\n",
       "      <td>Kelly</td>\n",
       "      <td>2</td>\n",
       "      <td>2</td>\n",
       "    </tr>\n",
       "    <tr>\n",
       "      <th>2</th>\n",
       "      <td>Keny</td>\n",
       "      <td>2</td>\n",
       "      <td>3</td>\n",
       "    </tr>\n",
       "    <tr>\n",
       "      <th>3</th>\n",
       "      <td>Sherry</td>\n",
       "      <td>2</td>\n",
       "      <td>4</td>\n",
       "    </tr>\n",
       "    <tr>\n",
       "      <th>4</th>\n",
       "      <td>Jerry</td>\n",
       "      <td>5</td>\n",
       "      <td>5</td>\n",
       "    </tr>\n",
       "    <tr>\n",
       "      <th>5</th>\n",
       "      <td>Morty</td>\n",
       "      <td>5</td>\n",
       "      <td>6</td>\n",
       "    </tr>\n",
       "    <tr>\n",
       "      <th>6</th>\n",
       "      <td>Beth</td>\n",
       "      <td>7</td>\n",
       "      <td>7</td>\n",
       "    </tr>\n",
       "    <tr>\n",
       "      <th>7</th>\n",
       "      <td>Summer</td>\n",
       "      <td>8</td>\n",
       "      <td>8</td>\n",
       "    </tr>\n",
       "    <tr>\n",
       "      <th>8</th>\n",
       "      <td>Squanchy</td>\n",
       "      <td>9</td>\n",
       "      <td>15</td>\n",
       "    </tr>\n",
       "    <tr>\n",
       "      <th>9</th>\n",
       "      <td>Rick</td>\n",
       "      <td>9</td>\n",
       "      <td>20</td>\n",
       "    </tr>\n",
       "  </tbody>\n",
       "</table>\n",
       "</div>"
      ],
      "text/plain": [
       "       name  school_year  absence_days\n",
       "0     Chris            1             1\n",
       "1     Kelly            2             2\n",
       "2      Keny            2             3\n",
       "3    Sherry            2             4\n",
       "4     Jerry            5             5\n",
       "5     Morty            5             6\n",
       "6      Beth            7             7\n",
       "7    Summer            8             8\n",
       "8  Squanchy            9            15\n",
       "9      Rick            9            20"
      ]
     },
     "execution_count": 6,
     "metadata": {},
     "output_type": "execute_result"
    }
   ],
   "source": [
    "D_a_large_universe = pd.DataFrame(D_a_large_universe_dict)\n",
    "D_a_large_universe"
   ]
  },
  {
   "cell_type": "code",
   "execution_count": 7,
   "metadata": {
    "scrolled": true
   },
   "outputs": [
    {
     "data": {
      "text/html": [
       "<div>\n",
       "<style scoped>\n",
       "    .dataframe tbody tr th:only-of-type {\n",
       "        vertical-align: middle;\n",
       "    }\n",
       "\n",
       "    .dataframe tbody tr th {\n",
       "        vertical-align: top;\n",
       "    }\n",
       "\n",
       "    .dataframe thead th {\n",
       "        text-align: right;\n",
       "    }\n",
       "</style>\n",
       "<table border=\"1\" class=\"dataframe\">\n",
       "  <thead>\n",
       "    <tr style=\"text-align: right;\">\n",
       "      <th></th>\n",
       "      <th>name</th>\n",
       "      <th>school_year</th>\n",
       "      <th>absence_days</th>\n",
       "    </tr>\n",
       "  </thead>\n",
       "  <tbody>\n",
       "    <tr>\n",
       "      <th>0</th>\n",
       "      <td>Chris</td>\n",
       "      <td>1</td>\n",
       "      <td>1</td>\n",
       "    </tr>\n",
       "    <tr>\n",
       "      <th>1</th>\n",
       "      <td>Kelly</td>\n",
       "      <td>2</td>\n",
       "      <td>2</td>\n",
       "    </tr>\n",
       "    <tr>\n",
       "      <th>2</th>\n",
       "      <td>Keny</td>\n",
       "      <td>2</td>\n",
       "      <td>3</td>\n",
       "    </tr>\n",
       "    <tr>\n",
       "      <th>3</th>\n",
       "      <td>Sherry</td>\n",
       "      <td>2</td>\n",
       "      <td>4</td>\n",
       "    </tr>\n",
       "    <tr>\n",
       "      <th>4</th>\n",
       "      <td>Jerry</td>\n",
       "      <td>5</td>\n",
       "      <td>5</td>\n",
       "    </tr>\n",
       "    <tr>\n",
       "      <th>5</th>\n",
       "      <td>Morty</td>\n",
       "      <td>5</td>\n",
       "      <td>6</td>\n",
       "    </tr>\n",
       "  </tbody>\n",
       "</table>\n",
       "</div>"
      ],
      "text/plain": [
       "     name  school_year  absence_days\n",
       "0   Chris            1             1\n",
       "1   Kelly            2             2\n",
       "2    Keny            2             3\n",
       "3  Sherry            2             4\n",
       "4   Jerry            5             5\n",
       "5   Morty            5             6"
      ]
     },
     "execution_count": 7,
     "metadata": {},
     "output_type": "execute_result"
    }
   ],
   "source": [
    "# We define the the dataset that we will release\n",
    "D_a_large_release = D_a_large_universe.iloc[:6,:]\n",
    "D_a_large_release"
   ]
  },
  {
   "cell_type": "markdown",
   "metadata": {},
   "source": [
    "### Datasets (b)"
   ]
  },
  {
   "cell_type": "markdown",
   "metadata": {},
   "source": [
    "There will be only one dataset for scnario b, designed to test the functions with a hammig distance > 1. Notice that I only define the cardinality (number of records in this case) of the release dataset and nothing more. \n",
    "\n",
    "We do not use a dataframe for D_b_universe becuase the cardinality of each universe is different.\n",
    "\n",
    "The use case will be a vehicle sending the mood of the passenger (1 - sad to 2 - happy) and how well he/she drives (0 - terrible to 3 - perfect). (This is just for the sake of the example, categorical values would be more sense). \n",
    "\n",
    "Due to the limitations of this manner of calculating sensitivities, I cannot create a large range and length of the release dataset. But then again, I programmed this notebook to understand more deeply sensitivities, and it works alright for a hamming distance of 1, which is most common. "
   ]
  },
  {
   "cell_type": "code",
   "execution_count": 8,
   "metadata": {},
   "outputs": [
    {
     "data": {
      "text/plain": [
       "{'mood': [1, 2, 1, 2, 1, 2, 1, 2],\n",
       " 'driving_proficiency': [1, 2, 3, 1, 2, 3, 1, 2, 3, 1, 2, 3]}"
      ]
     },
     "execution_count": 8,
     "metadata": {},
     "output_type": "execute_result"
    }
   ],
   "source": [
    "# We define the actual dataset (conforming the universe)\n",
    "D_b_release_length = 4\n",
    "D_b_universe = {'mood': [1, 2], 'driving_proficiency': [1, 2, 3]}\n",
    "\n",
    "# Because we know the cardinality of the release datase, then:\n",
    "for key, values in D_b_universe.items():\n",
    "        \n",
    "        D_b_universe[key] = values * D_b_release_length\n",
    "\n",
    "D_b_universe"
   ]
  },
  {
   "cell_type": "markdown",
   "metadata": {},
   "source": [
    "## Functions"
   ]
  },
  {
   "cell_type": "markdown",
   "metadata": {},
   "source": [
    "### Auxiliary function"
   ]
  },
  {
   "cell_type": "markdown",
   "metadata": {},
   "source": [
    "##### Here we have all the queries we could make to the numerical data"
   ]
  },
  {
   "cell_type": "code",
   "execution_count": 9,
   "metadata": {
    "scrolled": true
   },
   "outputs": [],
   "source": [
    "# With this funciton, we can make easier to call the mean, median... functions\n",
    "# REF: https://stackoverflow.com/questions/34794634/how-to-use-a-variable-as-function-name-in-python\n",
    "# It is not clean to have the var percentile input each function, but it is less verbose than having a function\n",
    "# For each percentile. We could however limit the maount of percentiles offer to 25 and 75.\n",
    "class Query_class:  \n",
    "    \"\"\"\n",
    "    A class used to represent a query. YOu instantiate an object that will perform a particlar query on an array\n",
    "\n",
    "    Attributes\n",
    "    ----------\n",
    "    fDic - (dict) containing the possible queries the class can be transformed into\n",
    "    fActive - (function) it contins the function we created the class to have\n",
    "\n",
    "    Methods\n",
    "    -------\n",
    "    \n",
    "    run_query - I will run the query for which we instantiated the class\n",
    "    The other methods implement the different possible queries\n",
    "    \n",
    "    \"\"\"\n",
    "    \n",
    "    def __init__(self, fCase):\n",
    "        \n",
    "        # mapping: string --> variable = function name\n",
    "        fDic = {'mean':self._mean,         \n",
    "                'median':self._median,\n",
    "                'count': self._count,\n",
    "                'sum': self._sum,\n",
    "                'std': self._std,\n",
    "                'var': self._var,\n",
    "                'percentile': self._percentile}\n",
    "        \n",
    "        self.fActive = fDic[fCase]\n",
    "    \n",
    "    # Calculate the mean of an array\n",
    "    def _mean(self, array, percentile): \n",
    "\n",
    "        return np.mean(array)\n",
    "    \n",
    "    # Calculate the median of an array\n",
    "    def _median(self, array, percentile): \n",
    "        \n",
    "        return np.median(array)\n",
    "            \n",
    "    # Calculate the number of elements in the array\n",
    "    def _count(self, array, percentile):\n",
    "        \n",
    "        return len(array)\n",
    "    \n",
    "    # Calculate the sum of an array\n",
    "    def _sum(self, array, percentile):\n",
    "        \n",
    "        return np.sum(array)\n",
    "    \n",
    "    # Calculate the std of an array\n",
    "    def _std(self, array, percentile):\n",
    "        \n",
    "        return np.std(array)\n",
    "    \n",
    "    # Calculate the variance of an array\n",
    "    def _var(self, array, percentile):\n",
    "        \n",
    "        return np.var(array)\n",
    "    \n",
    "    def _percentile(self, array, percentile):\n",
    "\n",
    "        return np.percentile(array, percentile)\n",
    "    \n",
    "    # It will run the given query\n",
    "    def run_query(self, array, percentile=50):\n",
    "        \n",
    "        return self.fActive(array, percentile)"
   ]
  },
  {
   "cell_type": "code",
   "execution_count": 10,
   "metadata": {},
   "outputs": [],
   "source": [
    "# Set of checks on the input values\n",
    "def verify_sensitivity_inputs(universe_cardinality, universe_subset_cardinality, hamming_distance):\n",
    "    \"\"\"\n",
    "    INPUT:\n",
    "        universe - (df) contains all possible values of the dataset\n",
    "        universe_subset_cardinality - (df) cardinality of the universe subset\n",
    "        hamming_distance - (int) hamming distance between neighboring datasets\n",
    "        \n",
    "    OUTPUT:\n",
    "        ValueError - (str) error message due to the value of the inputs\n",
    "        \n",
    "    Description:\n",
    "    It performs multiple checks to verify the validity of the inputs for the calculation of senstitivity\n",
    "    \"\"\"\n",
    "\n",
    "    # Check on unverse cardinality (1). \n",
    "    # The cardinality of the subset of the universe cannot be larger than the universe \n",
    "    if universe_cardinality < universe_subset_cardinality:\n",
    "\n",
    "        raise ValueError(\"Your universe dataset cannot be smaller than your release dataset.\")\n",
    "    \n",
    "    # Checks on the validity of the chosen hamming_distance (3)\n",
    "    if hamming_distance >= (universe_subset_cardinality):\n",
    "        \n",
    "        raise ValueError(\"Hamming distance chosen is larger than the cardinality of the release dataset.\")\n",
    "\n",
    "    if (hamming_distance > np.abs(universe_cardinality - universe_subset_cardinality)):\n",
    "        \n",
    "        raise ValueError(\"Hamming distance chosen is larger than the cardinality difference between the \\\n",
    "        universe and the release dataset, i.e., \\\n",
    "        there are not enough values in your universe to create such a large neighboring dataset (Re-sampling records).\")\n",
    "    \n",
    "    # The hamming distance cannot be 0, then your neighbor dataset is equal to the original dataset\n",
    "    if hamming_distance == 0:\n",
    "\n",
    "        raise ValueError(\"Hamming distance cannot be 0.\")"
   ]
  },
  {
   "cell_type": "code",
   "execution_count": 11,
   "metadata": {},
   "outputs": [],
   "source": [
    "# Used by unbounded unbounded_empirical_global_L1_sensitivity_a\n",
    "def L1_norm_max(release_dataset_query_value, neighbor_datasets, query, percentile):\n",
    "    \"\"\"\n",
    "    INPUT:\n",
    "        release_dataset_query_value - (float) query value of a particular possible release dataset\n",
    "        neighbor_datasets - (list) contains the possible neighbors of the specific release dataset\n",
    "        query - (object) instance of class Query_class\n",
    "        percentile - (int) percentile value for the percentile query\n",
    "\n",
    "        \n",
    "    OUTPUT:\n",
    "        L1_norm_maximum - (float) maximum L1 norm calcuated from the differences between the query results \n",
    "        of the neighbor datasets and the specific release dataset\n",
    "\n",
    "    Description:\n",
    "    It claculates the maximum L1 norm between the query results of the neighbor datasets and the specific release dataset\n",
    "    \"\"\"\n",
    "\n",
    "    neighbor_dataset_query_values = []\n",
    "    for neighbor_dataset in neighbor_datasets:\n",
    "\n",
    "        neighbor_dataset_query_value = query.run_query(neighbor_dataset, percentile)\n",
    "        neighbor_dataset_query_values.append(neighbor_dataset_query_value)\n",
    "\n",
    "    # We select the maximum and minimum values of the queries, as the intermediate values will not \n",
    "    # yield a larger L1 norm (ultimately, we are interested in the maximum L1 norm)\n",
    "    neighbor_dataset_query_value_min, neighbor_dataset_query_value_max = \\\n",
    "    min(neighbor_dataset_query_values), max(neighbor_dataset_query_values)\n",
    "    # We calculate the L1 norm for these two values and pick the maximum\n",
    "    L1_norm_i = np.abs(release_dataset_query_value - neighbor_dataset_query_value_min)\n",
    "    L1_norm_ii = np.abs(release_dataset_query_value - neighbor_dataset_query_value_max)\n",
    "    L1_norm_maximum = max(L1_norm_i, L1_norm_ii)\n",
    "        \n",
    "    return L1_norm_maximum"
   ]
  },
  {
   "cell_type": "code",
   "execution_count": 12,
   "metadata": {},
   "outputs": [],
   "source": [
    "def calculate_unbounded_sensitivities(universe, universe_subset_cardinality, columns, hamming_distance, unbounded_sensitivities):\n",
    "    \"\"\"\n",
    "    INPUT:\n",
    "        universe - (df or dict) contains all possible values of the dataset\n",
    "        universe_subset_cardinality - (int) contains the length of the subset chosen for the release dataset\n",
    "        columns - (array) contains the names of the columns we would like to obtain the sensitivity from\n",
    "        hamming_distance - (int) hamming distance between neighboring datasets\n",
    "        unbounded_sensitivities - (dict) stores sensitivities per hamming distance and query type\n",
    "    \n",
    "    OUTPUT\n",
    "        unbounded_sensitivities - (dict) stores sensitivities per hamming distance and query type\n",
    "\n",
    "    Description:\n",
    "    It calculates the sensitivities for a set of queries given a universe and a release dataset.\n",
    "    \"\"\"\n",
    "    # Calculate the sensitivity of different queries for the unbounded DP\n",
    "    query_type = 'mean'\n",
    "    mean_unbounded_global_sensitivities = unbounded_empirical_global_L1_sensitivity(universe, universe_subset_cardinality, columns,  query_type, hamming_distance)\n",
    "    query_type = 'median'\n",
    "    median_unbounded_global_sensitivities = unbounded_empirical_global_L1_sensitivity(universe, universe_subset_cardinality, columns,  query_type, hamming_distance)\n",
    "    query_type = 'count'\n",
    "    count_unbounded_global_sensitivities = unbounded_empirical_global_L1_sensitivity(universe, universe_subset_cardinality, columns,  query_type, hamming_distance)\n",
    "    query_type = 'sum'\n",
    "    sum_unbounded_global_sensitivities = unbounded_empirical_global_L1_sensitivity(universe, universe_subset_cardinality, columns,  query_type, hamming_distance)\n",
    "    query_type = 'std'\n",
    "    std_unbounded_global_sensitivities = unbounded_empirical_global_L1_sensitivity(universe, universe_subset_cardinality, columns,  query_type, hamming_distance)\n",
    "    query_type = 'var'\n",
    "    var_unbounded_global_sensitivities = unbounded_empirical_global_L1_sensitivity(universe, universe_subset_cardinality, columns,  query_type, hamming_distance)\n",
    "    query_type = 'percentile'\n",
    "    percentile = 25\n",
    "    percentile_25_unbounded_global_sensitivities = unbounded_empirical_global_L1_sensitivity(universe, universe_subset_cardinality, columns,  query_type, hamming_distance, percentile)\n",
    "    percentile = 50\n",
    "    percentile_50_unbounded_global_sensitivities = unbounded_empirical_global_L1_sensitivity(universe, universe_subset_cardinality, columns,  query_type, hamming_distance, percentile)\n",
    "    percentile = 75\n",
    "    percentile_75_unbounded_global_sensitivities = unbounded_empirical_global_L1_sensitivity(universe, universe_subset_cardinality, columns,  query_type, hamming_distance, percentile)\n",
    "    percentile = 90\n",
    "    percentile_90_unbounded_global_sensitivities = unbounded_empirical_global_L1_sensitivity(universe, universe_subset_cardinality, columns,  query_type, hamming_distance, percentile)\n",
    "\n",
    "    print('Unbounded sensitivities for mean', mean_unbounded_global_sensitivities)\n",
    "    print('Unbounded sensitivities for median', median_unbounded_global_sensitivities)\n",
    "    print('Unbounded sensitivities for count', count_unbounded_global_sensitivities)\n",
    "    print('Unbounded sensitivities for sum', sum_unbounded_global_sensitivities)\n",
    "    print('Unbounded sensitivities for std', std_unbounded_global_sensitivities)\n",
    "    print('Unbounded sensitivities for var', var_unbounded_global_sensitivities)\n",
    "    print('Unbounded sensitivities for percentile 25', percentile_25_unbounded_global_sensitivities)\n",
    "    print('Unbounded sensitivities for percentile 50', percentile_50_unbounded_global_sensitivities)\n",
    "    print('Unbounded sensitivities for percentile 75', percentile_75_unbounded_global_sensitivities)\n",
    "    print('Unbounded sensitivities for percentile 90', percentile_90_unbounded_global_sensitivities)\n",
    "    \n",
    "    unbounded_sensitivities = build_sensitivity_dict(unbounded_sensitivities, hamming_distance,\\\n",
    "    mean_unbounded_global_sensitivities, median_unbounded_global_sensitivities, count_unbounded_global_sensitivities, \\\n",
    "    sum_unbounded_global_sensitivities, std_unbounded_global_sensitivities, var_unbounded_global_sensitivities, \\\n",
    "    percentile_25_unbounded_global_sensitivities, percentile_50_unbounded_global_sensitivities, \\\n",
    "    percentile_75_unbounded_global_sensitivities, percentile_90_unbounded_global_sensitivities)\n",
    "    \n",
    "    return unbounded_sensitivities"
   ]
  },
  {
   "cell_type": "code",
   "execution_count": 13,
   "metadata": {},
   "outputs": [],
   "source": [
    "def calculate_bounded_sensitivities(universe, universe_subset_cardinality, columns, hamming_distance, bounded_sensitivities):\n",
    "    \"\"\"\n",
    "    INPUT:\n",
    "        universe - (df or dict) contains all possible values of the dataset\n",
    "        universe_subset_cardinality - (int) contains the length of the subset chosen for the release dataset\n",
    "        columns - (array) contains the names of the columns we would like to obtain the sensitivity from\n",
    "        hamming_distance - (int) hamming distance between neighboring datasets\n",
    "        unbounded_sensitivities - (dict) stores sensitivities per hamming distance and query type\n",
    "    \n",
    "    OUTPUT\n",
    "        bounded_sensitivities - (dict) stores sensitivities per hamming distance and query type\n",
    "\n",
    "    Description:\n",
    "    It calculates the sensitivities for a set of queries given a universe and a release dataset.\n",
    "    \"\"\"\n",
    "    # Calculate the sensitivity of different queries for the unbounded DP\n",
    "    query_type = 'mean'\n",
    "    mean_bounded_global_sensitivities = bounded_empirical_global_L1_sensitivity(universe, universe_subset_cardinality, columns,  query_type, hamming_distance)\n",
    "    query_type = 'median'\n",
    "    median_bounded_global_sensitivities = bounded_empirical_global_L1_sensitivity(universe, universe_subset_cardinality, columns,  query_type, hamming_distance)\n",
    "    query_type = 'count'\n",
    "    count_bounded_global_sensitivities = bounded_empirical_global_L1_sensitivity(universe, universe_subset_cardinality, columns,  query_type, hamming_distance)\n",
    "    query_type = 'sum'\n",
    "    sum_bounded_global_sensitivities = bounded_empirical_global_L1_sensitivity(universe, universe_subset_cardinality, columns,  query_type, hamming_distance)\n",
    "    query_type = 'std'\n",
    "    std_bounded_global_sensitivities = bounded_empirical_global_L1_sensitivity(universe, universe_subset_cardinality, columns,  query_type, hamming_distance)\n",
    "    query_type = 'var'\n",
    "    var_bounded_global_sensitivities = bounded_empirical_global_L1_sensitivity(universe, universe_subset_cardinality, columns,  query_type, hamming_distance)\n",
    "    query_type = 'percentile'\n",
    "    percentile = 25\n",
    "    percentile_25_bounded_global_sensitivities = bounded_empirical_global_L1_sensitivity(universe, universe_subset_cardinality, columns,  query_type, hamming_distance, percentile)\n",
    "    percentile = 50\n",
    "    percentile_50_bounded_global_sensitivities = bounded_empirical_global_L1_sensitivity(universe, universe_subset_cardinality, columns,  query_type, hamming_distance, percentile)\n",
    "    percentile = 75\n",
    "    percentile_75_bounded_global_sensitivities = bounded_empirical_global_L1_sensitivity(universe, universe_subset_cardinality, columns,  query_type, hamming_distance, percentile)\n",
    "    percentile = 90\n",
    "    percentile_90_bounded_global_sensitivities = bounded_empirical_global_L1_sensitivity(universe, universe_subset_cardinality, columns,  query_type, hamming_distance, percentile)\n",
    "\n",
    "    print('Bounded sensitivities for mean', mean_bounded_global_sensitivities)\n",
    "    print('Bounded sensitivities for median', median_bounded_global_sensitivities)\n",
    "    print('Bounded sensitivities for count', count_bounded_global_sensitivities)\n",
    "    print('Bounded sensitivities for sum', sum_bounded_global_sensitivities)\n",
    "    print('Bounded sensitivities for std', std_bounded_global_sensitivities)\n",
    "    print('Bounded sensitivities for var', var_bounded_global_sensitivities)\n",
    "    print('Bounded sensitivities for percentile 25', percentile_25_bounded_global_sensitivities)\n",
    "    print('Bounded sensitivities for percentile 50', percentile_50_bounded_global_sensitivities)\n",
    "    print('Bounded sensitivities for percentile 75', percentile_75_bounded_global_sensitivities)\n",
    "    print('Bounded sensitivities for percentile 90', percentile_90_bounded_global_sensitivities)\n",
    "    \n",
    "    bounded_sensitivities = build_sensitivity_dict(bounded_sensitivities, hamming_distance,\\\n",
    "    mean_bounded_global_sensitivities, median_bounded_global_sensitivities, count_bounded_global_sensitivities, \\\n",
    "    sum_bounded_global_sensitivities, std_bounded_global_sensitivities, var_bounded_global_sensitivities, \\\n",
    "    percentile_25_bounded_global_sensitivities, percentile_50_bounded_global_sensitivities, \\\n",
    "    percentile_75_bounded_global_sensitivities, percentile_90_bounded_global_sensitivities)\n",
    "    \n",
    "    return bounded_sensitivities"
   ]
  },
  {
   "cell_type": "code",
   "execution_count": 14,
   "metadata": {},
   "outputs": [],
   "source": [
    "# We save the values in a dictionary\n",
    "def build_sensitivity_dict(unbounded_sensitivities, hamming_distance, mean_sensitivity, median_sensitivity, count_sensitivity, _sum_sensitivity, _std_sensitivity, _var_sensitivity, percentile_25_sensitivity, percentile_50_sensitivity, percentile_75_sensitivity, percentile_90_sensitivity):\n",
    "    \"\"\"\n",
    "    INPUT\n",
    "        unbounded_sensitivities - (dict) stores sensitivities per hamming distance and query type\n",
    "        hamming_distance - (int) hamming distance of the neighboring datasets\n",
    "        mean_sensitivity - (float) sensitivity of the mean query \n",
    "        median_sensitivity - (float) sensitivity of the media query \n",
    "        count_sensitivity - (float) sensitivity of the count query \n",
    "        _sum_sensitivity - (float) sensitivity of the sum query \n",
    "        _std_sensitivity - (float) sensitivity of the std query \n",
    "        _var - (float) sensitivity of the var query \n",
    "        percentile_25_sensitivity - (float) sensitivity of the percentile 25 query \n",
    "        percentile_50_sensitivity - (float) sensitivity of the percentile 50 query \n",
    "        percentile_75_sensitivity - (float) sensitivity of the percentile 75query \n",
    "        percentile_90_sensitivity - (float) sensitivity of the percentile 90 query \n",
    "\n",
    "    OUTPUT\n",
    "        unbounded_sensitivities - (dict) stores sensitivities per hamming distance and query type\n",
    "    \n",
    "    \"\"\"\n",
    "    unbounded_sensitivities[hamming_distance] = {}\n",
    "    unbounded_sensitivities[hamming_distance]['mean'] = mean_sensitivity\n",
    "    unbounded_sensitivities[hamming_distance]['median'] = median_sensitivity\n",
    "    unbounded_sensitivities[hamming_distance]['count'] = count_sensitivity\n",
    "    unbounded_sensitivities[hamming_distance]['sum'] = _sum_sensitivity\n",
    "    unbounded_sensitivities[hamming_distance]['std'] = _std_sensitivity\n",
    "    unbounded_sensitivities[hamming_distance]['var'] = _var_sensitivity\n",
    "    unbounded_sensitivities[hamming_distance]['percentile_25'] = percentile_25_sensitivity\n",
    "    unbounded_sensitivities[hamming_distance]['percentile_50'] = percentile_50_sensitivity\n",
    "    unbounded_sensitivities[hamming_distance]['percentile_75'] = percentile_75_sensitivity\n",
    "    unbounded_sensitivities[hamming_distance]['percentile_90'] = percentile_90_sensitivity\n",
    "    \n",
    "    return unbounded_sensitivities"
   ]
  },
  {
   "cell_type": "markdown",
   "metadata": {},
   "source": [
    "##  Main Functions "
   ]
  },
  {
   "cell_type": "code",
   "execution_count": 15,
   "metadata": {},
   "outputs": [
    {
     "data": {
      "text/latex": [
       "\\begin{align}\n",
       "\\ell_{1, \\mbox{sensitivity}}: \\Delta f=\\max_{\\substack{\n",
       "{x, y \\in \\mathbb{N}^{(\\mathcal{X})}} \\\\\n",
       "\\|x-y\\|_{1} = h \\\\\n",
       "||x|-|y|| = h\n",
       "}} \\|f(x)-f(y)\\|_{1}\n",
       "\\end{align}\n"
      ],
      "text/plain": [
       "<IPython.core.display.Latex object>"
      ]
     },
     "metadata": {},
     "output_type": "display_data"
    }
   ],
   "source": [
    "%%latex\n",
    "\\begin{align}\n",
    "\\ell_{1, \\mbox{sensitivity}}: \\Delta f=\\max_{\\substack{\n",
    "{x, y \\in \\mathbb{N}^{(\\mathcal{X})}} \\\\\n",
    "\\|x-y\\|_{1} = h \\\\\n",
    "||x|-|y|| = h\n",
    "}} \\|f(x)-f(y)\\|_{1}\n",
    "\\end{align}"
   ]
  },
  {
   "cell_type": "markdown",
   "metadata": {},
   "source": [
    "\\begin{align}\n",
    "\\ell_{1, \\mbox{sensitivity}}: \\Delta f=\\max_{\\substack{\n",
    "{x, y \\in \\mathbb{N}^{(\\mathcal{X})}} \\\\\n",
    "\\|x-y\\|_{1} = h \\\\\n",
    "||x|-|y|| = h\n",
    "}} \\|f(x)-f(y)\\|_{1}\n",
    "\\end{align}"
   ]
  },
  {
   "cell_type": "markdown",
   "metadata": {},
   "source": [
    "### Unbounded Sensitivity "
   ]
  },
  {
   "cell_type": "code",
   "execution_count": 16,
   "metadata": {
    "scrolled": false
   },
   "outputs": [],
   "source": [
    "def unbounded_empirical_global_L1_sensitivity(universe, universe_subset_cardinality, columns, query_type, hamming_distance, percentile=50):\n",
    "    \"\"\"\n",
    "    INPUT:\n",
    "        universe - (df) contains all possible values of the dataset\n",
    "        universe_subset_cardinality - (int) contains the length of the subset chosen for the release dataset\n",
    "        columns - (array) contains the names of the columns we would like to obtain the sensitivity from\n",
    "        query_type - (str) contain the category declaring the type of query to be later on executed\n",
    "        hamming_distance - (int) hamming distance between neighboring datasets\n",
    "        percentile - (int) percentile value for the percentile query\n",
    "        \n",
    "    OUTPUT:\n",
    "        unbounded_global_sensitivity - (float) the unbounded global sensitivity of the input universe\n",
    "        \n",
    "    Description:\n",
    "    It claculates the global sensitivity of an array based on the knowledge of the entire universe of \n",
    "    the dataset and query_type.\n",
    "    \"\"\"\n",
    "    \n",
    "    # We initialie the type of query for which we would like calculate the sensitivity\n",
    "    query = Query_class(query_type)\n",
    "    \n",
    "    # We will store the sensitivity of each column of the dataset containing universe in a dictionary\n",
    "    unbounded_global_sensitivity_per_colum = {}\n",
    "    \n",
    "    for column in columns:\n",
    "        \n",
    "        # Check if the values for the hamming distance and universe sizes comply with the basic constraints\n",
    "        verify_sensitivity_inputs(len(universe[column]), universe_subset_cardinality, hamming_distance)\n",
    "        \n",
    "        # 1) RELEASE DATASET\n",
    "        # We calculate all the possible release datasets formed by the combination of values sampled from the universe \n",
    "        release_datasets = itertools.combinations(universe[column], universe_subset_cardinality)\n",
    "        release_datasets = list(release_datasets)\n",
    "\n",
    "        # 2) |NEIGHBORING DATASET| < |RELEASE DATASET| //// cardinalities\n",
    "        # The neighboring datasets are subsets of a smaller dimension of the possible release datasets (smaller by the hamming_distance)\n",
    "        # The neighboring release datasets are used to calculate the max sensitivity, stemming from the DP definition\n",
    "        neighbor_with_less_records_datasets = []\n",
    "        for release_dataset in release_datasets:\n",
    "            \n",
    "            # These yields the smaller possible neighboring datasets\n",
    "            neighbor_with_less_records_dataset = itertools.combinations(release_dataset, \\\n",
    "                universe_subset_cardinality - hamming_distance)\n",
    "            neighbor_with_less_records_dataset = list(neighbor_with_less_records_dataset)\n",
    "            neighbor_with_less_records_datasets.append(neighbor_with_less_records_dataset)\n",
    "               \n",
    "        # 3) |NEIGHBORING DATASET| > |RELEASE DATASET| //// cardinalities\n",
    "        # similar process but adding  records\n",
    "        neighbor_with_more_records_datasets = []\n",
    "        for release_dataset in release_datasets:\n",
    "            \n",
    "            # We obtain combinations of values from the univsere and these will be appended to the release datasets. \n",
    "            # The size of each combination is equal to the hamming distance, as the neighboring dataset will be that much larger\n",
    "            # However, in case your universe is a dataset and not just a range of values, then the  neighboring\n",
    "            # dataset could contain the same record twice, which is NOT desirable (1 person appearing twice)\n",
    "            # Therefore, the values must be sampled from the symmetric difference between the release dataset and the universe dataset\n",
    "            # REF: https://www.geeksforgeeks.org/python-difference-of-two-lists-including-duplicates/\n",
    "            symmetric_difference = list((Counter(universe[column]) - Counter(release_dataset)).elements())\n",
    "            neighbor_possible_value_combinations = itertools.combinations(symmetric_difference, hamming_distance)\n",
    "            neighbor_possible_value_combinations = list(neighbor_possible_value_combinations)\n",
    "\n",
    "            temp_neighbor_with_more_records_datasets = []\n",
    "            for neighbor_possible_value_combination in neighbor_possible_value_combinations:\n",
    "                \n",
    "                # We create neighboring datasets by concatenating the neighbor_possible_value_combination with the release dataset\n",
    "                neighbor_with_more_records_dataset = list(release_dataset + neighbor_possible_value_combination)\n",
    "                temp_neighbor_with_more_records_datasets.append(neighbor_with_more_records_dataset)\n",
    "            \n",
    "            # We append in this manner to cluster the neighboring datasets with their respective release dataset\n",
    "            neighbor_with_more_records_datasets.append(temp_neighbor_with_more_records_datasets)       \n",
    "\n",
    "        # 4) For each possible release datase, there is a set of neighboring datasets \n",
    "        # We will iterate through each possible release dataset and calculate the L1 norm with \n",
    "        # each of its repspective neighboring datasets\n",
    "        L1_norms = []\n",
    "\n",
    "        for i, release_dataset in enumerate(release_datasets):\n",
    "            \n",
    "            release_dataset_query_value = query.run_query(release_dataset, percentile)\n",
    "\n",
    "            L1_norm =  L1_norm_max(release_dataset_query_value, neighbor_with_less_records_datasets[i], query, percentile)\n",
    "            L1_norms.append(L1_norm)\n",
    "            L1_norm =  L1_norm_max(release_dataset_query_value, neighbor_with_more_records_datasets[i], query, percentile)\n",
    "            L1_norms.append(L1_norm)     \n",
    "        \n",
    "        # We pick the maximum out of all the maximum L1_norms calculated from each possible release dataset\n",
    "        unbounded_global_sensitivity_per_colum[column] = max(L1_norms)\n",
    "        \n",
    "    return unbounded_global_sensitivity_per_colum"
   ]
  },
  {
   "cell_type": "code",
   "execution_count": 17,
   "metadata": {},
   "outputs": [
    {
     "data": {
      "text/latex": [
       "\\begin{align}\n",
       "\\ell_{1, \\mbox{sensitivity}}: \\Delta f=\\max_{\\substack{\n",
       "{x, y \\in \\mathbb{N}^{(\\mathcal{X})}} \\\\\n",
       "\\|x-y\\|_{1} = h \\\\\n",
       "||x|-|y|| = 0\n",
       "}} \\|f(x)-f(y)\\|_{1}\n",
       "\\end{align}\n"
      ],
      "text/plain": [
       "<IPython.core.display.Latex object>"
      ]
     },
     "metadata": {},
     "output_type": "display_data"
    }
   ],
   "source": [
    "%%latex\n",
    "\\begin{align}\n",
    "\\ell_{1, \\mbox{sensitivity}}: \\Delta f=\\max_{\\substack{\n",
    "{x, y \\in \\mathbb{N}^{(\\mathcal{X})}} \\\\\n",
    "\\|x-y\\|_{1} = h \\\\\n",
    "||x|-|y|| = 0\n",
    "}} \\|f(x)-f(y)\\|_{1}\n",
    "\\end{align}"
   ]
  },
  {
   "cell_type": "markdown",
   "metadata": {},
   "source": [
    "\\begin{align}\n",
    "\\ell_{1, \\mbox{sensitivity}}: \\Delta f=\\max_{\\substack{\n",
    "{x, y \\in \\mathbb{N}^{(\\mathcal{X})}} \\\\\n",
    "\\|x-y\\|_{1} = h \\\\\n",
    "||x|-|y|| = 0\n",
    "}} \\|f(x)-f(y)\\|_{1}\n",
    "\\end{align}"
   ]
  },
  {
   "cell_type": "markdown",
   "metadata": {},
   "source": [
    "### Bounded Sensitivity"
   ]
  },
  {
   "cell_type": "code",
   "execution_count": 18,
   "metadata": {},
   "outputs": [],
   "source": [
    "def bounded_empirical_global_L1_sensitivity(universe, universe_subset_cardinality, columns, query_type, hamming_distance, percentile=50):\n",
    "    \"\"\"\n",
    "    INPUT:\n",
    "        universe - (df) contains all possible values of the dataset\n",
    "        universe_subset_cardinality - (int) contains the length of the subset chosen for the release dataset\n",
    "        columns - (array) contains the names of the columns we would like to obtain the sensitivity from\n",
    "        query_type - (str) contain the category declaring the type of query to be later on executed\n",
    "        hamming_distance - (int) hamming distance between neighboring datasets\n",
    "        percentile - (int) percentile value for the percentile query\n",
    "\n",
    "    OUTPUT:\n",
    "        bounded_global_sensitivity - (float) the bounded global sensitivity of the input universe\n",
    "        \n",
    "    Description:\n",
    "    It claculates the global sensitivity of an array based on the knowledge of the entire universe of \n",
    "    the dataset and query_type.\n",
    "    \"\"\"\n",
    "    \n",
    "    # We initialie the type of query for which we would like calculate the sensitivity\n",
    "    query = Query_class(query_type)\n",
    "    \n",
    "    # We will store the sensitivity of each column of the dataset containing universe in a dictionary\n",
    "    bounded_global_sensitivity_per_column = {}\n",
    "    \n",
    "    for column in columns:\n",
    "        \n",
    "        # Check if the values for the hamming distance and universe sizes comply with the basic constraints\n",
    "        verify_sensitivity_inputs(len(universe[column]), universe_subset_cardinality, hamming_distance)\n",
    "        \n",
    "        # We calculate all the possible release datasets\n",
    "        # First we obtain the combinations within the release dataset. The size of this combinations is not the original size\n",
    "        # but the original size minus the hamming_distance\n",
    "        release_i_datasets = itertools.combinations(universe[column], universe_subset_cardinality - hamming_distance)\n",
    "        release_i_datasets = list(release_i_datasets)\n",
    "        \n",
    "        # it will contain sets of neighboring datasets. The L1 norm will be calculated between these sets. The maximum will be chosen\n",
    "        # The datasets from different groups do not necesarilly need to be neighbors, thus we separate them in groups\n",
    "        neighbor_datasets = []\n",
    "        for release_i_dataset in release_i_datasets:\n",
    "\n",
    "            # second we calculate the combinations of the items in the universe that are not in the release dataset\n",
    "            # the size of a combination is equal to the hamming distance\n",
    "            symmetric_difference = list((Counter(universe[column]) - Counter(release_i_dataset)).elements())\n",
    "            release_ii_datasets = itertools.combinations(symmetric_difference, hamming_distance)\n",
    "            release_ii_datasets = list(release_ii_datasets)\n",
    "            \n",
    "            # We create neighboring datasets by concatenating i with ii\n",
    "            temp_neighbors = []\n",
    "            for release_ii_dataset in release_ii_datasets:\n",
    "\n",
    "                temp_neighbor = list(release_i_dataset + release_ii_dataset)\n",
    "                temp_neighbors.append(temp_neighbor)                \n",
    "\n",
    "            neighbor_datasets.append(temp_neighbors)\n",
    "            \n",
    "\n",
    "        # We calculate the L1_norm for the different combinations with the aim to find the max\n",
    "        # We can loop in this manner because we are obtaining the absolute values\n",
    "        L1_norms = []\n",
    "        for m in range(0, len(neighbor_datasets)):\n",
    "\n",
    "            for i in range(0,  len(neighbor_datasets[m])-1):\n",
    "                \n",
    "                for j in range(i+1, len(neighbor_datasets[m])):\n",
    "                \n",
    "                    L1_norm = np.abs(query.run_query(neighbor_datasets[m][i], percentile) - query.run_query(neighbor_datasets[m][j], percentile))\n",
    "                    L1_norms.append(L1_norm)\n",
    "\n",
    "        bounded_global_sensitivity_per_column[column] = max(L1_norms)\n",
    "\n",
    "    return bounded_global_sensitivity_per_column"
   ]
  },
  {
   "cell_type": "markdown",
   "metadata": {},
   "source": [
    "## MAIN - testing the functions for scenario a"
   ]
  },
  {
   "cell_type": "markdown",
   "metadata": {},
   "source": [
    "### Unbounded sensitivity - Scenario a"
   ]
  },
  {
   "cell_type": "markdown",
   "metadata": {},
   "source": [
    "Let us begin with the small dataset and a hamming distance of 1 (the only one it allows given the shapes of the release and universe dataset)"
   ]
  },
  {
   "cell_type": "code",
   "execution_count": 19,
   "metadata": {},
   "outputs": [
    {
     "data": {
      "text/html": [
       "<div>\n",
       "<style scoped>\n",
       "    .dataframe tbody tr th:only-of-type {\n",
       "        vertical-align: middle;\n",
       "    }\n",
       "\n",
       "    .dataframe tbody tr th {\n",
       "        vertical-align: top;\n",
       "    }\n",
       "\n",
       "    .dataframe thead th {\n",
       "        text-align: right;\n",
       "    }\n",
       "</style>\n",
       "<table border=\"1\" class=\"dataframe\">\n",
       "  <thead>\n",
       "    <tr style=\"text-align: right;\">\n",
       "      <th></th>\n",
       "      <th>name</th>\n",
       "      <th>school_year</th>\n",
       "      <th>absence_days</th>\n",
       "    </tr>\n",
       "  </thead>\n",
       "  <tbody>\n",
       "    <tr>\n",
       "      <th>0</th>\n",
       "      <td>Chris</td>\n",
       "      <td>1</td>\n",
       "      <td>1</td>\n",
       "    </tr>\n",
       "    <tr>\n",
       "      <th>1</th>\n",
       "      <td>Kelly</td>\n",
       "      <td>2</td>\n",
       "      <td>2</td>\n",
       "    </tr>\n",
       "    <tr>\n",
       "      <th>2</th>\n",
       "      <td>Pat</td>\n",
       "      <td>3</td>\n",
       "      <td>3</td>\n",
       "    </tr>\n",
       "  </tbody>\n",
       "</table>\n",
       "</div>"
      ],
      "text/plain": [
       "    name  school_year  absence_days\n",
       "0  Chris            1             1\n",
       "1  Kelly            2             2\n",
       "2    Pat            3             3"
      ]
     },
     "execution_count": 19,
     "metadata": {},
     "output_type": "execute_result"
    }
   ],
   "source": [
    "D_a_small_release"
   ]
  },
  {
   "cell_type": "code",
   "execution_count": 20,
   "metadata": {},
   "outputs": [
    {
     "data": {
      "text/html": [
       "<div>\n",
       "<style scoped>\n",
       "    .dataframe tbody tr th:only-of-type {\n",
       "        vertical-align: middle;\n",
       "    }\n",
       "\n",
       "    .dataframe tbody tr th {\n",
       "        vertical-align: top;\n",
       "    }\n",
       "\n",
       "    .dataframe thead th {\n",
       "        text-align: right;\n",
       "    }\n",
       "</style>\n",
       "<table border=\"1\" class=\"dataframe\">\n",
       "  <thead>\n",
       "    <tr style=\"text-align: right;\">\n",
       "      <th></th>\n",
       "      <th>name</th>\n",
       "      <th>school_year</th>\n",
       "      <th>absence_days</th>\n",
       "    </tr>\n",
       "  </thead>\n",
       "  <tbody>\n",
       "    <tr>\n",
       "      <th>0</th>\n",
       "      <td>Chris</td>\n",
       "      <td>1</td>\n",
       "      <td>1</td>\n",
       "    </tr>\n",
       "    <tr>\n",
       "      <th>1</th>\n",
       "      <td>Kelly</td>\n",
       "      <td>2</td>\n",
       "      <td>2</td>\n",
       "    </tr>\n",
       "    <tr>\n",
       "      <th>2</th>\n",
       "      <td>Pat</td>\n",
       "      <td>3</td>\n",
       "      <td>3</td>\n",
       "    </tr>\n",
       "    <tr>\n",
       "      <th>3</th>\n",
       "      <td>Terry</td>\n",
       "      <td>4</td>\n",
       "      <td>10</td>\n",
       "    </tr>\n",
       "  </tbody>\n",
       "</table>\n",
       "</div>"
      ],
      "text/plain": [
       "    name  school_year  absence_days\n",
       "0  Chris            1             1\n",
       "1  Kelly            2             2\n",
       "2    Pat            3             3\n",
       "3  Terry            4            10"
      ]
     },
     "execution_count": 20,
     "metadata": {},
     "output_type": "execute_result"
    }
   ],
   "source": [
    "D_a_small_universe"
   ]
  },
  {
   "cell_type": "code",
   "execution_count": 21,
   "metadata": {},
   "outputs": [
    {
     "data": {
      "text/plain": [
       "1.9"
      ]
     },
     "execution_count": 21,
     "metadata": {},
     "output_type": "execute_result"
    }
   ],
   "source": [
    "np.percentile((1, 2), 90)"
   ]
  },
  {
   "cell_type": "code",
   "execution_count": 22,
   "metadata": {},
   "outputs": [
    {
     "name": "stdout",
     "output_type": "stream",
     "text": [
      "Unbounded sensitivities for mean {'school_year': 0.8333333333333335, 'absence_days': 2.833333333333333}\n",
      "Unbounded sensitivities for median {'school_year': 1.0, 'absence_days': 4.0}\n",
      "Unbounded sensitivities for count {'school_year': 1, 'absence_days': 1}\n",
      "Unbounded sensitivities for sum {'school_year': 4, 'absence_days': 10}\n",
      "Unbounded sensitivities for std {'school_year': 0.747219128924647, 'absence_days': 3.5276819911981905}\n",
      "Unbounded sensitivities for var {'school_year': 1.3055555555555554, 'absence_days': 15.972222222222221}\n",
      "Unbounded sensitivities for percentile 25 {'school_year': 1.25, 'absence_days': 2.75}\n",
      "Unbounded sensitivities for percentile 50 {'school_year': 1.0, 'absence_days': 4.0}\n",
      "Unbounded sensitivities for percentile 75 {'school_year': 1.25, 'absence_days': 4.25}\n",
      "Unbounded sensitivities for percentile 90 {'school_year': 1.7000000000000002, 'absence_days': 6.5}\n"
     ]
    },
    {
     "data": {
      "text/plain": [
       "''"
      ]
     },
     "execution_count": 22,
     "metadata": {},
     "output_type": "execute_result"
    }
   ],
   "source": [
    "columns = ['school_year', 'absence_days']\n",
    "hamming_distance = 1\n",
    "unbounded_sensitivities = {}\n",
    "calculate_unbounded_sensitivities(D_a_small_universe, D_a_small_release.shape[0], columns, hamming_distance, unbounded_sensitivities)\n",
    ";"
   ]
  },
  {
   "cell_type": "markdown",
   "metadata": {},
   "source": [
    "My function works as intended for the benchmark dataset. The results for mean and median are the same as in the paper.  The paper does not deal with other types of queries. (We also get the percentile 50 to cross-check with the median)"
   ]
  },
  {
   "cell_type": "markdown",
   "metadata": {},
   "source": [
    "Let us continue with the large dataset and a hamming distance of 1. Also, we will create a dictionary to save the sensitivity values with the hamming distances as keys."
   ]
  },
  {
   "cell_type": "code",
   "execution_count": 23,
   "metadata": {},
   "outputs": [
    {
     "data": {
      "text/html": [
       "<div>\n",
       "<style scoped>\n",
       "    .dataframe tbody tr th:only-of-type {\n",
       "        vertical-align: middle;\n",
       "    }\n",
       "\n",
       "    .dataframe tbody tr th {\n",
       "        vertical-align: top;\n",
       "    }\n",
       "\n",
       "    .dataframe thead th {\n",
       "        text-align: right;\n",
       "    }\n",
       "</style>\n",
       "<table border=\"1\" class=\"dataframe\">\n",
       "  <thead>\n",
       "    <tr style=\"text-align: right;\">\n",
       "      <th></th>\n",
       "      <th>name</th>\n",
       "      <th>school_year</th>\n",
       "      <th>absence_days</th>\n",
       "    </tr>\n",
       "  </thead>\n",
       "  <tbody>\n",
       "    <tr>\n",
       "      <th>0</th>\n",
       "      <td>Chris</td>\n",
       "      <td>1</td>\n",
       "      <td>1</td>\n",
       "    </tr>\n",
       "    <tr>\n",
       "      <th>1</th>\n",
       "      <td>Kelly</td>\n",
       "      <td>2</td>\n",
       "      <td>2</td>\n",
       "    </tr>\n",
       "    <tr>\n",
       "      <th>2</th>\n",
       "      <td>Keny</td>\n",
       "      <td>2</td>\n",
       "      <td>3</td>\n",
       "    </tr>\n",
       "    <tr>\n",
       "      <th>3</th>\n",
       "      <td>Sherry</td>\n",
       "      <td>2</td>\n",
       "      <td>4</td>\n",
       "    </tr>\n",
       "    <tr>\n",
       "      <th>4</th>\n",
       "      <td>Jerry</td>\n",
       "      <td>5</td>\n",
       "      <td>5</td>\n",
       "    </tr>\n",
       "    <tr>\n",
       "      <th>5</th>\n",
       "      <td>Morty</td>\n",
       "      <td>5</td>\n",
       "      <td>6</td>\n",
       "    </tr>\n",
       "    <tr>\n",
       "      <th>6</th>\n",
       "      <td>Beth</td>\n",
       "      <td>7</td>\n",
       "      <td>7</td>\n",
       "    </tr>\n",
       "    <tr>\n",
       "      <th>7</th>\n",
       "      <td>Summer</td>\n",
       "      <td>8</td>\n",
       "      <td>8</td>\n",
       "    </tr>\n",
       "    <tr>\n",
       "      <th>8</th>\n",
       "      <td>Squanchy</td>\n",
       "      <td>9</td>\n",
       "      <td>15</td>\n",
       "    </tr>\n",
       "    <tr>\n",
       "      <th>9</th>\n",
       "      <td>Rick</td>\n",
       "      <td>9</td>\n",
       "      <td>20</td>\n",
       "    </tr>\n",
       "  </tbody>\n",
       "</table>\n",
       "</div>"
      ],
      "text/plain": [
       "       name  school_year  absence_days\n",
       "0     Chris            1             1\n",
       "1     Kelly            2             2\n",
       "2      Keny            2             3\n",
       "3    Sherry            2             4\n",
       "4     Jerry            5             5\n",
       "5     Morty            5             6\n",
       "6      Beth            7             7\n",
       "7    Summer            8             8\n",
       "8  Squanchy            9            15\n",
       "9      Rick            9            20"
      ]
     },
     "execution_count": 23,
     "metadata": {},
     "output_type": "execute_result"
    }
   ],
   "source": [
    "D_a_large_universe"
   ]
  },
  {
   "cell_type": "code",
   "execution_count": 24,
   "metadata": {},
   "outputs": [
    {
     "data": {
      "text/html": [
       "<div>\n",
       "<style scoped>\n",
       "    .dataframe tbody tr th:only-of-type {\n",
       "        vertical-align: middle;\n",
       "    }\n",
       "\n",
       "    .dataframe tbody tr th {\n",
       "        vertical-align: top;\n",
       "    }\n",
       "\n",
       "    .dataframe thead th {\n",
       "        text-align: right;\n",
       "    }\n",
       "</style>\n",
       "<table border=\"1\" class=\"dataframe\">\n",
       "  <thead>\n",
       "    <tr style=\"text-align: right;\">\n",
       "      <th></th>\n",
       "      <th>name</th>\n",
       "      <th>school_year</th>\n",
       "      <th>absence_days</th>\n",
       "    </tr>\n",
       "  </thead>\n",
       "  <tbody>\n",
       "    <tr>\n",
       "      <th>0</th>\n",
       "      <td>Chris</td>\n",
       "      <td>1</td>\n",
       "      <td>1</td>\n",
       "    </tr>\n",
       "    <tr>\n",
       "      <th>1</th>\n",
       "      <td>Kelly</td>\n",
       "      <td>2</td>\n",
       "      <td>2</td>\n",
       "    </tr>\n",
       "    <tr>\n",
       "      <th>2</th>\n",
       "      <td>Keny</td>\n",
       "      <td>2</td>\n",
       "      <td>3</td>\n",
       "    </tr>\n",
       "    <tr>\n",
       "      <th>3</th>\n",
       "      <td>Sherry</td>\n",
       "      <td>2</td>\n",
       "      <td>4</td>\n",
       "    </tr>\n",
       "    <tr>\n",
       "      <th>4</th>\n",
       "      <td>Jerry</td>\n",
       "      <td>5</td>\n",
       "      <td>5</td>\n",
       "    </tr>\n",
       "    <tr>\n",
       "      <th>5</th>\n",
       "      <td>Morty</td>\n",
       "      <td>5</td>\n",
       "      <td>6</td>\n",
       "    </tr>\n",
       "  </tbody>\n",
       "</table>\n",
       "</div>"
      ],
      "text/plain": [
       "     name  school_year  absence_days\n",
       "0   Chris            1             1\n",
       "1   Kelly            2             2\n",
       "2    Keny            2             3\n",
       "3  Sherry            2             4\n",
       "4   Jerry            5             5\n",
       "5   Morty            5             6"
      ]
     },
     "execution_count": 24,
     "metadata": {},
     "output_type": "execute_result"
    }
   ],
   "source": [
    "D_a_large_release"
   ]
  },
  {
   "cell_type": "code",
   "execution_count": 25,
   "metadata": {},
   "outputs": [
    {
     "name": "stdout",
     "output_type": "stream",
     "text": [
      "Hamming distance =  1\n",
      "Unbounded sensitivities for mean {'school_year': 1.1, 'absence_days': 2.833333333333333}\n",
      "Unbounded sensitivities for median {'school_year': 3.0, 'absence_days': 2.5}\n",
      "Unbounded sensitivities for count {'school_year': 1, 'absence_days': 1}\n",
      "Unbounded sensitivities for sum {'school_year': 9, 'absence_days': 20}\n",
      "Unbounded sensitivities for std {'school_year': 1.3973192770179974, 'absence_days': 5.051508018050513}\n",
      "Unbounded sensitivities for var {'school_year': 5.743333333333333, 'absence_days': 39.805555555555564}\n",
      "Unbounded sensitivities for percentile 25 {'school_year': 3.75, 'absence_days': 3.75}\n",
      "Unbounded sensitivities for percentile 50 {'school_year': 3.0, 'absence_days': 2.5}\n",
      "Unbounded sensitivities for percentile 75 {'school_year': 5.25, 'absence_days': 8.25}\n",
      "Unbounded sensitivities for percentile 90 {'school_year': 3.1999999999999997, 'absence_days': 7.9}\n",
      "Hamming distance =  2\n",
      "Unbounded sensitivities for mean {'school_year': 2.416666666666667, 'absence_days': 5.0}\n",
      "Unbounded sensitivities for median {'school_year': 3.5, 'absence_days': 6.0}\n",
      "Unbounded sensitivities for count {'school_year': 2, 'absence_days': 2}\n",
      "Unbounded sensitivities for sum {'school_year': 18, 'absence_days': 35}\n",
      "Unbounded sensitivities for std {'school_year': 3.0029086527891646, 'absence_days': 6.156350292181837}\n",
      "Unbounded sensitivities for var {'school_year': 11.618055555555557, 'absence_days': 51.666666666666664}\n",
      "Unbounded sensitivities for percentile 25 {'school_year': 4.5, 'absence_days': 4.5}\n",
      "Unbounded sensitivities for percentile 50 {'school_year': 3.5, 'absence_days': 6.0}\n",
      "Unbounded sensitivities for percentile 75 {'school_year': 5.25, 'absence_days': 9.0}\n",
      "Unbounded sensitivities for percentile 90 {'school_year': 7.0, 'absence_days': 13.8}\n",
      "Hamming distance =  3\n",
      "Unbounded sensitivities for mean {'school_year': 3.5, 'absence_days': 6.166666666666668}\n",
      "Unbounded sensitivities for median {'school_year': 7.0, 'absence_days': 11.5}\n",
      "Unbounded sensitivities for count {'school_year': 3, 'absence_days': 3}\n",
      "Unbounded sensitivities for sum {'school_year': 26, 'absence_days': 43}\n",
      "Unbounded sensitivities for std {'school_year': 3.435921354681384, 'absence_days': 6.457887700004005}\n",
      "Unbounded sensitivities for var {'school_year': 12.250000000000002, 'absence_days': 52.25}\n",
      "Unbounded sensitivities for percentile 25 {'school_year': 6.5, 'absence_days': 9.25}\n",
      "Unbounded sensitivities for percentile 50 {'school_year': 7.0, 'absence_days': 11.5}\n",
      "Unbounded sensitivities for percentile 75 {'school_year': 6.75, 'absence_days': 10.75}\n",
      "Unbounded sensitivities for percentile 90 {'school_year': 7.0, 'absence_days': 14.7}\n",
      "Hamming distance =  4\n",
      "Unbounded sensitivities for mean {'school_year': 4.833333333333333, 'absence_days': 10.0}\n",
      "Unbounded sensitivities for median {'school_year': 7.0, 'absence_days': 14.0}\n",
      "Unbounded sensitivities for count {'school_year': 4, 'absence_days': 4}\n",
      "Unbounded sensitivities for sum {'school_year': 33, 'absence_days': 50}\n",
      "Unbounded sensitivities for std {'school_year': 3.531603350069515, 'absence_days': 6.774384280931732}\n",
      "Unbounded sensitivities for var {'school_year': 12.472222222222223, 'absence_days': 55.77777777777778}\n",
      "Unbounded sensitivities for percentile 25 {'school_year': 7.0, 'absence_days': 14.0}\n",
      "Unbounded sensitivities for percentile 50 {'school_year': 7.0, 'absence_days': 14.0}\n",
      "Unbounded sensitivities for percentile 75 {'school_year': 7.0, 'absence_days': 11.5}\n",
      "Unbounded sensitivities for percentile 90 {'school_year': 7.1, 'absence_days': 15.6}\n"
     ]
    }
   ],
   "source": [
    "columns = ['school_year', 'absence_days']\n",
    "hamming_distances = [1, 2, 3, 4]\n",
    "unbounded_sensitivities = {}\n",
    "\n",
    "for hamming_distance in hamming_distances:\n",
    "    \n",
    "    print('Hamming distance = ', hamming_distance)\n",
    "    unbounded_sensitivities = calculate_unbounded_sensitivities(D_a_large_universe, D_a_large_release.shape[0], columns, hamming_distance, unbounded_sensitivities)\n",
    "    "
   ]
  },
  {
   "cell_type": "markdown",
   "metadata": {},
   "source": [
    "### Visualization"
   ]
  },
  {
   "cell_type": "code",
   "execution_count": 26,
   "metadata": {},
   "outputs": [
    {
     "data": {
      "image/png": "[encoded data removed]",
      "text/plain": [
       "<Figure size 1080x504 with 2 Axes>"
      ]
     },
     "metadata": {
      "needs_background": "light"
     },
     "output_type": "display_data"
    },
    {
     "data": {
      "text/plain": [
       "''"
      ]
     },
     "execution_count": 26,
     "metadata": {},
     "output_type": "execute_result"
    }
   ],
   "source": [
    "plt.figure(figsize=(15, 7))\n",
    " \n",
    "query_types = ['mean', 'median', 'count', 'sum', 'std', 'var', 'percentile_25', 'percentile_50', 'percentile_75', 'percentile_90']\n",
    "\n",
    "x_values = []\n",
    "for key in unbounded_sensitivities.keys():\n",
    "    \n",
    "    x_values.append(key)\n",
    "    \n",
    "for inedx_column, column in enumerate(columns):\n",
    "    \n",
    "    # Start the plot\n",
    "    plot_index = int(str(1) + str(len(columns)) + str(inedx_column+1))\n",
    "    plt.subplot(plot_index)\n",
    "    \n",
    "    query_type_legend_handles = []\n",
    "    for query_type in query_types:\n",
    "        \n",
    "        y_values = []\n",
    "        for hamming_distance in unbounded_sensitivities.keys():\n",
    "                           \n",
    "            y_values.append(unbounded_sensitivities[hamming_distance][query_type][column])   \n",
    "            \n",
    "        # plot the sensitivities\n",
    "        legend_handle, = plt.plot(x_values, y_values, label=query_type)\n",
    "        query_type_legend_handles.append(legend_handle)\n",
    "        \n",
    "    # Legends\n",
    "    legend = plt.legend(handles=query_type_legend_handles, bbox_to_anchor=(0., -0.2, 1., .102), \\\n",
    "                        ncol=5, mode=\"expand\", borderaxespad=0.)\n",
    "    ax = plt.gca().add_artist(legend)\n",
    "    \n",
    "    # axis labels and titles\n",
    "    plt.xlabel('Hamming distance')\n",
    "    plt.ylabel('Sensitivity')\n",
    "    plt.title('{}) Universe Domain {} = {}'.format(inedx_column+1, column, D_a_large_universe[column].values))\n",
    "\n",
    "plt.suptitle('Sensitivities based on unbounded DP of different queries for different domains for different hamming distances')\n",
    "plt.show()\n",
    ";"
   ]
  },
  {
   "cell_type": "markdown",
   "metadata": {},
   "source": [
    "### Bounded sensitivity - Scenario a"
   ]
  },
  {
   "cell_type": "markdown",
   "metadata": {},
   "source": [
    "Let us begin with the small dataset and a hamming distance of 1 (the only one it allows given the shapes of the release and universe dataset)"
   ]
  },
  {
   "cell_type": "code",
   "execution_count": 27,
   "metadata": {},
   "outputs": [
    {
     "data": {
      "text/html": [
       "<div>\n",
       "<style scoped>\n",
       "    .dataframe tbody tr th:only-of-type {\n",
       "        vertical-align: middle;\n",
       "    }\n",
       "\n",
       "    .dataframe tbody tr th {\n",
       "        vertical-align: top;\n",
       "    }\n",
       "\n",
       "    .dataframe thead th {\n",
       "        text-align: right;\n",
       "    }\n",
       "</style>\n",
       "<table border=\"1\" class=\"dataframe\">\n",
       "  <thead>\n",
       "    <tr style=\"text-align: right;\">\n",
       "      <th></th>\n",
       "      <th>name</th>\n",
       "      <th>school_year</th>\n",
       "      <th>absence_days</th>\n",
       "    </tr>\n",
       "  </thead>\n",
       "  <tbody>\n",
       "    <tr>\n",
       "      <th>0</th>\n",
       "      <td>Chris</td>\n",
       "      <td>1</td>\n",
       "      <td>1</td>\n",
       "    </tr>\n",
       "    <tr>\n",
       "      <th>1</th>\n",
       "      <td>Kelly</td>\n",
       "      <td>2</td>\n",
       "      <td>2</td>\n",
       "    </tr>\n",
       "    <tr>\n",
       "      <th>2</th>\n",
       "      <td>Pat</td>\n",
       "      <td>3</td>\n",
       "      <td>3</td>\n",
       "    </tr>\n",
       "  </tbody>\n",
       "</table>\n",
       "</div>"
      ],
      "text/plain": [
       "    name  school_year  absence_days\n",
       "0  Chris            1             1\n",
       "1  Kelly            2             2\n",
       "2    Pat            3             3"
      ]
     },
     "execution_count": 27,
     "metadata": {},
     "output_type": "execute_result"
    }
   ],
   "source": [
    "D_a_small_release"
   ]
  },
  {
   "cell_type": "code",
   "execution_count": 28,
   "metadata": {},
   "outputs": [
    {
     "data": {
      "text/html": [
       "<div>\n",
       "<style scoped>\n",
       "    .dataframe tbody tr th:only-of-type {\n",
       "        vertical-align: middle;\n",
       "    }\n",
       "\n",
       "    .dataframe tbody tr th {\n",
       "        vertical-align: top;\n",
       "    }\n",
       "\n",
       "    .dataframe thead th {\n",
       "        text-align: right;\n",
       "    }\n",
       "</style>\n",
       "<table border=\"1\" class=\"dataframe\">\n",
       "  <thead>\n",
       "    <tr style=\"text-align: right;\">\n",
       "      <th></th>\n",
       "      <th>name</th>\n",
       "      <th>school_year</th>\n",
       "      <th>absence_days</th>\n",
       "    </tr>\n",
       "  </thead>\n",
       "  <tbody>\n",
       "    <tr>\n",
       "      <th>0</th>\n",
       "      <td>Chris</td>\n",
       "      <td>1</td>\n",
       "      <td>1</td>\n",
       "    </tr>\n",
       "    <tr>\n",
       "      <th>1</th>\n",
       "      <td>Kelly</td>\n",
       "      <td>2</td>\n",
       "      <td>2</td>\n",
       "    </tr>\n",
       "    <tr>\n",
       "      <th>2</th>\n",
       "      <td>Pat</td>\n",
       "      <td>3</td>\n",
       "      <td>3</td>\n",
       "    </tr>\n",
       "    <tr>\n",
       "      <th>3</th>\n",
       "      <td>Terry</td>\n",
       "      <td>4</td>\n",
       "      <td>10</td>\n",
       "    </tr>\n",
       "  </tbody>\n",
       "</table>\n",
       "</div>"
      ],
      "text/plain": [
       "    name  school_year  absence_days\n",
       "0  Chris            1             1\n",
       "1  Kelly            2             2\n",
       "2    Pat            3             3\n",
       "3  Terry            4            10"
      ]
     },
     "execution_count": 28,
     "metadata": {},
     "output_type": "execute_result"
    }
   ],
   "source": [
    "D_a_small_universe"
   ]
  },
  {
   "cell_type": "code",
   "execution_count": 29,
   "metadata": {},
   "outputs": [
    {
     "data": {
      "text/plain": [
       "1.9"
      ]
     },
     "execution_count": 29,
     "metadata": {},
     "output_type": "execute_result"
    }
   ],
   "source": [
    "np.percentile((1, 2), 90)"
   ]
  },
  {
   "cell_type": "code",
   "execution_count": 30,
   "metadata": {
    "scrolled": true
   },
   "outputs": [
    {
     "name": "stdout",
     "output_type": "stream",
     "text": [
      "Bounded sensitivities for mean {'school_year': 1.0, 'absence_days': 3.0}\n",
      "Bounded sensitivities for median {'school_year': 1.0, 'absence_days': 1.0}\n",
      "Bounded sensitivities for count {'school_year': 0, 'absence_days': 0}\n",
      "Bounded sensitivities for sum {'school_year': 3, 'absence_days': 9}\n",
      "Bounded sensitivities for std {'school_year': 0.430722547996921, 'absence_days': 3.2111854102704642}\n",
      "Bounded sensitivities for var {'school_year': 0.8888888888888887, 'absence_days': 15.555555555555555}\n",
      "Bounded sensitivities for percentile 25 {'school_year': 1.0, 'absence_days': 1.0}\n",
      "Bounded sensitivities for percentile 50 {'school_year': 1.0, 'absence_days': 1.0}\n",
      "Bounded sensitivities for percentile 75 {'school_year': 1.0, 'absence_days': 4.0}\n",
      "Bounded sensitivities for percentile 90 {'school_year': 0.9999999999999996, 'absence_days': 5.799999999999999}\n"
     ]
    },
    {
     "data": {
      "text/plain": [
       "''"
      ]
     },
     "execution_count": 30,
     "metadata": {},
     "output_type": "execute_result"
    }
   ],
   "source": [
    "columns = ['school_year', 'absence_days']\n",
    "hamming_distance = 1\n",
    "bounded_sensitivities = {}\n",
    "calculate_bounded_sensitivities(D_a_small_universe, D_a_small_release.shape[0], columns, hamming_distance, bounded_sensitivities)\n",
    ";"
   ]
  },
  {
   "cell_type": "markdown",
   "metadata": {},
   "source": [
    "My function works as intended for the benchmark dataset. The results for mean and median are the same as in the paper.  The paper does not deal with other types of queries. (We also get the percentile 50 to cross-check with the median)"
   ]
  },
  {
   "cell_type": "markdown",
   "metadata": {},
   "source": [
    "Let us continue with the large dataset and a hamming distance of 1. Also, we will create a dictionary to save the sensitivity values with the hamming distances as keys."
   ]
  },
  {
   "cell_type": "code",
   "execution_count": 31,
   "metadata": {},
   "outputs": [
    {
     "data": {
      "text/html": [
       "<div>\n",
       "<style scoped>\n",
       "    .dataframe tbody tr th:only-of-type {\n",
       "        vertical-align: middle;\n",
       "    }\n",
       "\n",
       "    .dataframe tbody tr th {\n",
       "        vertical-align: top;\n",
       "    }\n",
       "\n",
       "    .dataframe thead th {\n",
       "        text-align: right;\n",
       "    }\n",
       "</style>\n",
       "<table border=\"1\" class=\"dataframe\">\n",
       "  <thead>\n",
       "    <tr style=\"text-align: right;\">\n",
       "      <th></th>\n",
       "      <th>name</th>\n",
       "      <th>school_year</th>\n",
       "      <th>absence_days</th>\n",
       "    </tr>\n",
       "  </thead>\n",
       "  <tbody>\n",
       "    <tr>\n",
       "      <th>0</th>\n",
       "      <td>Chris</td>\n",
       "      <td>1</td>\n",
       "      <td>1</td>\n",
       "    </tr>\n",
       "    <tr>\n",
       "      <th>1</th>\n",
       "      <td>Kelly</td>\n",
       "      <td>2</td>\n",
       "      <td>2</td>\n",
       "    </tr>\n",
       "    <tr>\n",
       "      <th>2</th>\n",
       "      <td>Keny</td>\n",
       "      <td>2</td>\n",
       "      <td>3</td>\n",
       "    </tr>\n",
       "    <tr>\n",
       "      <th>3</th>\n",
       "      <td>Sherry</td>\n",
       "      <td>2</td>\n",
       "      <td>4</td>\n",
       "    </tr>\n",
       "    <tr>\n",
       "      <th>4</th>\n",
       "      <td>Jerry</td>\n",
       "      <td>5</td>\n",
       "      <td>5</td>\n",
       "    </tr>\n",
       "    <tr>\n",
       "      <th>5</th>\n",
       "      <td>Morty</td>\n",
       "      <td>5</td>\n",
       "      <td>6</td>\n",
       "    </tr>\n",
       "    <tr>\n",
       "      <th>6</th>\n",
       "      <td>Beth</td>\n",
       "      <td>7</td>\n",
       "      <td>7</td>\n",
       "    </tr>\n",
       "    <tr>\n",
       "      <th>7</th>\n",
       "      <td>Summer</td>\n",
       "      <td>8</td>\n",
       "      <td>8</td>\n",
       "    </tr>\n",
       "    <tr>\n",
       "      <th>8</th>\n",
       "      <td>Squanchy</td>\n",
       "      <td>9</td>\n",
       "      <td>15</td>\n",
       "    </tr>\n",
       "    <tr>\n",
       "      <th>9</th>\n",
       "      <td>Rick</td>\n",
       "      <td>9</td>\n",
       "      <td>20</td>\n",
       "    </tr>\n",
       "  </tbody>\n",
       "</table>\n",
       "</div>"
      ],
      "text/plain": [
       "       name  school_year  absence_days\n",
       "0     Chris            1             1\n",
       "1     Kelly            2             2\n",
       "2      Keny            2             3\n",
       "3    Sherry            2             4\n",
       "4     Jerry            5             5\n",
       "5     Morty            5             6\n",
       "6      Beth            7             7\n",
       "7    Summer            8             8\n",
       "8  Squanchy            9            15\n",
       "9      Rick            9            20"
      ]
     },
     "execution_count": 31,
     "metadata": {},
     "output_type": "execute_result"
    }
   ],
   "source": [
    "D_a_large_universe"
   ]
  },
  {
   "cell_type": "code",
   "execution_count": 32,
   "metadata": {},
   "outputs": [
    {
     "data": {
      "text/html": [
       "<div>\n",
       "<style scoped>\n",
       "    .dataframe tbody tr th:only-of-type {\n",
       "        vertical-align: middle;\n",
       "    }\n",
       "\n",
       "    .dataframe tbody tr th {\n",
       "        vertical-align: top;\n",
       "    }\n",
       "\n",
       "    .dataframe thead th {\n",
       "        text-align: right;\n",
       "    }\n",
       "</style>\n",
       "<table border=\"1\" class=\"dataframe\">\n",
       "  <thead>\n",
       "    <tr style=\"text-align: right;\">\n",
       "      <th></th>\n",
       "      <th>name</th>\n",
       "      <th>school_year</th>\n",
       "      <th>absence_days</th>\n",
       "    </tr>\n",
       "  </thead>\n",
       "  <tbody>\n",
       "    <tr>\n",
       "      <th>0</th>\n",
       "      <td>Chris</td>\n",
       "      <td>1</td>\n",
       "      <td>1</td>\n",
       "    </tr>\n",
       "    <tr>\n",
       "      <th>1</th>\n",
       "      <td>Kelly</td>\n",
       "      <td>2</td>\n",
       "      <td>2</td>\n",
       "    </tr>\n",
       "    <tr>\n",
       "      <th>2</th>\n",
       "      <td>Keny</td>\n",
       "      <td>2</td>\n",
       "      <td>3</td>\n",
       "    </tr>\n",
       "    <tr>\n",
       "      <th>3</th>\n",
       "      <td>Sherry</td>\n",
       "      <td>2</td>\n",
       "      <td>4</td>\n",
       "    </tr>\n",
       "    <tr>\n",
       "      <th>4</th>\n",
       "      <td>Jerry</td>\n",
       "      <td>5</td>\n",
       "      <td>5</td>\n",
       "    </tr>\n",
       "    <tr>\n",
       "      <th>5</th>\n",
       "      <td>Morty</td>\n",
       "      <td>5</td>\n",
       "      <td>6</td>\n",
       "    </tr>\n",
       "  </tbody>\n",
       "</table>\n",
       "</div>"
      ],
      "text/plain": [
       "     name  school_year  absence_days\n",
       "0   Chris            1             1\n",
       "1   Kelly            2             2\n",
       "2    Keny            2             3\n",
       "3  Sherry            2             4\n",
       "4   Jerry            5             5\n",
       "5   Morty            5             6"
      ]
     },
     "execution_count": 32,
     "metadata": {},
     "output_type": "execute_result"
    }
   ],
   "source": [
    "D_a_large_release"
   ]
  },
  {
   "cell_type": "code",
   "execution_count": 33,
   "metadata": {},
   "outputs": [
    {
     "name": "stdout",
     "output_type": "stream",
     "text": [
      "Hamming distance =  1\n",
      "Bounded sensitivities for mean {'school_year': 1.333333333333334, 'absence_days': 3.166666666666667}\n",
      "Bounded sensitivities for median {'school_year': 3.0, 'absence_days': 2.5}\n",
      "Bounded sensitivities for count {'school_year': 0, 'absence_days': 0}\n",
      "Bounded sensitivities for sum {'school_year': 8, 'absence_days': 19}\n",
      "Bounded sensitivities for std {'school_year': 1.1814550849669505, 'absence_days': 4.757896452763675}\n",
      "Bounded sensitivities for var {'school_year': 5.333333333333332, 'absence_days': 38.8888888888889}\n",
      "Bounded sensitivities for percentile 25 {'school_year': 2.75, 'absence_days': 3.25}\n",
      "Bounded sensitivities for percentile 50 {'school_year': 3.0, 'absence_days': 2.5}\n",
      "Bounded sensitivities for percentile 75 {'school_year': 3.75, 'absence_days': 7.75}\n",
      "Bounded sensitivities for percentile 90 {'school_year': 2.0, 'absence_days': 7.5}\n",
      "Hamming distance =  2\n",
      "Bounded sensitivities for mean {'school_year': 2.5000000000000004, 'absence_days': 5.333333333333334}\n",
      "Bounded sensitivities for median {'school_year': 5.5, 'absence_days': 4.0}\n",
      "Bounded sensitivities for count {'school_year': 0, 'absence_days': 0}\n",
      "Bounded sensitivities for sum {'school_year': 15, 'absence_days': 32}\n",
      "Bounded sensitivities for std {'school_year': 1.8635911660052833, 'absence_days': 5.566559153271799}\n",
      "Bounded sensitivities for var {'school_year': 9.333333333333336, 'absence_days': 50.0}\n",
      "Bounded sensitivities for percentile 25 {'school_year': 3.5, 'absence_days': 4.0}\n",
      "Bounded sensitivities for percentile 50 {'school_year': 5.5, 'absence_days': 4.0}\n",
      "Bounded sensitivities for percentile 75 {'school_year': 4.5, 'absence_days': 8.5}\n",
      "Bounded sensitivities for percentile 90 {'school_year': 4.0, 'absence_days': 12.0}\n",
      "Hamming distance =  3\n",
      "Bounded sensitivities for mean {'school_year': 3.5000000000000004, 'absence_days': 6.166666666666668}\n",
      "Bounded sensitivities for median {'school_year': 5.5, 'absence_days': 4.0}\n",
      "Bounded sensitivities for count {'school_year': 0, 'absence_days': 0}\n",
      "Bounded sensitivities for sum {'school_year': 21, 'absence_days': 37}\n",
      "Bounded sensitivities for std {'school_year': 1.9592731613934147, 'absence_days': 5.566559153271799}\n",
      "Bounded sensitivities for var {'school_year': 10.000000000000002, 'absence_days': 50.0}\n",
      "Bounded sensitivities for percentile 25 {'school_year': 3.5, 'absence_days': 4.0}\n",
      "Bounded sensitivities for percentile 50 {'school_year': 5.5, 'absence_days': 4.0}\n",
      "Bounded sensitivities for percentile 75 {'school_year': 4.5, 'absence_days': 8.5}\n",
      "Bounded sensitivities for percentile 90 {'school_year': 4.0, 'absence_days': 12.0}\n",
      "Hamming distance =  4\n",
      "Bounded sensitivities for mean {'school_year': 4.333333333333334, 'absence_days': 6.666666666666666}\n",
      "Bounded sensitivities for median {'school_year': 5.5, 'absence_days': 4.0}\n",
      "Bounded sensitivities for count {'school_year': 0, 'absence_days': 0}\n",
      "Bounded sensitivities for sum {'school_year': 26, 'absence_days': 40}\n",
      "Bounded sensitivities for std {'school_year': 1.9592731613934147, 'absence_days': 5.566559153271799}\n",
      "Bounded sensitivities for var {'school_year': 10.000000000000002, 'absence_days': 50.0}\n",
      "Bounded sensitivities for percentile 25 {'school_year': 3.5, 'absence_days': 4.0}\n",
      "Bounded sensitivities for percentile 50 {'school_year': 5.5, 'absence_days': 4.0}\n",
      "Bounded sensitivities for percentile 75 {'school_year': 4.5, 'absence_days': 8.5}\n",
      "Bounded sensitivities for percentile 90 {'school_year': 4.0, 'absence_days': 12.0}\n"
     ]
    }
   ],
   "source": [
    "columns = ['school_year', 'absence_days']\n",
    "hamming_distances = [1, 2, 3, 4]\n",
    "bounded_sensitivities = {}\n",
    "\n",
    "for hamming_distance in hamming_distances:\n",
    "    \n",
    "    print('Hamming distance = ', hamming_distance)\n",
    "    bounded_sensitivities = calculate_bounded_sensitivities(D_a_large_universe, D_a_large_release.shape[0], columns, hamming_distance, bounded_sensitivities)\n",
    "    "
   ]
  },
  {
   "cell_type": "markdown",
   "metadata": {},
   "source": [
    "### Visualization"
   ]
  },
  {
   "cell_type": "code",
   "execution_count": 34,
   "metadata": {},
   "outputs": [
    {
     "data": {
      "image/png": "[encoded data removed]",
      "text/plain": [
       "<Figure size 1080x504 with 2 Axes>"
      ]
     },
     "metadata": {
      "needs_background": "light"
     },
     "output_type": "display_data"
    },
    {
     "data": {
      "text/plain": [
       "''"
      ]
     },
     "execution_count": 34,
     "metadata": {},
     "output_type": "execute_result"
    }
   ],
   "source": [
    "plt.figure(figsize=(15, 7))\n",
    " \n",
    "query_types = ['mean', 'median', 'count', 'sum', 'std', 'var', 'percentile_25', 'percentile_50', 'percentile_75', 'percentile_90']\n",
    "\n",
    "x_values = []\n",
    "for key in bounded_sensitivities.keys():\n",
    "    \n",
    "    x_values.append(key)\n",
    "    \n",
    "for inedx_column, column in enumerate(columns):\n",
    "    \n",
    "    # Start the plot\n",
    "    plot_index = int(str(1) + str(len(columns)) + str(inedx_column+1))\n",
    "    plt.subplot(plot_index)\n",
    "    \n",
    "    query_type_legend_handles = []\n",
    "    for query_type in query_types:\n",
    "        \n",
    "        y_values = []\n",
    "        for hamming_distance in bounded_sensitivities.keys():\n",
    "                           \n",
    "            y_values.append(bounded_sensitivities[hamming_distance][query_type][column])   \n",
    "            \n",
    "        # plot the sensitivities\n",
    "        legend_handle, = plt.plot(x_values, y_values, label=query_type)\n",
    "        query_type_legend_handles.append(legend_handle)\n",
    "        \n",
    "    # Legends\n",
    "    legend = plt.legend(handles=query_type_legend_handles, bbox_to_anchor=(0., -0.2, 1., .102), \\\n",
    "                        ncol=5, mode=\"expand\", borderaxespad=0.)\n",
    "    ax = plt.gca().add_artist(legend)\n",
    "    \n",
    "    # axis labels and titles\n",
    "    plt.xlabel('Hamming distance')\n",
    "    plt.ylabel('Sensitivity')\n",
    "    plt.title('{}) Universe Domain {} = {}'.format(inedx_column+1, column, D_a_large_universe[column].values))\n",
    "\n",
    "plt.suptitle('Sensitivities based on bounded DP of different queries for different domains for different hamming distances')\n",
    "plt.show()\n",
    ";"
   ]
  },
  {
   "cell_type": "markdown",
   "metadata": {},
   "source": [
    "We can see that he values are in general smaller in comparison with the unbounded sensitivity. We can also see, that while in the unbounded sensitivity the values keep rising with the hamming distance, in bounded sensitivity they plateau. "
   ]
  },
  {
   "cell_type": "markdown",
   "metadata": {},
   "source": [
    "### Unbounded sensitivity - Scenario b"
   ]
  },
  {
   "cell_type": "markdown",
   "metadata": {},
   "source": [
    "For scenario b, we have one dataset consisting of ranges of possible values. These ranges are bounded by the max and min of the previous datasets."
   ]
  },
  {
   "cell_type": "code",
   "execution_count": 35,
   "metadata": {},
   "outputs": [
    {
     "name": "stdout",
     "output_type": "stream",
     "text": [
      "Cardinality of the release dataset 4\n",
      "Universe:\n"
     ]
    },
    {
     "data": {
      "text/plain": [
       "{'mood': [1, 2, 1, 2, 1, 2, 1, 2],\n",
       " 'driving_proficiency': [1, 2, 3, 1, 2, 3, 1, 2, 3, 1, 2, 3]}"
      ]
     },
     "execution_count": 35,
     "metadata": {},
     "output_type": "execute_result"
    }
   ],
   "source": [
    "print('Cardinality of the release dataset', D_b_release_length)\n",
    "print('Universe:')\n",
    "D_b_universe"
   ]
  },
  {
   "cell_type": "markdown",
   "metadata": {},
   "source": [
    "You have to be mindful that for these particular universes, you could use different hamming distances, as the number of elements varies between your columns. In this case we would stick with the most restrictive column and use the same hamming distances as in the previous experiments."
   ]
  },
  {
   "cell_type": "code",
   "execution_count": 36,
   "metadata": {},
   "outputs": [
    {
     "name": "stdout",
     "output_type": "stream",
     "text": [
      "Hamming distance =  1\n",
      "Unbounded sensitivities for mean {'mood': 0.25, 'driving_proficiency': 0.5}\n",
      "Unbounded sensitivities for median {'mood': 0.5, 'driving_proficiency': 1.0}\n",
      "Unbounded sensitivities for count {'mood': 1, 'driving_proficiency': 1}\n",
      "Unbounded sensitivities for sum {'mood': 2, 'driving_proficiency': 3}\n",
      "Unbounded sensitivities for std {'mood': 0.4330127018922193, 'driving_proficiency': 0.8660254037844386}\n",
      "Unbounded sensitivities for var {'mood': 0.1875, 'driving_proficiency': 0.75}\n",
      "Unbounded sensitivities for percentile 25 {'mood': 0.75, 'driving_proficiency': 1.5}\n",
      "Unbounded sensitivities for percentile 50 {'mood': 0.5, 'driving_proficiency': 1.0}\n",
      "Unbounded sensitivities for percentile 75 {'mood': 0.75, 'driving_proficiency': 1.5}\n",
      "Unbounded sensitivities for percentile 90 {'mood': 0.7000000000000002, 'driving_proficiency': 1.4000000000000004}\n",
      "Hamming distance =  2\n",
      "Unbounded sensitivities for mean {'mood': 0.5, 'driving_proficiency': 1.0}\n",
      "Unbounded sensitivities for median {'mood': 0.5, 'driving_proficiency': 1.0}\n",
      "Unbounded sensitivities for count {'mood': 2, 'driving_proficiency': 2}\n",
      "Unbounded sensitivities for sum {'mood': 4, 'driving_proficiency': 6}\n",
      "Unbounded sensitivities for std {'mood': 0.5, 'driving_proficiency': 1.0}\n",
      "Unbounded sensitivities for var {'mood': 0.25, 'driving_proficiency': 1.0}\n",
      "Unbounded sensitivities for percentile 25 {'mood': 1.0, 'driving_proficiency': 2.0}\n",
      "Unbounded sensitivities for percentile 50 {'mood': 0.5, 'driving_proficiency': 1.0}\n",
      "Unbounded sensitivities for percentile 75 {'mood': 1.0, 'driving_proficiency': 2.0}\n",
      "Unbounded sensitivities for percentile 90 {'mood': 1.0, 'driving_proficiency': 2.0}\n",
      "Hamming distance =  3\n",
      "Unbounded sensitivities for mean {'mood': 0.75, 'driving_proficiency': 1.5}\n",
      "Unbounded sensitivities for median {'mood': 1.0, 'driving_proficiency': 2.0}\n",
      "Unbounded sensitivities for count {'mood': 3, 'driving_proficiency': 3}\n",
      "Unbounded sensitivities for sum {'mood': 6, 'driving_proficiency': 9}\n",
      "Unbounded sensitivities for std {'mood': 0.5, 'driving_proficiency': 1.0}\n",
      "Unbounded sensitivities for var {'mood': 0.25, 'driving_proficiency': 1.0}\n",
      "Unbounded sensitivities for percentile 25 {'mood': 1.0, 'driving_proficiency': 2.0}\n",
      "Unbounded sensitivities for percentile 50 {'mood': 1.0, 'driving_proficiency': 2.0}\n",
      "Unbounded sensitivities for percentile 75 {'mood': 1.0, 'driving_proficiency': 2.0}\n",
      "Unbounded sensitivities for percentile 90 {'mood': 1.0, 'driving_proficiency': 2.0}\n"
     ]
    }
   ],
   "source": [
    "columns = ['mood', 'driving_proficiency']\n",
    "\n",
    "hamming_distances = [1, 2, 3]\n",
    "unbounded_sensitivities = {}\n",
    "\n",
    "for hamming_distance in hamming_distances:\n",
    "    \n",
    "    print('Hamming distance = ', hamming_distance)\n",
    "    unbounded_sensitivities = calculate_unbounded_sensitivities(D_b_universe, D_b_release_length, columns, hamming_distance, unbounded_sensitivities)\n",
    "    "
   ]
  },
  {
   "cell_type": "markdown",
   "metadata": {},
   "source": [
    "### Visualization"
   ]
  },
  {
   "cell_type": "code",
   "execution_count": 37,
   "metadata": {},
   "outputs": [
    {
     "data": {
      "image/png": "[encoded data removed]",
      "text/plain": [
       "<Figure size 1080x504 with 2 Axes>"
      ]
     },
     "metadata": {
      "needs_background": "light"
     },
     "output_type": "display_data"
    },
    {
     "data": {
      "text/plain": [
       "''"
      ]
     },
     "execution_count": 37,
     "metadata": {},
     "output_type": "execute_result"
    }
   ],
   "source": [
    "plt.figure(figsize=(15, 7))\n",
    " \n",
    "query_types = ['mean', 'median', 'count', 'sum', 'std', 'var', 'percentile_25', 'percentile_50', 'percentile_75', 'percentile_90']\n",
    "\n",
    "x_values = []\n",
    "for key in unbounded_sensitivities.keys():\n",
    "    \n",
    "    x_values.append(key)\n",
    "    \n",
    "for inedx_column, column in enumerate(columns):\n",
    "    \n",
    "    # Start the plot\n",
    "    plot_index = int(str(1) + str(len(columns)) + str(inedx_column+1))\n",
    "    plt.subplot(plot_index)\n",
    "    \n",
    "    query_type_legend_handles = []\n",
    "    for query_type in query_types:\n",
    "        \n",
    "        y_values = []\n",
    "        for hamming_distance in unbounded_sensitivities.keys():\n",
    "                           \n",
    "            y_values.append(unbounded_sensitivities[hamming_distance][query_type][column])   \n",
    "            \n",
    "        # plot the sensitivities\n",
    "        legend_handle, = plt.plot(x_values, y_values, label=query_type)\n",
    "        query_type_legend_handles.append(legend_handle)\n",
    "        \n",
    "    # Legends\n",
    "    legend = plt.legend(handles=query_type_legend_handles, bbox_to_anchor=(0., -0.2, 1., .102), \\\n",
    "                        ncol=5, mode=\"expand\", borderaxespad=0.)\n",
    "    ax = plt.gca().add_artist(legend)\n",
    "    \n",
    "    # axis labels and titles\n",
    "    plt.xlabel('Hamming distance')\n",
    "    plt.ylabel('Sensitivity')\n",
    "    plt.title('{}) Universe Domain {} = {}'.format(inedx_column+1, column, D_b_universe[column]))\n",
    "\n",
    "plt.suptitle('Sensitivities based on unbounded DP of different queries for different domains for different hamming distances')\n",
    "plt.show()\n",
    ";"
   ]
  },
  {
   "cell_type": "markdown",
   "metadata": {},
   "source": [
    "### Bounded sensitivity - Scenario b"
   ]
  },
  {
   "cell_type": "markdown",
   "metadata": {},
   "source": [
    "This last iteration lasts for too long. Do not run it, I did it for you."
   ]
  },
  {
   "cell_type": "code",
   "execution_count": 38,
   "metadata": {},
   "outputs": [
    {
     "data": {
      "text/plain": [
       "{'mood': [1, 2, 1, 2, 1, 2, 1, 2],\n",
       " 'driving_proficiency': [1, 2, 3, 1, 2, 3, 1, 2, 3, 1, 2, 3]}"
      ]
     },
     "execution_count": 38,
     "metadata": {},
     "output_type": "execute_result"
    }
   ],
   "source": [
    "D_b_universe "
   ]
  },
  {
   "cell_type": "code",
   "execution_count": 39,
   "metadata": {
    "scrolled": false
   },
   "outputs": [
    {
     "name": "stdout",
     "output_type": "stream",
     "text": [
      "Hamming distance =  1\n",
      "Bounded sensitivities for mean {'mood': 0.25, 'driving_proficiency': 0.5}\n",
      "Bounded sensitivities for median {'mood': 0.5, 'driving_proficiency': 1.0}\n",
      "Bounded sensitivities for count {'mood': 0, 'driving_proficiency': 0}\n",
      "Bounded sensitivities for sum {'mood': 1, 'driving_proficiency': 2}\n",
      "Bounded sensitivities for std {'mood': 0.4330127018922193, 'driving_proficiency': 0.8660254037844386}\n",
      "Bounded sensitivities for var {'mood': 0.1875, 'driving_proficiency': 0.75}\n",
      "Bounded sensitivities for percentile 25 {'mood': 0.75, 'driving_proficiency': 1.5}\n",
      "Bounded sensitivities for percentile 50 {'mood': 0.5, 'driving_proficiency': 1.0}\n",
      "Bounded sensitivities for percentile 75 {'mood': 0.75, 'driving_proficiency': 1.5}\n",
      "Bounded sensitivities for percentile 90 {'mood': 0.7000000000000002, 'driving_proficiency': 1.4000000000000004}\n",
      "Hamming distance =  2\n",
      "Bounded sensitivities for mean {'mood': 0.5, 'driving_proficiency': 1.0}\n",
      "Bounded sensitivities for median {'mood': 1.0, 'driving_proficiency': 2.0}\n",
      "Bounded sensitivities for count {'mood': 0, 'driving_proficiency': 0}\n",
      "Bounded sensitivities for sum {'mood': 2, 'driving_proficiency': 4}\n",
      "Bounded sensitivities for std {'mood': 0.5, 'driving_proficiency': 1.0}\n",
      "Bounded sensitivities for var {'mood': 0.25, 'driving_proficiency': 1.0}\n",
      "Bounded sensitivities for percentile 25 {'mood': 1.0, 'driving_proficiency': 2.0}\n",
      "Bounded sensitivities for percentile 50 {'mood': 1.0, 'driving_proficiency': 2.0}\n",
      "Bounded sensitivities for percentile 75 {'mood': 1.0, 'driving_proficiency': 2.0}\n",
      "Bounded sensitivities for percentile 90 {'mood': 1.0, 'driving_proficiency': 2.0}\n",
      "Hamming distance =  3\n",
      "Bounded sensitivities for mean {'mood': 0.75, 'driving_proficiency': 1.5}\n",
      "Bounded sensitivities for median {'mood': 1.0, 'driving_proficiency': 2.0}\n",
      "Bounded sensitivities for count {'mood': 0, 'driving_proficiency': 0}\n",
      "Bounded sensitivities for sum {'mood': 3, 'driving_proficiency': 6}\n",
      "Bounded sensitivities for std {'mood': 0.5, 'driving_proficiency': 1.0}\n",
      "Bounded sensitivities for var {'mood': 0.25, 'driving_proficiency': 1.0}\n",
      "Bounded sensitivities for percentile 25 {'mood': 1.0, 'driving_proficiency': 2.0}\n",
      "Bounded sensitivities for percentile 50 {'mood': 1.0, 'driving_proficiency': 2.0}\n",
      "Bounded sensitivities for percentile 75 {'mood': 1.0, 'driving_proficiency': 2.0}\n",
      "Bounded sensitivities for percentile 90 {'mood': 1.0, 'driving_proficiency': 2.0}\n"
     ]
    }
   ],
   "source": [
    "columns = ['mood', 'driving_proficiency']\n",
    "hamming_distances = [1, 2, 3]\n",
    "bounded_sensitivities = {}\n",
    "\n",
    "for hamming_distance in hamming_distances:\n",
    "    \n",
    "    print('Hamming distance = ', hamming_distance)\n",
    "    bounded_sensitivities = calculate_bounded_sensitivities(D_b_universe, D_b_release_length, columns, hamming_distance, bounded_sensitivities)\n",
    "    "
   ]
  },
  {
   "cell_type": "markdown",
   "metadata": {},
   "source": [
    "### Visualization"
   ]
  },
  {
   "cell_type": "code",
   "execution_count": 40,
   "metadata": {},
   "outputs": [
    {
     "data": {
      "image/png": "[encoded data removed]",
      "text/plain": [
       "<Figure size 1080x504 with 2 Axes>"
      ]
     },
     "metadata": {
      "needs_background": "light"
     },
     "output_type": "display_data"
    },
    {
     "data": {
      "text/plain": [
       "''"
      ]
     },
     "execution_count": 40,
     "metadata": {},
     "output_type": "execute_result"
    }
   ],
   "source": [
    "plt.figure(figsize=(15, 7))\n",
    " \n",
    "query_types = ['mean', 'median', 'count', 'sum', 'std', 'var', 'percentile_25', 'percentile_50', 'percentile_75', 'percentile_90']\n",
    "\n",
    "x_values = []\n",
    "for key in bounded_sensitivities.keys():\n",
    "    \n",
    "    x_values.append(key)\n",
    "    \n",
    "for inedx_column, column in enumerate(columns):\n",
    "    \n",
    "    # Start the plot\n",
    "    plot_index = int(str(1) + str(len(columns)) + str(inedx_column+1))\n",
    "    plt.subplot(plot_index)\n",
    "    \n",
    "    query_type_legend_handles = []\n",
    "    for query_type in query_types:\n",
    "        \n",
    "        y_values = []\n",
    "        for hamming_distance in bounded_sensitivities.keys():\n",
    "                           \n",
    "            y_values.append(bounded_sensitivities[hamming_distance][query_type][column])   \n",
    "            \n",
    "        # plot the sensitivities\n",
    "        legend_handle, = plt.plot(x_values, y_values, label=query_type)\n",
    "        query_type_legend_handles.append(legend_handle)\n",
    "        \n",
    "    # Legends\n",
    "    legend = plt.legend(handles=query_type_legend_handles, bbox_to_anchor=(0., -0.2, 1., .102), \\\n",
    "                        ncol=5, mode=\"expand\", borderaxespad=0.)\n",
    "    ax = plt.gca().add_artist(legend)\n",
    "    \n",
    "    # axis labels and titles\n",
    "    plt.xlabel('Hamming distance')\n",
    "    plt.ylabel('Sensitivity')\n",
    "    plt.title('{}) Universe Domain {} = {}'.format(inedx_column+1, column, D_b_universe[column]))\n",
    "\n",
    "plt.suptitle('Sensitivities based on bounded DP of different queries for different domains for different hamming distances')\n",
    "plt.show()\n",
    ";"
   ]
  }
 ],
 "metadata": {
  "kernelspec": {
   "display_name": "Python 3",
   "language": "python",
   "name": "python3"
  },
  "language_info": {
   "codemirror_mode": {
    "name": "ipython",
    "version": 3
   },
   "file_extension": ".py",
   "mimetype": "text/x-python",
   "name": "python",
   "nbconvert_exporter": "python",
   "pygments_lexer": "ipython3",
   "version": "3.7.6"
  }
 },
 "nbformat": 4,
 "nbformat_minor": 4
}
